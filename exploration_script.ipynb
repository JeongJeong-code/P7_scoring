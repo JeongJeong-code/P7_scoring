{
  "nbformat": 4,
  "nbformat_minor": 0,
  "metadata": {
    "colab": {
      "name": "Untitled6.ipynb",
      "provenance": [],
      "authorship_tag": "ABX9TyMVn6PG1kw7KZ9oKE8ngp0R",
      "include_colab_link": true
    },
    "kernelspec": {
      "name": "python3",
      "display_name": "Python 3"
    },
    "language_info": {
      "name": "python"
    }
  },
  "cells": [
    {
      "cell_type": "markdown",
      "metadata": {
        "id": "view-in-github",
        "colab_type": "text"
      },
      "source": [
        "<a href=\"https://colab.research.google.com/github/JeongJeong-code/P7_scoring/blob/main/exploration_script.ipynb\" target=\"_parent\"><img src=\"https://colab.research.google.com/assets/colab-badge.svg\" alt=\"Open In Colab\"/></a>"
      ]
    },
    {
      "cell_type": "code",
      "execution_count": 9,
      "metadata": {
        "colab": {
          "base_uri": "https://localhost:8080/"
        },
        "id": "fgzzscqMjgeF",
        "outputId": "cdc60de9-1fd2-4144-f5f0-475394508845"
      },
      "outputs": [
        {
          "output_type": "execute_result",
          "data": {
            "text/plain": [
              "<pandas._config.config.option_context at 0x7fae2b9538d0>"
            ]
          },
          "metadata": {},
          "execution_count": 9
        }
      ],
      "source": [
        "import numpy as np\n",
        "import pandas as pd\n",
        "import gc\n",
        "import time\n",
        "from contextlib import contextmanager\n",
        "from lightgbm import LGBMClassifier\n",
        "from sklearn.metrics import roc_auc_score, roc_curve\n",
        "from sklearn.model_selection import KFold, StratifiedKFold\n",
        "import matplotlib.pyplot as plt\n",
        "import seaborn as sns\n",
        "import warnings\n",
        "import re\n",
        "import missingno as mi\n",
        "from IPython.core.interactiveshell import InteractiveShell\n",
        "from google.colab import drive\n",
        "InteractiveShell.ast_node_interactivity = \"all\"\n",
        "pd.option_context('display.max_rows', None, 'display.max_columns', None)"
      ]
    },
    {
      "cell_type": "code",
      "source": [
        "drive.mount('/content/drive')"
      ],
      "metadata": {
        "colab": {
          "base_uri": "https://localhost:8080/"
        },
        "id": "fTdoFrq2kATX",
        "outputId": "936368ca-5994-4627-f0fb-cc5a7f38bbcc"
      },
      "execution_count": 10,
      "outputs": [
        {
          "output_type": "stream",
          "name": "stdout",
          "text": [
            "Drive already mounted at /content/drive; to attempt to forcibly remount, call drive.mount(\"/content/drive\", force_remount=True).\n"
          ]
        }
      ]
    },
    {
      "cell_type": "code",
      "source": [
        "path =r'/content/drive/MyDrive/P7_scoring/'\n",
        "df = pd.read_csv(path + 'df_processed.csv')"
      ],
      "metadata": {
        "id": "WaRuHawljn7M"
      },
      "execution_count": 11,
      "outputs": []
    },
    {
      "cell_type": "code",
      "source": [
        "column_list = list(df.select_dtypes(exclude=object).columns)"
      ],
      "metadata": {
        "id": "9UI61pBcjryH"
      },
      "execution_count": 12,
      "outputs": []
    },
    {
      "cell_type": "code",
      "source": [
        "train_df = df[df['TARGET'].notnull()]\n",
        "test_df = df[df['TARGET'].isnull()]"
      ],
      "metadata": {
        "id": "uCZ2y5WkjsbW"
      },
      "execution_count": 13,
      "outputs": []
    },
    {
      "cell_type": "code",
      "source": [
        ""
      ],
      "metadata": {
        "id": "X-FpK0Ojveu-"
      },
      "execution_count": 13,
      "outputs": []
    },
    {
      "cell_type": "code",
      "source": [
        "array_inf_nb"
      ],
      "metadata": {
        "colab": {
          "base_uri": "https://localhost:8080/"
        },
        "id": "_ztdl1hUvtA1",
        "outputId": "e543ec85-64aa-49c4-dc44-274e4764d266"
      },
      "execution_count": 14,
      "outputs": [
        {
          "output_type": "execute_result",
          "data": {
            "text/plain": [
              "array([], shape=(1, 0), dtype=float64)"
            ]
          },
          "metadata": {},
          "execution_count": 14
        }
      ]
    },
    {
      "cell_type": "code",
      "source": [
        "\n",
        "nan_columns = pd.Series(train_df.columns[np.where(np.isnan(train_df).sum()>0)])\n",
        "inf_columns = pd.Series(train_df.columns[np.where(np.isinf(train_df).sum()>0)])\n",
        "serie_inf_nb = pd.Series(np.empty(len(inf_columns)))\n",
        "serie_inf_ratio = pd.Series(np.empty(len(inf_columns)))\n",
        "serie_nan_ratio = pd.Series(np.empty(len(nan_columns)))\n",
        "serie_nan_nb = pd.Series(np.empty(len(nan_columns)))\n",
        "\n",
        "for i in range(len(nan_columns)):\n",
        "    serie_nan_nb[i] = np.isnan(train_df.loc[:,nan_columns[i]]).sum()\n",
        "    serie_nan_ratio[i] = np.isnan(train_df.loc[:,nan_columns[i]]).sum()/len(train_df)\n",
        "\n",
        "nan_df = pd.concat([nan_columns,serie_nan_nb,serie_nan_ratio],axis=1)\n",
        "nan_df.rename(columns = {0:'nan_columns',1:'nan_nb',2:'nan_ratio'} )\n",
        "\n",
        "for i in range(len(inf_columns)):\n",
        "    serie_inf_nb[i] = np.isinf(train_df.loc[:,inf_columns[i]]).sum()\n",
        "    serie_inf_ratio[i] = np.isinf(train_df.loc[:,inf_columns[i]]).sum()/len(train_df)\n",
        "\n",
        "inf_df = pd.concat([inf_columns,serie_inf_nb,serie_inf_ratio],axis=1)\n",
        "inf_df.rename(columns = {0:'inf_columns',1:'inf_nb',2:'inf_ratio'} )"
      ],
      "metadata": {
        "colab": {
          "base_uri": "https://localhost:8080/",
          "height": 550
        },
        "id": "_nRFaCbmjujg",
        "outputId": "c0f4bafb-b0bc-44be-b4b1-037be3739acd"
      },
      "execution_count": 49,
      "outputs": [
        {
          "output_type": "execute_result",
          "data": {
            "text/html": [
              "\n",
              "  <div id=\"df-d0ea8b3b-4b58-4f46-bc3e-e461da000173\">\n",
              "    <div class=\"colab-df-container\">\n",
              "      <div>\n",
              "<style scoped>\n",
              "    .dataframe tbody tr th:only-of-type {\n",
              "        vertical-align: middle;\n",
              "    }\n",
              "\n",
              "    .dataframe tbody tr th {\n",
              "        vertical-align: top;\n",
              "    }\n",
              "\n",
              "    .dataframe thead th {\n",
              "        text-align: right;\n",
              "    }\n",
              "</style>\n",
              "<table border=\"1\" class=\"dataframe\">\n",
              "  <thead>\n",
              "    <tr style=\"text-align: right;\">\n",
              "      <th></th>\n",
              "      <th>nan_columns</th>\n",
              "      <th>nan_nb</th>\n",
              "      <th>nan_ratio</th>\n",
              "    </tr>\n",
              "  </thead>\n",
              "  <tbody>\n",
              "    <tr>\n",
              "      <th>0</th>\n",
              "      <td>AMT_ANNUITY</td>\n",
              "      <td>12.0</td>\n",
              "      <td>0.000039</td>\n",
              "    </tr>\n",
              "    <tr>\n",
              "      <th>1</th>\n",
              "      <td>AMT_GOODS_PRICE</td>\n",
              "      <td>278.0</td>\n",
              "      <td>0.000904</td>\n",
              "    </tr>\n",
              "    <tr>\n",
              "      <th>2</th>\n",
              "      <td>DAYS_EMPLOYED</td>\n",
              "      <td>55374.0</td>\n",
              "      <td>0.180074</td>\n",
              "    </tr>\n",
              "    <tr>\n",
              "      <th>3</th>\n",
              "      <td>OWN_CAR_AGE</td>\n",
              "      <td>202927.0</td>\n",
              "      <td>0.659910</td>\n",
              "    </tr>\n",
              "    <tr>\n",
              "      <th>4</th>\n",
              "      <td>CNT_FAM_MEMBERS</td>\n",
              "      <td>2.0</td>\n",
              "      <td>0.000007</td>\n",
              "    </tr>\n",
              "    <tr>\n",
              "      <th>...</th>\n",
              "      <td>...</td>\n",
              "      <td>...</td>\n",
              "      <td>...</td>\n",
              "    </tr>\n",
              "    <tr>\n",
              "      <th>611</th>\n",
              "      <td>CC_NAME_CONTRACT_STATUS_nan_MAX</td>\n",
              "      <td>220602.0</td>\n",
              "      <td>0.717389</td>\n",
              "    </tr>\n",
              "    <tr>\n",
              "      <th>612</th>\n",
              "      <td>CC_NAME_CONTRACT_STATUS_nan_MEAN</td>\n",
              "      <td>220602.0</td>\n",
              "      <td>0.717389</td>\n",
              "    </tr>\n",
              "    <tr>\n",
              "      <th>613</th>\n",
              "      <td>CC_NAME_CONTRACT_STATUS_nan_SUM</td>\n",
              "      <td>220602.0</td>\n",
              "      <td>0.717389</td>\n",
              "    </tr>\n",
              "    <tr>\n",
              "      <th>614</th>\n",
              "      <td>CC_NAME_CONTRACT_STATUS_nan_VAR</td>\n",
              "      <td>221234.0</td>\n",
              "      <td>0.719444</td>\n",
              "    </tr>\n",
              "    <tr>\n",
              "      <th>615</th>\n",
              "      <td>CC_COUNT</td>\n",
              "      <td>220602.0</td>\n",
              "      <td>0.717389</td>\n",
              "    </tr>\n",
              "  </tbody>\n",
              "</table>\n",
              "<p>616 rows × 3 columns</p>\n",
              "</div>\n",
              "      <button class=\"colab-df-convert\" onclick=\"convertToInteractive('df-d0ea8b3b-4b58-4f46-bc3e-e461da000173')\"\n",
              "              title=\"Convert this dataframe to an interactive table.\"\n",
              "              style=\"display:none;\">\n",
              "        \n",
              "  <svg xmlns=\"http://www.w3.org/2000/svg\" height=\"24px\"viewBox=\"0 0 24 24\"\n",
              "       width=\"24px\">\n",
              "    <path d=\"M0 0h24v24H0V0z\" fill=\"none\"/>\n",
              "    <path d=\"M18.56 5.44l.94 2.06.94-2.06 2.06-.94-2.06-.94-.94-2.06-.94 2.06-2.06.94zm-11 1L8.5 8.5l.94-2.06 2.06-.94-2.06-.94L8.5 2.5l-.94 2.06-2.06.94zm10 10l.94 2.06.94-2.06 2.06-.94-2.06-.94-.94-2.06-.94 2.06-2.06.94z\"/><path d=\"M17.41 7.96l-1.37-1.37c-.4-.4-.92-.59-1.43-.59-.52 0-1.04.2-1.43.59L10.3 9.45l-7.72 7.72c-.78.78-.78 2.05 0 2.83L4 21.41c.39.39.9.59 1.41.59.51 0 1.02-.2 1.41-.59l7.78-7.78 2.81-2.81c.8-.78.8-2.07 0-2.86zM5.41 20L4 18.59l7.72-7.72 1.47 1.35L5.41 20z\"/>\n",
              "  </svg>\n",
              "      </button>\n",
              "      \n",
              "  <style>\n",
              "    .colab-df-container {\n",
              "      display:flex;\n",
              "      flex-wrap:wrap;\n",
              "      gap: 12px;\n",
              "    }\n",
              "\n",
              "    .colab-df-convert {\n",
              "      background-color: #E8F0FE;\n",
              "      border: none;\n",
              "      border-radius: 50%;\n",
              "      cursor: pointer;\n",
              "      display: none;\n",
              "      fill: #1967D2;\n",
              "      height: 32px;\n",
              "      padding: 0 0 0 0;\n",
              "      width: 32px;\n",
              "    }\n",
              "\n",
              "    .colab-df-convert:hover {\n",
              "      background-color: #E2EBFA;\n",
              "      box-shadow: 0px 1px 2px rgba(60, 64, 67, 0.3), 0px 1px 3px 1px rgba(60, 64, 67, 0.15);\n",
              "      fill: #174EA6;\n",
              "    }\n",
              "\n",
              "    [theme=dark] .colab-df-convert {\n",
              "      background-color: #3B4455;\n",
              "      fill: #D2E3FC;\n",
              "    }\n",
              "\n",
              "    [theme=dark] .colab-df-convert:hover {\n",
              "      background-color: #434B5C;\n",
              "      box-shadow: 0px 1px 3px 1px rgba(0, 0, 0, 0.15);\n",
              "      filter: drop-shadow(0px 1px 2px rgba(0, 0, 0, 0.3));\n",
              "      fill: #FFFFFF;\n",
              "    }\n",
              "  </style>\n",
              "\n",
              "      <script>\n",
              "        const buttonEl =\n",
              "          document.querySelector('#df-d0ea8b3b-4b58-4f46-bc3e-e461da000173 button.colab-df-convert');\n",
              "        buttonEl.style.display =\n",
              "          google.colab.kernel.accessAllowed ? 'block' : 'none';\n",
              "\n",
              "        async function convertToInteractive(key) {\n",
              "          const element = document.querySelector('#df-d0ea8b3b-4b58-4f46-bc3e-e461da000173');\n",
              "          const dataTable =\n",
              "            await google.colab.kernel.invokeFunction('convertToInteractive',\n",
              "                                                     [key], {});\n",
              "          if (!dataTable) return;\n",
              "\n",
              "          const docLinkHtml = 'Like what you see? Visit the ' +\n",
              "            '<a target=\"_blank\" href=https://colab.research.google.com/notebooks/data_table.ipynb>data table notebook</a>'\n",
              "            + ' to learn more about interactive tables.';\n",
              "          element.innerHTML = '';\n",
              "          dataTable['output_type'] = 'display_data';\n",
              "          await google.colab.output.renderOutput(dataTable, element);\n",
              "          const docLink = document.createElement('div');\n",
              "          docLink.innerHTML = docLinkHtml;\n",
              "          element.appendChild(docLink);\n",
              "        }\n",
              "      </script>\n",
              "    </div>\n",
              "  </div>\n",
              "  "
            ],
            "text/plain": [
              "                          nan_columns    nan_nb  nan_ratio\n",
              "0                         AMT_ANNUITY      12.0   0.000039\n",
              "1                     AMT_GOODS_PRICE     278.0   0.000904\n",
              "2                       DAYS_EMPLOYED   55374.0   0.180074\n",
              "3                         OWN_CAR_AGE  202927.0   0.659910\n",
              "4                     CNT_FAM_MEMBERS       2.0   0.000007\n",
              "..                                ...       ...        ...\n",
              "611   CC_NAME_CONTRACT_STATUS_nan_MAX  220602.0   0.717389\n",
              "612  CC_NAME_CONTRACT_STATUS_nan_MEAN  220602.0   0.717389\n",
              "613   CC_NAME_CONTRACT_STATUS_nan_SUM  220602.0   0.717389\n",
              "614   CC_NAME_CONTRACT_STATUS_nan_VAR  221234.0   0.719444\n",
              "615                          CC_COUNT  220602.0   0.717389\n",
              "\n",
              "[616 rows x 3 columns]"
            ]
          },
          "metadata": {},
          "execution_count": 49
        },
        {
          "output_type": "execute_result",
          "data": {
            "text/html": [
              "\n",
              "  <div id=\"df-da662aed-381d-4d29-b9ff-5799f9a24df8\">\n",
              "    <div class=\"colab-df-container\">\n",
              "      <div>\n",
              "<style scoped>\n",
              "    .dataframe tbody tr th:only-of-type {\n",
              "        vertical-align: middle;\n",
              "    }\n",
              "\n",
              "    .dataframe tbody tr th {\n",
              "        vertical-align: top;\n",
              "    }\n",
              "\n",
              "    .dataframe thead th {\n",
              "        text-align: right;\n",
              "    }\n",
              "</style>\n",
              "<table border=\"1\" class=\"dataframe\">\n",
              "  <thead>\n",
              "    <tr style=\"text-align: right;\">\n",
              "      <th></th>\n",
              "      <th>inf_columns</th>\n",
              "      <th>inf_nb</th>\n",
              "      <th>inf_ratio</th>\n",
              "    </tr>\n",
              "  </thead>\n",
              "  <tbody>\n",
              "    <tr>\n",
              "      <th>0</th>\n",
              "      <td>PREV_APP_CREDIT_PERC_MAX</td>\n",
              "      <td>1.0</td>\n",
              "      <td>0.000003</td>\n",
              "    </tr>\n",
              "    <tr>\n",
              "      <th>1</th>\n",
              "      <td>REFUSED_APP_CREDIT_PERC_MAX</td>\n",
              "      <td>1.0</td>\n",
              "      <td>0.000003</td>\n",
              "    </tr>\n",
              "    <tr>\n",
              "      <th>2</th>\n",
              "      <td>INSTAL_PAYMENT_PERC_MAX</td>\n",
              "      <td>18.0</td>\n",
              "      <td>0.000059</td>\n",
              "    </tr>\n",
              "  </tbody>\n",
              "</table>\n",
              "</div>\n",
              "      <button class=\"colab-df-convert\" onclick=\"convertToInteractive('df-da662aed-381d-4d29-b9ff-5799f9a24df8')\"\n",
              "              title=\"Convert this dataframe to an interactive table.\"\n",
              "              style=\"display:none;\">\n",
              "        \n",
              "  <svg xmlns=\"http://www.w3.org/2000/svg\" height=\"24px\"viewBox=\"0 0 24 24\"\n",
              "       width=\"24px\">\n",
              "    <path d=\"M0 0h24v24H0V0z\" fill=\"none\"/>\n",
              "    <path d=\"M18.56 5.44l.94 2.06.94-2.06 2.06-.94-2.06-.94-.94-2.06-.94 2.06-2.06.94zm-11 1L8.5 8.5l.94-2.06 2.06-.94-2.06-.94L8.5 2.5l-.94 2.06-2.06.94zm10 10l.94 2.06.94-2.06 2.06-.94-2.06-.94-.94-2.06-.94 2.06-2.06.94z\"/><path d=\"M17.41 7.96l-1.37-1.37c-.4-.4-.92-.59-1.43-.59-.52 0-1.04.2-1.43.59L10.3 9.45l-7.72 7.72c-.78.78-.78 2.05 0 2.83L4 21.41c.39.39.9.59 1.41.59.51 0 1.02-.2 1.41-.59l7.78-7.78 2.81-2.81c.8-.78.8-2.07 0-2.86zM5.41 20L4 18.59l7.72-7.72 1.47 1.35L5.41 20z\"/>\n",
              "  </svg>\n",
              "      </button>\n",
              "      \n",
              "  <style>\n",
              "    .colab-df-container {\n",
              "      display:flex;\n",
              "      flex-wrap:wrap;\n",
              "      gap: 12px;\n",
              "    }\n",
              "\n",
              "    .colab-df-convert {\n",
              "      background-color: #E8F0FE;\n",
              "      border: none;\n",
              "      border-radius: 50%;\n",
              "      cursor: pointer;\n",
              "      display: none;\n",
              "      fill: #1967D2;\n",
              "      height: 32px;\n",
              "      padding: 0 0 0 0;\n",
              "      width: 32px;\n",
              "    }\n",
              "\n",
              "    .colab-df-convert:hover {\n",
              "      background-color: #E2EBFA;\n",
              "      box-shadow: 0px 1px 2px rgba(60, 64, 67, 0.3), 0px 1px 3px 1px rgba(60, 64, 67, 0.15);\n",
              "      fill: #174EA6;\n",
              "    }\n",
              "\n",
              "    [theme=dark] .colab-df-convert {\n",
              "      background-color: #3B4455;\n",
              "      fill: #D2E3FC;\n",
              "    }\n",
              "\n",
              "    [theme=dark] .colab-df-convert:hover {\n",
              "      background-color: #434B5C;\n",
              "      box-shadow: 0px 1px 3px 1px rgba(0, 0, 0, 0.15);\n",
              "      filter: drop-shadow(0px 1px 2px rgba(0, 0, 0, 0.3));\n",
              "      fill: #FFFFFF;\n",
              "    }\n",
              "  </style>\n",
              "\n",
              "      <script>\n",
              "        const buttonEl =\n",
              "          document.querySelector('#df-da662aed-381d-4d29-b9ff-5799f9a24df8 button.colab-df-convert');\n",
              "        buttonEl.style.display =\n",
              "          google.colab.kernel.accessAllowed ? 'block' : 'none';\n",
              "\n",
              "        async function convertToInteractive(key) {\n",
              "          const element = document.querySelector('#df-da662aed-381d-4d29-b9ff-5799f9a24df8');\n",
              "          const dataTable =\n",
              "            await google.colab.kernel.invokeFunction('convertToInteractive',\n",
              "                                                     [key], {});\n",
              "          if (!dataTable) return;\n",
              "\n",
              "          const docLinkHtml = 'Like what you see? Visit the ' +\n",
              "            '<a target=\"_blank\" href=https://colab.research.google.com/notebooks/data_table.ipynb>data table notebook</a>'\n",
              "            + ' to learn more about interactive tables.';\n",
              "          element.innerHTML = '';\n",
              "          dataTable['output_type'] = 'display_data';\n",
              "          await google.colab.output.renderOutput(dataTable, element);\n",
              "          const docLink = document.createElement('div');\n",
              "          docLink.innerHTML = docLinkHtml;\n",
              "          element.appendChild(docLink);\n",
              "        }\n",
              "      </script>\n",
              "    </div>\n",
              "  </div>\n",
              "  "
            ],
            "text/plain": [
              "                   inf_columns  inf_nb  inf_ratio\n",
              "0     PREV_APP_CREDIT_PERC_MAX     1.0   0.000003\n",
              "1  REFUSED_APP_CREDIT_PERC_MAX     1.0   0.000003\n",
              "2      INSTAL_PAYMENT_PERC_MAX    18.0   0.000059"
            ]
          },
          "metadata": {},
          "execution_count": 49
        }
      ]
    },
    {
      "cell_type": "code",
      "source": [
        "np.shape(train_df)"
      ],
      "metadata": {
        "colab": {
          "base_uri": "https://localhost:8080/"
        },
        "id": "YKfzqmxx5wYY",
        "outputId": "458aac2c-5a30-4586-d433-d27f03ae6250"
      },
      "execution_count": 47,
      "outputs": [
        {
          "output_type": "execute_result",
          "data": {
            "text/plain": [
              "(307507, 799)"
            ]
          },
          "metadata": {},
          "execution_count": 47
        }
      ]
    },
    {
      "cell_type": "code",
      "source": [
        "inf_columns"
      ],
      "metadata": {
        "colab": {
          "base_uri": "https://localhost:8080/"
        },
        "id": "CfY9tyGS5BuN",
        "outputId": "70a00dfe-a84a-4d0e-d171-205ee176798e"
      },
      "execution_count": 50,
      "outputs": [
        {
          "output_type": "execute_result",
          "data": {
            "text/plain": [
              "0       PREV_APP_CREDIT_PERC_MAX\n",
              "1    REFUSED_APP_CREDIT_PERC_MAX\n",
              "2        INSTAL_PAYMENT_PERC_MAX\n",
              "dtype: object"
            ]
          },
          "metadata": {},
          "execution_count": 50
        }
      ]
    },
    {
      "cell_type": "code",
      "source": [
        "for column in inf_columns:\n",
        "    inf_nb[i] = np.isinf(train_df[column]).sum()\n",
        "\n",
        "    inf_ratio[i] = np.isinf(train_df[column]).sum()/len(train_df)\n",
        "serie_inf_nb= serie_inf_nb.append(inf_nb,ignore_index = True)\n",
        "serie_inf_ratio = serie_inf_ratio.append(inf_ratio,ignore_index =True)\n",
        "\n",
        "#d = {'inf_columns':inf_columns,'inf_nb':serie_inf_nb,'inf_ratio':serie_inf_ratio}\n",
        "\n",
        "inf_df = pd.concat([inf_columns,serie_inf_nb,serie_inf_ratio],axis=1)\n",
        "inf_df.rename(columns={0:'inf_columns',1:'inf_nb',2:'inf_ratio'} )"
      ],
      "metadata": {
        "id": "qEZ7H5Vl4nDk"
      },
      "execution_count": null,
      "outputs": []
    },
    {
      "cell_type": "code",
      "source": [
        "nan_columns[1]"
      ],
      "metadata": {
        "colab": {
          "base_uri": "https://localhost:8080/",
          "height": 36
        },
        "id": "XuyP0qsxjxfy",
        "outputId": "51249ca8-6270-4de1-c6a3-e19d5d12955f"
      },
      "execution_count": 32,
      "outputs": [
        {
          "output_type": "execute_result",
          "data": {
            "application/vnd.google.colaboratory.intrinsic+json": {
              "type": "string"
            },
            "text/plain": [
              "'AMT_GOODS_PRICE'"
            ]
          },
          "metadata": {},
          "execution_count": 32
        }
      ]
    },
    {
      "cell_type": "code",
      "source": [
        "type(len(train_df))"
      ],
      "metadata": {
        "id": "3y4BQMQHso3A"
      },
      "execution_count": null,
      "outputs": []
    },
    {
      "cell_type": "code",
      "source": [
        "nan_columns"
      ],
      "metadata": {
        "id": "PLCDbjCCmjO2"
      },
      "execution_count": null,
      "outputs": []
    },
    {
      "cell_type": "code",
      "source": [
        "np.isnan(train_df.loc[10,nan_columns[10]]).sum()"
      ],
      "metadata": {
        "colab": {
          "base_uri": "https://localhost:8080/"
        },
        "id": "P544EovtmtG5",
        "outputId": "6e7559e5-3302-4d47-8591-713f1c92ae2e"
      },
      "execution_count": 44,
      "outputs": [
        {
          "output_type": "execute_result",
          "data": {
            "text/plain": [
              "1"
            ]
          },
          "metadata": {},
          "execution_count": 44
        }
      ]
    },
    {
      "cell_type": "code",
      "source": [
        "np.isnan(train_df.loc[10,nan_columns[10]]).sum()"
      ],
      "metadata": {
        "id": "i8DrwZX45UTX"
      },
      "execution_count": null,
      "outputs": []
    },
    {
      "cell_type": "code",
      "source": [
        "len(serie_nan_nb)"
      ],
      "metadata": {
        "colab": {
          "base_uri": "https://localhost:8080/"
        },
        "id": "TKBVDA6w4UZx",
        "outputId": "a99797e0-abd4-495e-a5f8-eb4577027a95"
      },
      "execution_count": 37,
      "outputs": [
        {
          "output_type": "execute_result",
          "data": {
            "text/plain": [
              "3"
            ]
          },
          "metadata": {},
          "execution_count": 37
        }
      ]
    },
    {
      "cell_type": "code",
      "source": [
        "CC_COUNT"
      ],
      "metadata": {
        "id": "BN2PHy7U4XTg"
      },
      "execution_count": null,
      "outputs": []
    }
  ]
}