{
 "cells": [
  {
   "cell_type": "code",
   "execution_count": 1,
   "id": "a65f1fc6",
   "metadata": {},
   "outputs": [
    {
     "data": {
      "text/plain": [
       "<pandas._config.config.option_context at 0x16516260b80>"
      ]
     },
     "execution_count": 1,
     "metadata": {},
     "output_type": "execute_result"
    }
   ],
   "source": [
    "import numpy as np\n",
    "import pandas as pd\n",
    "import gc\n",
    "import time\n",
    "from contextlib import contextmanager\n",
    "from lightgbm import LGBMClassifier\n",
    "from sklearn.metrics import roc_auc_score, roc_curve\n",
    "from sklearn.model_selection import KFold, StratifiedKFold\n",
    "import matplotlib.pyplot as plt\n",
    "import seaborn as sns\n",
    "import warnings\n",
    "import re\n",
    "import missingno as mi\n",
    "from IPython.core.interactiveshell import InteractiveShell\n",
    "\n",
    "InteractiveShell.ast_node_interactivity = \"all\"\n",
    "pd.option_context('display.max_rows', None, 'display.max_columns', None)"
   ]
  },
  {
   "cell_type": "code",
   "execution_count": 4,
   "id": "344dfe3b",
   "metadata": {},
   "outputs": [],
   "source": [
    "path =r'C:\\Users\\nwenz\\Desktop\\P7_scoring\\Projet+Mise+en+prod+-+home-credit-default-risk/'\n",
    "df = pd.read_csv(path + 'application_test.csv',nrows=10000)"
   ]
  },
  {
   "cell_type": "code",
   "execution_count": 8,
   "id": "3756b960",
   "metadata": {},
   "outputs": [
    {
     "data": {
      "text/plain": [
       "count    4276.000000\n",
       "mean        0.089872\n",
       "std         0.080869\n",
       "min         0.000000\n",
       "25%         0.046500\n",
       "50%         0.078500\n",
       "75%         0.114125\n",
       "max         1.000000\n",
       "Name: BASEMENTAREA_AVG, dtype: float64"
      ]
     },
     "execution_count": 8,
     "metadata": {},
     "output_type": "execute_result"
    }
   ],
   "source": [
    "df['BASEMENTAREA_AVG'].describe()"
   ]
  },
  {
   "cell_type": "code",
   "execution_count": 9,
   "id": "2034f740",
   "metadata": {},
   "outputs": [
    {
     "data": {
      "text/plain": [
       "5724"
      ]
     },
     "execution_count": 9,
     "metadata": {},
     "output_type": "execute_result"
    }
   ],
   "source": [
    "df['BASEMENTAREA_AVG'].isna().values.sum()"
   ]
  },
  {
   "cell_type": "code",
   "execution_count": 11,
   "id": "03925346",
   "metadata": {},
   "outputs": [
    {
     "data": {
      "text/plain": [
       "4945"
      ]
     },
     "execution_count": 11,
     "metadata": {},
     "output_type": "execute_result"
    }
   ],
   "source": [
    "df['APARTMENTS_AVG'].isna().values.sum()"
   ]
  },
  {
   "cell_type": "code",
   "execution_count": 16,
   "id": "19a5819e",
   "metadata": {},
   "outputs": [
    {
     "data": {
      "text/plain": [
       "Cash loans         9906\n",
       "Revolving loans      94\n",
       "Name: NAME_CONTRACT_TYPE, dtype: int64"
      ]
     },
     "execution_count": 16,
     "metadata": {},
     "output_type": "execute_result"
    }
   ],
   "source": [
    "df['NAME_CONTRACT_TYPE'].value_counts()"
   ]
  },
  {
   "cell_type": "code",
   "execution_count": 17,
   "id": "233eba3f",
   "metadata": {},
   "outputs": [
    {
     "data": {
      "text/plain": [
       "0"
      ]
     },
     "execution_count": 17,
     "metadata": {},
     "output_type": "execute_result"
    }
   ],
   "source": [
    "df['NAME_CONTRACT_TYPE'].isna().values.sum()"
   ]
  },
  {
   "cell_type": "code",
   "execution_count": 18,
   "id": "956d09bb",
   "metadata": {},
   "outputs": [],
   "source": [
    "df_prev = pd.read_csv(path +'previous_application.csv')"
   ]
  },
  {
   "cell_type": "code",
   "execution_count": 20,
   "id": "c43bcfda",
   "metadata": {},
   "outputs": [
    {
     "data": {
      "text/plain": [
       "Approved        1036781\n",
       "Canceled         316319\n",
       "Refused          290678\n",
       "Unused offer      26436\n",
       "Name: NAME_CONTRACT_STATUS, dtype: int64"
      ]
     },
     "execution_count": 20,
     "metadata": {},
     "output_type": "execute_result"
    }
   ],
   "source": [
    "df_prev['NAME_CONTRACT_STATUS'].value_counts()"
   ]
  },
  {
   "cell_type": "code",
   "execution_count": null,
   "id": "28bbea20",
   "metadata": {},
   "outputs": [],
   "source": []
  }
 ],
 "metadata": {
  "kernelspec": {
   "display_name": "Python 3 (ipykernel)",
   "language": "python",
   "name": "python3"
  },
  "language_info": {
   "codemirror_mode": {
    "name": "ipython",
    "version": 3
   },
   "file_extension": ".py",
   "mimetype": "text/x-python",
   "name": "python",
   "nbconvert_exporter": "python",
   "pygments_lexer": "ipython3",
   "version": "3.8.12"
  }
 },
 "nbformat": 4,
 "nbformat_minor": 5
}
