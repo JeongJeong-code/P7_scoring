{
  "nbformat": 4,
  "nbformat_minor": 0,
  "metadata": {
    "colab": {
      "name": "P7_exploration.ipynb",
      "provenance": [],
      "collapsed_sections": [],
      "toc_visible": true,
      "authorship_tag": "ABX9TyMjW7jHhI8qPlrma7R45VNf",
      "include_colab_link": true
    },
    "kernelspec": {
      "name": "python3",
      "display_name": "Python 3"
    },
    "language_info": {
      "name": "python"
    }
  },
  "cells": [
    {
      "cell_type": "markdown",
      "metadata": {
        "id": "view-in-github",
        "colab_type": "text"
      },
      "source": [
        "<a href=\"https://colab.research.google.com/github/JeongJeong-code/P7_scoring/blob/main/P7_exploration.ipynb\" target=\"_parent\"><img src=\"https://colab.research.google.com/assets/colab-badge.svg\" alt=\"Open In Colab\"/></a>"
      ]
    },
    {
      "cell_type": "markdown",
      "source": [
        "# Importation des librairies et df"
      ],
      "metadata": {
        "id": "eEdmWVTPA_zI"
      }
    },
    {
      "cell_type": "code",
      "execution_count": 1,
      "metadata": {
        "colab": {
          "base_uri": "https://localhost:8080/"
        },
        "id": "fgzzscqMjgeF",
        "outputId": "2855fff2-4dac-4ab0-ef39-dc0546652282"
      },
      "outputs": [
        {
          "output_type": "execute_result",
          "data": {
            "text/plain": [
              "<pandas._config.config.option_context at 0x7f831d9aab10>"
            ]
          },
          "metadata": {},
          "execution_count": 1
        }
      ],
      "source": [
        "import numpy as np\n",
        "import pandas as pd\n",
        "import gc\n",
        "import time\n",
        "from contextlib import contextmanager\n",
        "from lightgbm import LGBMClassifier\n",
        "from sklearn.metrics import roc_auc_score, roc_curve\n",
        "from sklearn.model_selection import KFold, StratifiedKFold\n",
        "import matplotlib.pyplot as plt\n",
        "import seaborn as sns\n",
        "import warnings\n",
        "import re\n",
        "import missingno as mi\n",
        "from IPython.core.interactiveshell import InteractiveShell\n",
        "from google.colab import drive\n",
        "from sklearn.linear_model import LogisticRegressionCV,LogisticRegression\n",
        "from sklearn.model_selection import GridSearchCV\n",
        "from sklearn.model_selection import cross_val_score\n",
        "from sklearn.svm import LinearSVC\n",
        "from sklearn.naive_bayes import GaussianNB\n",
        "from sklearn.tree import DecisionTreeClassifier\n",
        "from sklearn import metrics\n",
        "from sklearn.metrics import confusion_matrix\n",
        "InteractiveShell.ast_node_interactivity = \"all\"\n",
        "pd.option_context('display.max_rows', None, 'display.max_columns', None)"
      ]
    },
    {
      "cell_type": "code",
      "source": [
        "drive.mount('/content/drive')"
      ],
      "metadata": {
        "colab": {
          "base_uri": "https://localhost:8080/"
        },
        "id": "fTdoFrq2kATX",
        "outputId": "71d491a1-4207-42d7-c8d2-56497895ff92"
      },
      "execution_count": 2,
      "outputs": [
        {
          "output_type": "stream",
          "name": "stdout",
          "text": [
            "Drive already mounted at /content/drive; to attempt to forcibly remount, call drive.mount(\"/content/drive\", force_remount=True).\n"
          ]
        }
      ]
    },
    {
      "cell_type": "code",
      "source": [
        "path =r'/content/drive/MyDrive/P7_scoring/'\n",
        "df = pd.read_csv(path + 'df_processed_V2.csv')"
      ],
      "metadata": {
        "id": "WaRuHawljn7M"
      },
      "execution_count": 3,
      "outputs": []
    },
    {
      "cell_type": "code",
      "source": [
        "df.columns"
      ],
      "metadata": {
        "colab": {
          "base_uri": "https://localhost:8080/"
        },
        "id": "jXL6I4BJ2U8h",
        "outputId": "b6e9e495-ca67-476a-908f-724db6ec3bfb"
      },
      "execution_count": 4,
      "outputs": [
        {
          "output_type": "execute_result",
          "data": {
            "text/plain": [
              "Index(['Unnamed: 0', 'index', 'SK_ID_CURR', 'TARGET', 'CODE_GENDER',\n",
              "       'FLAG_OWN_CAR', 'FLAG_OWN_REALTY', 'CNT_CHILDREN', 'AMT_INCOME_TOTAL',\n",
              "       'AMT_CREDIT',\n",
              "       ...\n",
              "       'CC_SK_DPD_MAX', 'CC_SK_DPD_MEAN', 'CC_SK_DPD_SUM', 'CC_SK_DPD_VAR',\n",
              "       'CC_SK_DPD_DEF_MIN', 'CC_SK_DPD_DEF_MAX', 'CC_SK_DPD_DEF_MEAN',\n",
              "       'CC_SK_DPD_DEF_SUM', 'CC_SK_DPD_DEF_VAR', 'CC_COUNT'],\n",
              "      dtype='object', length=759)"
            ]
          },
          "metadata": {},
          "execution_count": 4
        }
      ]
    },
    {
      "cell_type": "code",
      "source": [
        "column_list = list(df.select_dtypes(exclude=object).columns)"
      ],
      "metadata": {
        "id": "9UI61pBcjryH"
      },
      "execution_count": 5,
      "outputs": []
    },
    {
      "cell_type": "code",
      "source": [
        "train_df = df[df['TARGET'].notnull()]\n",
        "test_df = df[df['TARGET'].isnull()]"
      ],
      "metadata": {
        "id": "uCZ2y5WkjsbW"
      },
      "execution_count": 6,
      "outputs": []
    },
    {
      "cell_type": "code",
      "source": [
        "#train_df = train_df.sample(10000)\n",
        "train_df.drop(columns =['index','SK_ID_CURR','Unnamed: 0'],inplace = True)\n",
        "test_df.drop(columns =['index','SK_ID_CURR','Unnamed: 0'],inplace = True)"
      ],
      "metadata": {
        "id": "4wHfRdKWYGVD",
        "colab": {
          "base_uri": "https://localhost:8080/"
        },
        "outputId": "f66d68f8-2187-4bfb-8d9d-5d2e24c42a60"
      },
      "execution_count": 7,
      "outputs": [
        {
          "output_type": "stream",
          "name": "stderr",
          "text": [
            "/usr/local/lib/python3.7/dist-packages/pandas/core/frame.py:4913: SettingWithCopyWarning: \n",
            "A value is trying to be set on a copy of a slice from a DataFrame\n",
            "\n",
            "See the caveats in the documentation: https://pandas.pydata.org/pandas-docs/stable/user_guide/indexing.html#returning-a-view-versus-a-copy\n",
            "  errors=errors,\n"
          ]
        }
      ]
    },
    {
      "cell_type": "code",
      "source": [
        "train_df.columns"
      ],
      "metadata": {
        "colab": {
          "base_uri": "https://localhost:8080/"
        },
        "id": "LFgauUoTZG9A",
        "outputId": "ccd3421f-c327-494a-eadf-367101a1bcdb"
      },
      "execution_count": 8,
      "outputs": [
        {
          "output_type": "execute_result",
          "data": {
            "text/plain": [
              "Index(['TARGET', 'CODE_GENDER', 'FLAG_OWN_CAR', 'FLAG_OWN_REALTY',\n",
              "       'CNT_CHILDREN', 'AMT_INCOME_TOTAL', 'AMT_CREDIT', 'AMT_ANNUITY',\n",
              "       'AMT_GOODS_PRICE', 'REGION_POPULATION_RELATIVE',\n",
              "       ...\n",
              "       'CC_SK_DPD_MAX', 'CC_SK_DPD_MEAN', 'CC_SK_DPD_SUM', 'CC_SK_DPD_VAR',\n",
              "       'CC_SK_DPD_DEF_MIN', 'CC_SK_DPD_DEF_MAX', 'CC_SK_DPD_DEF_MEAN',\n",
              "       'CC_SK_DPD_DEF_SUM', 'CC_SK_DPD_DEF_VAR', 'CC_COUNT'],\n",
              "      dtype='object', length=756)"
            ]
          },
          "metadata": {},
          "execution_count": 8
        }
      ]
    },
    {
      "cell_type": "markdown",
      "source": [
        "# Gestion des Nan\n"
      ],
      "metadata": {
        "id": "zX9ESOCzBGTp"
      }
    },
    {
      "cell_type": "code",
      "source": [
        "\n",
        "nan_columns = pd.Series(train_df.columns[np.where(np.isnan(train_df).sum()>0)])\n",
        "inf_columns = pd.Series(train_df.columns[np.where(np.isinf(train_df).sum()>0)])\n",
        "serie_inf_nb = pd.Series(np.empty(len(inf_columns)))\n",
        "serie_inf_ratio = pd.Series(np.empty(len(inf_columns)))\n",
        "serie_nan_ratio = pd.Series(np.empty(len(nan_columns)))\n",
        "serie_nan_nb = pd.Series(np.empty(len(nan_columns)))\n",
        "\n",
        "for i in range(len(nan_columns)):\n",
        "    serie_nan_nb[i] = np.isnan(train_df.loc[:,nan_columns[i]]).sum()\n",
        "    serie_nan_ratio[i] = np.isnan(train_df.loc[:,nan_columns[i]]).sum()/len(train_df)\n",
        "\n",
        "nan_df = pd.concat([nan_columns,serie_nan_nb,serie_nan_ratio],axis=1)\n",
        "nan_df.rename(columns = {0:'nan_columns',1:'nan_nb',2:'nan_ratio'},inplace= True )\n",
        "\n",
        "for i in range(len(inf_columns)):\n",
        "    serie_inf_nb[i] = np.isinf(train_df.loc[:,inf_columns[i]]).sum()\n",
        "    serie_inf_ratio[i] = np.isinf(train_df.loc[:,inf_columns[i]]).sum()/len(train_df)\n",
        "\n",
        "inf_df = pd.concat([inf_columns,serie_inf_nb,serie_inf_ratio],axis=1)\n",
        "inf_df.rename(columns = {0:'inf_columns',1:'inf_nb',2:'inf_ratio'},inplace = True )"
      ],
      "metadata": {
        "id": "_nRFaCbmjujg"
      },
      "execution_count": 9,
      "outputs": []
    },
    {
      "cell_type": "code",
      "source": [
        "#c= upper[to_drop].unstack()\n",
        "#co = c.sort_values(ascending = False,kind=\"quicksort\")\n",
        "#co_90=co[co>0.90]\n",
        "#co_90"
      ],
      "metadata": {
        "id": "Fli7YfVMEAhV"
      },
      "execution_count": 10,
      "outputs": []
    },
    {
      "cell_type": "code",
      "source": [
        "train_df.replace([np.inf,-np.inf],np.nan,inplace = True)\n",
        "test_df.replace([np.inf,-np.inf],np.nan,inplace = True)"
      ],
      "metadata": {
        "colab": {
          "base_uri": "https://localhost:8080/"
        },
        "id": "rU4pLswPZi7X",
        "outputId": "f786e660-3c9a-4ab7-b4c0-0335fe8494cb"
      },
      "execution_count": 11,
      "outputs": [
        {
          "output_type": "stream",
          "name": "stderr",
          "text": [
            "/usr/local/lib/python3.7/dist-packages/pandas/core/frame.py:5244: SettingWithCopyWarning: \n",
            "A value is trying to be set on a copy of a slice from a DataFrame\n",
            "\n",
            "See the caveats in the documentation: https://pandas.pydata.org/pandas-docs/stable/user_guide/indexing.html#returning-a-view-versus-a-copy\n",
            "  method=method,\n"
          ]
        }
      ]
    },
    {
      "cell_type": "code",
      "source": [
        "most_nan =nan_df[nan_df['nan_ratio'] >0.5]"
      ],
      "metadata": {
        "id": "FGw0A0dla2Os"
      },
      "execution_count": 12,
      "outputs": []
    },
    {
      "cell_type": "code",
      "source": [
        "most_nan"
      ],
      "metadata": {
        "colab": {
          "base_uri": "https://localhost:8080/",
          "height": 0
        },
        "id": "eezkL4rBpx9Q",
        "outputId": "e9043c53-ef26-4c1d-d69b-343c7cb729c1"
      },
      "execution_count": 13,
      "outputs": [
        {
          "output_type": "execute_result",
          "data": {
            "text/html": [
              "\n",
              "  <div id=\"df-4cda962b-d48c-45b7-985e-29c81851a889\">\n",
              "    <div class=\"colab-df-container\">\n",
              "      <div>\n",
              "<style scoped>\n",
              "    .dataframe tbody tr th:only-of-type {\n",
              "        vertical-align: middle;\n",
              "    }\n",
              "\n",
              "    .dataframe tbody tr th {\n",
              "        vertical-align: top;\n",
              "    }\n",
              "\n",
              "    .dataframe thead th {\n",
              "        text-align: right;\n",
              "    }\n",
              "</style>\n",
              "<table border=\"1\" class=\"dataframe\">\n",
              "  <thead>\n",
              "    <tr style=\"text-align: right;\">\n",
              "      <th></th>\n",
              "      <th>nan_columns</th>\n",
              "      <th>nan_nb</th>\n",
              "      <th>nan_ratio</th>\n",
              "    </tr>\n",
              "  </thead>\n",
              "  <tbody>\n",
              "    <tr>\n",
              "      <th>3</th>\n",
              "      <td>OWN_CAR_AGE</td>\n",
              "      <td>202927.0</td>\n",
              "      <td>0.659910</td>\n",
              "    </tr>\n",
              "    <tr>\n",
              "      <th>5</th>\n",
              "      <td>EXT_SOURCE_1</td>\n",
              "      <td>173376.0</td>\n",
              "      <td>0.563812</td>\n",
              "    </tr>\n",
              "    <tr>\n",
              "      <th>8</th>\n",
              "      <td>APARTMENTS_AVG</td>\n",
              "      <td>156060.0</td>\n",
              "      <td>0.507501</td>\n",
              "    </tr>\n",
              "    <tr>\n",
              "      <th>9</th>\n",
              "      <td>BASEMENTAREA_AVG</td>\n",
              "      <td>179942.0</td>\n",
              "      <td>0.585164</td>\n",
              "    </tr>\n",
              "    <tr>\n",
              "      <th>11</th>\n",
              "      <td>YEARS_BUILD_AVG</td>\n",
              "      <td>204486.0</td>\n",
              "      <td>0.664980</td>\n",
              "    </tr>\n",
              "    <tr>\n",
              "      <th>...</th>\n",
              "      <td>...</td>\n",
              "      <td>...</td>\n",
              "      <td>...</td>\n",
              "    </tr>\n",
              "    <tr>\n",
              "      <th>571</th>\n",
              "      <td>CC_SK_DPD_DEF_MAX</td>\n",
              "      <td>220602.0</td>\n",
              "      <td>0.717389</td>\n",
              "    </tr>\n",
              "    <tr>\n",
              "      <th>572</th>\n",
              "      <td>CC_SK_DPD_DEF_MEAN</td>\n",
              "      <td>220602.0</td>\n",
              "      <td>0.717389</td>\n",
              "    </tr>\n",
              "    <tr>\n",
              "      <th>573</th>\n",
              "      <td>CC_SK_DPD_DEF_SUM</td>\n",
              "      <td>220602.0</td>\n",
              "      <td>0.717389</td>\n",
              "    </tr>\n",
              "    <tr>\n",
              "      <th>574</th>\n",
              "      <td>CC_SK_DPD_DEF_VAR</td>\n",
              "      <td>221234.0</td>\n",
              "      <td>0.719444</td>\n",
              "    </tr>\n",
              "    <tr>\n",
              "      <th>575</th>\n",
              "      <td>CC_COUNT</td>\n",
              "      <td>220602.0</td>\n",
              "      <td>0.717389</td>\n",
              "    </tr>\n",
              "  </tbody>\n",
              "</table>\n",
              "<p>196 rows × 3 columns</p>\n",
              "</div>\n",
              "      <button class=\"colab-df-convert\" onclick=\"convertToInteractive('df-4cda962b-d48c-45b7-985e-29c81851a889')\"\n",
              "              title=\"Convert this dataframe to an interactive table.\"\n",
              "              style=\"display:none;\">\n",
              "        \n",
              "  <svg xmlns=\"http://www.w3.org/2000/svg\" height=\"24px\"viewBox=\"0 0 24 24\"\n",
              "       width=\"24px\">\n",
              "    <path d=\"M0 0h24v24H0V0z\" fill=\"none\"/>\n",
              "    <path d=\"M18.56 5.44l.94 2.06.94-2.06 2.06-.94-2.06-.94-.94-2.06-.94 2.06-2.06.94zm-11 1L8.5 8.5l.94-2.06 2.06-.94-2.06-.94L8.5 2.5l-.94 2.06-2.06.94zm10 10l.94 2.06.94-2.06 2.06-.94-2.06-.94-.94-2.06-.94 2.06-2.06.94z\"/><path d=\"M17.41 7.96l-1.37-1.37c-.4-.4-.92-.59-1.43-.59-.52 0-1.04.2-1.43.59L10.3 9.45l-7.72 7.72c-.78.78-.78 2.05 0 2.83L4 21.41c.39.39.9.59 1.41.59.51 0 1.02-.2 1.41-.59l7.78-7.78 2.81-2.81c.8-.78.8-2.07 0-2.86zM5.41 20L4 18.59l7.72-7.72 1.47 1.35L5.41 20z\"/>\n",
              "  </svg>\n",
              "      </button>\n",
              "      \n",
              "  <style>\n",
              "    .colab-df-container {\n",
              "      display:flex;\n",
              "      flex-wrap:wrap;\n",
              "      gap: 12px;\n",
              "    }\n",
              "\n",
              "    .colab-df-convert {\n",
              "      background-color: #E8F0FE;\n",
              "      border: none;\n",
              "      border-radius: 50%;\n",
              "      cursor: pointer;\n",
              "      display: none;\n",
              "      fill: #1967D2;\n",
              "      height: 32px;\n",
              "      padding: 0 0 0 0;\n",
              "      width: 32px;\n",
              "    }\n",
              "\n",
              "    .colab-df-convert:hover {\n",
              "      background-color: #E2EBFA;\n",
              "      box-shadow: 0px 1px 2px rgba(60, 64, 67, 0.3), 0px 1px 3px 1px rgba(60, 64, 67, 0.15);\n",
              "      fill: #174EA6;\n",
              "    }\n",
              "\n",
              "    [theme=dark] .colab-df-convert {\n",
              "      background-color: #3B4455;\n",
              "      fill: #D2E3FC;\n",
              "    }\n",
              "\n",
              "    [theme=dark] .colab-df-convert:hover {\n",
              "      background-color: #434B5C;\n",
              "      box-shadow: 0px 1px 3px 1px rgba(0, 0, 0, 0.15);\n",
              "      filter: drop-shadow(0px 1px 2px rgba(0, 0, 0, 0.3));\n",
              "      fill: #FFFFFF;\n",
              "    }\n",
              "  </style>\n",
              "\n",
              "      <script>\n",
              "        const buttonEl =\n",
              "          document.querySelector('#df-4cda962b-d48c-45b7-985e-29c81851a889 button.colab-df-convert');\n",
              "        buttonEl.style.display =\n",
              "          google.colab.kernel.accessAllowed ? 'block' : 'none';\n",
              "\n",
              "        async function convertToInteractive(key) {\n",
              "          const element = document.querySelector('#df-4cda962b-d48c-45b7-985e-29c81851a889');\n",
              "          const dataTable =\n",
              "            await google.colab.kernel.invokeFunction('convertToInteractive',\n",
              "                                                     [key], {});\n",
              "          if (!dataTable) return;\n",
              "\n",
              "          const docLinkHtml = 'Like what you see? Visit the ' +\n",
              "            '<a target=\"_blank\" href=https://colab.research.google.com/notebooks/data_table.ipynb>data table notebook</a>'\n",
              "            + ' to learn more about interactive tables.';\n",
              "          element.innerHTML = '';\n",
              "          dataTable['output_type'] = 'display_data';\n",
              "          await google.colab.output.renderOutput(dataTable, element);\n",
              "          const docLink = document.createElement('div');\n",
              "          docLink.innerHTML = docLinkHtml;\n",
              "          element.appendChild(docLink);\n",
              "        }\n",
              "      </script>\n",
              "    </div>\n",
              "  </div>\n",
              "  "
            ],
            "text/plain": [
              "            nan_columns    nan_nb  nan_ratio\n",
              "3           OWN_CAR_AGE  202927.0   0.659910\n",
              "5          EXT_SOURCE_1  173376.0   0.563812\n",
              "8        APARTMENTS_AVG  156060.0   0.507501\n",
              "9      BASEMENTAREA_AVG  179942.0   0.585164\n",
              "11      YEARS_BUILD_AVG  204486.0   0.664980\n",
              "..                  ...       ...        ...\n",
              "571   CC_SK_DPD_DEF_MAX  220602.0   0.717389\n",
              "572  CC_SK_DPD_DEF_MEAN  220602.0   0.717389\n",
              "573   CC_SK_DPD_DEF_SUM  220602.0   0.717389\n",
              "574   CC_SK_DPD_DEF_VAR  221234.0   0.719444\n",
              "575            CC_COUNT  220602.0   0.717389\n",
              "\n",
              "[196 rows x 3 columns]"
            ]
          },
          "metadata": {},
          "execution_count": 13
        }
      ]
    },
    {
      "cell_type": "code",
      "source": [
        "for column in train_df.columns:\n",
        "    train_df[column].fillna(train_df[column].mean(),inplace = True)\n",
        "for column in test_df.columns:\n",
        "    test_df[column].fillna(test_df[column].mean(),inplace = True)\n"
      ],
      "metadata": {
        "colab": {
          "base_uri": "https://localhost:8080/"
        },
        "id": "CoEnaar0dpf1",
        "outputId": "00340fb7-6531-4887-ed2f-15d6ba82937c"
      },
      "execution_count": 14,
      "outputs": [
        {
          "output_type": "stream",
          "name": "stderr",
          "text": [
            "/usr/local/lib/python3.7/dist-packages/pandas/core/generic.py:6392: SettingWithCopyWarning: \n",
            "A value is trying to be set on a copy of a slice from a DataFrame\n",
            "\n",
            "See the caveats in the documentation: https://pandas.pydata.org/pandas-docs/stable/user_guide/indexing.html#returning-a-view-versus-a-copy\n",
            "  return self._update_inplace(result)\n"
          ]
        }
      ]
    },
    {
      "cell_type": "code",
      "source": [
        "train_df.drop(columns = most_nan['nan_columns'],inplace = True)\n",
        "test_df.drop(columns = most_nan['nan_columns'],inplace = True)"
      ],
      "metadata": {
        "colab": {
          "base_uri": "https://localhost:8080/"
        },
        "id": "GwDw7UKKcAG0",
        "outputId": "73ed0031-e6b1-44c4-9c3f-5ae7d07d3c1f"
      },
      "execution_count": 15,
      "outputs": [
        {
          "output_type": "stream",
          "name": "stderr",
          "text": [
            "/usr/local/lib/python3.7/dist-packages/pandas/core/frame.py:4913: SettingWithCopyWarning: \n",
            "A value is trying to be set on a copy of a slice from a DataFrame\n",
            "\n",
            "See the caveats in the documentation: https://pandas.pydata.org/pandas-docs/stable/user_guide/indexing.html#returning-a-view-versus-a-copy\n",
            "  errors=errors,\n"
          ]
        }
      ]
    },
    {
      "cell_type": "markdown",
      "source": [
        "# Corrélation entre colonnes \n"
      ],
      "metadata": {
        "id": "4OX5DjgnBQ6A"
      }
    },
    {
      "cell_type": "code",
      "source": [
        "# Create correlation matrix\n",
        "corr_matrix = test_df.corr().abs()\n",
        "\n",
        "# Select upper triangle of correlation matrix\n",
        "upper = corr_matrix.where(np.triu(np.ones(corr_matrix.shape), k=1).astype(np.bool))\n",
        "\n",
        "# Find features with correlation greater than 0.95\n",
        "to_drop = [column for column in upper.columns if any(upper[column] > 0.95)]\n",
        "\n",
        "# Drop features \n",
        "#df.drop(to_drop, axis=1, inplace=True)"
      ],
      "metadata": {
        "colab": {
          "base_uri": "https://localhost:8080/"
        },
        "id": "8ib4iZYp7RcD",
        "outputId": "6f12354f-ce03-4793-c53d-58164e69064b"
      },
      "execution_count": 16,
      "outputs": [
        {
          "output_type": "stream",
          "name": "stderr",
          "text": [
            "/usr/local/lib/python3.7/dist-packages/ipykernel_launcher.py:5: DeprecationWarning: `np.bool` is a deprecated alias for the builtin `bool`. To silence this warning, use `bool` by itself. Doing this will not modify any behavior and is safe. If you specifically wanted the numpy scalar type, use `np.bool_` here.\n",
            "Deprecated in NumPy 1.20; for more details and guidance: https://numpy.org/devdocs/release/1.20.0-notes.html#deprecations\n",
            "  \"\"\"\n"
          ]
        }
      ]
    },
    {
      "cell_type": "code",
      "source": [
        ""
      ],
      "metadata": {
        "id": "gPGlGkPSbl7p"
      },
      "execution_count": 16,
      "outputs": []
    },
    {
      "cell_type": "code",
      "source": [
        "for column in train_df.columns:\n",
        " train_df = train_df[np.abs(train_df[column]-train_df[column].mean()) <= (5*train_df[column].std())]"
      ],
      "metadata": {
        "id": "IkUGcFvwZZGL"
      },
      "execution_count": 17,
      "outputs": []
    },
    {
      "cell_type": "code",
      "source": [
        ""
      ],
      "metadata": {
        "id": "pt5wn4Mbj69R"
      },
      "execution_count": 17,
      "outputs": []
    },
    {
      "cell_type": "code",
      "source": [
        "train_df_light = train_df.drop(columns=to_drop)\n",
        "test_df_light = test_df.drop(columns=to_drop)\n",
        "train_df_light = train_df.copy()\n",
        "test_df_light = test_df.copy()\n",
        "for column in test_df_light.columns:\n",
        "    test_df_light.fillna(test_df_light[column].mean(),inplace = True)   \n",
        "for column in train_df_light.columns:\n",
        "    train_df_light[column].fillna(train_df_light[column].mean(),inplace = True)\n",
        "\n"
      ],
      "metadata": {
        "id": "PIKc8UrgoszX"
      },
      "execution_count": 18,
      "outputs": []
    },
    {
      "cell_type": "code",
      "source": [
        "np.shape(train_df)"
      ],
      "metadata": {
        "colab": {
          "base_uri": "https://localhost:8080/"
        },
        "id": "dnIBqZkKarFK",
        "outputId": "01ee1954-9a8d-4313-aa44-1e56a262e90b"
      },
      "execution_count": 19,
      "outputs": [
        {
          "output_type": "execute_result",
          "data": {
            "text/plain": [
              "(36830, 560)"
            ]
          },
          "metadata": {},
          "execution_count": 19
        }
      ]
    },
    {
      "cell_type": "code",
      "source": [
        "X=train_df.drop(columns = 'TARGET')\n",
        "X_light = train_df_light.drop(columns = 'TARGET')\n",
        "y = train_df.TARGET"
      ],
      "metadata": {
        "id": "w6EWM37ql899"
      },
      "execution_count": 20,
      "outputs": []
    },
    {
      "cell_type": "code",
      "source": [
        "train_df.TARGET.describe()"
      ],
      "metadata": {
        "colab": {
          "base_uri": "https://localhost:8080/"
        },
        "id": "mcQCk72frRlV",
        "outputId": "726d7911-a506-4a2c-f6ab-82923a9dbc95"
      },
      "execution_count": 21,
      "outputs": [
        {
          "output_type": "execute_result",
          "data": {
            "text/plain": [
              "count    36830.000000\n",
              "mean         0.074776\n",
              "std          0.263033\n",
              "min          0.000000\n",
              "25%          0.000000\n",
              "50%          0.000000\n",
              "75%          0.000000\n",
              "max          1.000000\n",
              "Name: TARGET, dtype: float64"
            ]
          },
          "metadata": {},
          "execution_count": 21
        }
      ]
    },
    {
      "cell_type": "code",
      "source": [
        "pd.DataFrame(X_light).describe()"
      ],
      "metadata": {
        "colab": {
          "base_uri": "https://localhost:8080/",
          "height": 410
        },
        "id": "FuD17wPgZUvi",
        "outputId": "e1614591-92ea-4774-9afc-7e1b255fe7af"
      },
      "execution_count": 22,
      "outputs": [
        {
          "output_type": "execute_result",
          "data": {
            "text/html": [
              "\n",
              "  <div id=\"df-4bb865b8-fcd7-485c-b0ce-546969165930\">\n",
              "    <div class=\"colab-df-container\">\n",
              "      <div>\n",
              "<style scoped>\n",
              "    .dataframe tbody tr th:only-of-type {\n",
              "        vertical-align: middle;\n",
              "    }\n",
              "\n",
              "    .dataframe tbody tr th {\n",
              "        vertical-align: top;\n",
              "    }\n",
              "\n",
              "    .dataframe thead th {\n",
              "        text-align: right;\n",
              "    }\n",
              "</style>\n",
              "<table border=\"1\" class=\"dataframe\">\n",
              "  <thead>\n",
              "    <tr style=\"text-align: right;\">\n",
              "      <th></th>\n",
              "      <th>CODE_GENDER</th>\n",
              "      <th>FLAG_OWN_CAR</th>\n",
              "      <th>FLAG_OWN_REALTY</th>\n",
              "      <th>CNT_CHILDREN</th>\n",
              "      <th>AMT_INCOME_TOTAL</th>\n",
              "      <th>AMT_CREDIT</th>\n",
              "      <th>AMT_ANNUITY</th>\n",
              "      <th>AMT_GOODS_PRICE</th>\n",
              "      <th>REGION_POPULATION_RELATIVE</th>\n",
              "      <th>DAYS_BIRTH</th>\n",
              "      <th>DAYS_EMPLOYED</th>\n",
              "      <th>DAYS_REGISTRATION</th>\n",
              "      <th>DAYS_ID_PUBLISH</th>\n",
              "      <th>FLAG_MOBIL</th>\n",
              "      <th>FLAG_EMP_PHONE</th>\n",
              "      <th>FLAG_WORK_PHONE</th>\n",
              "      <th>FLAG_CONT_MOBILE</th>\n",
              "      <th>FLAG_PHONE</th>\n",
              "      <th>FLAG_EMAIL</th>\n",
              "      <th>CNT_FAM_MEMBERS</th>\n",
              "      <th>REGION_RATING_CLIENT</th>\n",
              "      <th>REGION_RATING_CLIENT_W_CITY</th>\n",
              "      <th>HOUR_APPR_PROCESS_START</th>\n",
              "      <th>REG_REGION_NOT_LIVE_REGION</th>\n",
              "      <th>REG_REGION_NOT_WORK_REGION</th>\n",
              "      <th>LIVE_REGION_NOT_WORK_REGION</th>\n",
              "      <th>REG_CITY_NOT_LIVE_CITY</th>\n",
              "      <th>REG_CITY_NOT_WORK_CITY</th>\n",
              "      <th>LIVE_CITY_NOT_WORK_CITY</th>\n",
              "      <th>EXT_SOURCE_2</th>\n",
              "      <th>EXT_SOURCE_3</th>\n",
              "      <th>YEARS_BEGINEXPLUATATION_AVG</th>\n",
              "      <th>FLOORSMAX_AVG</th>\n",
              "      <th>YEARS_BEGINEXPLUATATION_MODE</th>\n",
              "      <th>FLOORSMAX_MODE</th>\n",
              "      <th>YEARS_BEGINEXPLUATATION_MEDI</th>\n",
              "      <th>FLOORSMAX_MEDI</th>\n",
              "      <th>TOTALAREA_MODE</th>\n",
              "      <th>OBS_30_CNT_SOCIAL_CIRCLE</th>\n",
              "      <th>DEF_30_CNT_SOCIAL_CIRCLE</th>\n",
              "      <th>...</th>\n",
              "      <th>POS_SK_DPD_MEAN</th>\n",
              "      <th>POS_SK_DPD_DEF_MAX</th>\n",
              "      <th>POS_SK_DPD_DEF_MEAN</th>\n",
              "      <th>POS_NAME_CONTRACT_STATUS_Active_MEAN</th>\n",
              "      <th>POS_NAME_CONTRACT_STATUS_Amortized debt_MEAN</th>\n",
              "      <th>POS_NAME_CONTRACT_STATUS_Approved_MEAN</th>\n",
              "      <th>POS_NAME_CONTRACT_STATUS_Canceled_MEAN</th>\n",
              "      <th>POS_NAME_CONTRACT_STATUS_Completed_MEAN</th>\n",
              "      <th>POS_NAME_CONTRACT_STATUS_Demand_MEAN</th>\n",
              "      <th>POS_NAME_CONTRACT_STATUS_Returned to the store_MEAN</th>\n",
              "      <th>POS_NAME_CONTRACT_STATUS_Signed_MEAN</th>\n",
              "      <th>POS_NAME_CONTRACT_STATUS_XNA_MEAN</th>\n",
              "      <th>POS_NAME_CONTRACT_STATUS_nan_MEAN</th>\n",
              "      <th>POS_COUNT</th>\n",
              "      <th>INSTAL_NUM_INSTALMENT_VERSION_NUNIQUE</th>\n",
              "      <th>INSTAL_DPD_MAX</th>\n",
              "      <th>INSTAL_DPD_MEAN</th>\n",
              "      <th>INSTAL_DPD_SUM</th>\n",
              "      <th>INSTAL_DBD_MAX</th>\n",
              "      <th>INSTAL_DBD_MEAN</th>\n",
              "      <th>INSTAL_DBD_SUM</th>\n",
              "      <th>INSTAL_PAYMENT_PERC_MAX</th>\n",
              "      <th>INSTAL_PAYMENT_PERC_MEAN</th>\n",
              "      <th>INSTAL_PAYMENT_PERC_SUM</th>\n",
              "      <th>INSTAL_PAYMENT_PERC_VAR</th>\n",
              "      <th>INSTAL_PAYMENT_DIFF_MAX</th>\n",
              "      <th>INSTAL_PAYMENT_DIFF_MEAN</th>\n",
              "      <th>INSTAL_PAYMENT_DIFF_SUM</th>\n",
              "      <th>INSTAL_PAYMENT_DIFF_VAR</th>\n",
              "      <th>INSTAL_AMT_INSTALMENT_MAX</th>\n",
              "      <th>INSTAL_AMT_INSTALMENT_MEAN</th>\n",
              "      <th>INSTAL_AMT_INSTALMENT_SUM</th>\n",
              "      <th>INSTAL_AMT_PAYMENT_MIN</th>\n",
              "      <th>INSTAL_AMT_PAYMENT_MAX</th>\n",
              "      <th>INSTAL_AMT_PAYMENT_MEAN</th>\n",
              "      <th>INSTAL_AMT_PAYMENT_SUM</th>\n",
              "      <th>INSTAL_DAYS_ENTRY_PAYMENT_MAX</th>\n",
              "      <th>INSTAL_DAYS_ENTRY_PAYMENT_MEAN</th>\n",
              "      <th>INSTAL_DAYS_ENTRY_PAYMENT_SUM</th>\n",
              "      <th>INSTAL_COUNT</th>\n",
              "    </tr>\n",
              "  </thead>\n",
              "  <tbody>\n",
              "    <tr>\n",
              "      <th>count</th>\n",
              "      <td>36830.000000</td>\n",
              "      <td>36830.000000</td>\n",
              "      <td>36830.000000</td>\n",
              "      <td>36830.000000</td>\n",
              "      <td>3.683000e+04</td>\n",
              "      <td>3.683000e+04</td>\n",
              "      <td>36830.000000</td>\n",
              "      <td>3.683000e+04</td>\n",
              "      <td>36830.000000</td>\n",
              "      <td>36830.000000</td>\n",
              "      <td>36830.000000</td>\n",
              "      <td>36830.000000</td>\n",
              "      <td>36830.000000</td>\n",
              "      <td>36830.0</td>\n",
              "      <td>36830.000000</td>\n",
              "      <td>36830.000000</td>\n",
              "      <td>36830.0</td>\n",
              "      <td>36830.000000</td>\n",
              "      <td>36830.000000</td>\n",
              "      <td>36830.000000</td>\n",
              "      <td>36830.000000</td>\n",
              "      <td>36830.000000</td>\n",
              "      <td>36830.000000</td>\n",
              "      <td>36830.0</td>\n",
              "      <td>36830.0</td>\n",
              "      <td>36830.0</td>\n",
              "      <td>36830.000000</td>\n",
              "      <td>36830.000000</td>\n",
              "      <td>36830.00000</td>\n",
              "      <td>36830.000000</td>\n",
              "      <td>36830.000000</td>\n",
              "      <td>36830.000000</td>\n",
              "      <td>36830.000000</td>\n",
              "      <td>36830.000000</td>\n",
              "      <td>36830.000000</td>\n",
              "      <td>36830.000000</td>\n",
              "      <td>36830.000000</td>\n",
              "      <td>36830.000000</td>\n",
              "      <td>36830.000000</td>\n",
              "      <td>36830.000000</td>\n",
              "      <td>...</td>\n",
              "      <td>36830.000000</td>\n",
              "      <td>36830.000000</td>\n",
              "      <td>36830.000000</td>\n",
              "      <td>36830.000000</td>\n",
              "      <td>36830.000000</td>\n",
              "      <td>36830.000000</td>\n",
              "      <td>3.683000e+04</td>\n",
              "      <td>36830.000000</td>\n",
              "      <td>36830.000000</td>\n",
              "      <td>36830.000000</td>\n",
              "      <td>36830.000000</td>\n",
              "      <td>3.683000e+04</td>\n",
              "      <td>36830.0</td>\n",
              "      <td>36830.000000</td>\n",
              "      <td>36830.000000</td>\n",
              "      <td>36830.000000</td>\n",
              "      <td>36830.000000</td>\n",
              "      <td>36830.000000</td>\n",
              "      <td>36830.000000</td>\n",
              "      <td>36830.000000</td>\n",
              "      <td>36830.000000</td>\n",
              "      <td>36830.000000</td>\n",
              "      <td>36830.000000</td>\n",
              "      <td>36830.000000</td>\n",
              "      <td>36830.000000</td>\n",
              "      <td>36830.000000</td>\n",
              "      <td>36830.000000</td>\n",
              "      <td>36830.000000</td>\n",
              "      <td>3.683000e+04</td>\n",
              "      <td>36830.000000</td>\n",
              "      <td>36830.000000</td>\n",
              "      <td>3.683000e+04</td>\n",
              "      <td>36830.000000</td>\n",
              "      <td>36830.000000</td>\n",
              "      <td>36830.000000</td>\n",
              "      <td>3.683000e+04</td>\n",
              "      <td>36830.000000</td>\n",
              "      <td>36830.000000</td>\n",
              "      <td>36830.000000</td>\n",
              "      <td>36830.000000</td>\n",
              "    </tr>\n",
              "    <tr>\n",
              "      <th>mean</th>\n",
              "      <td>0.705675</td>\n",
              "      <td>0.275753</td>\n",
              "      <td>0.271979</td>\n",
              "      <td>0.308281</td>\n",
              "      <td>1.427650e+05</td>\n",
              "      <td>5.360542e+05</td>\n",
              "      <td>24620.161988</td>\n",
              "      <td>4.796377e+05</td>\n",
              "      <td>0.019652</td>\n",
              "      <td>-17640.938556</td>\n",
              "      <td>-2114.787717</td>\n",
              "      <td>-5507.329161</td>\n",
              "      <td>-3229.452512</td>\n",
              "      <td>1.0</td>\n",
              "      <td>0.577084</td>\n",
              "      <td>0.128917</td>\n",
              "      <td>1.0</td>\n",
              "      <td>0.251100</td>\n",
              "      <td>0.036546</td>\n",
              "      <td>2.008526</td>\n",
              "      <td>2.111132</td>\n",
              "      <td>2.095004</td>\n",
              "      <td>11.750339</td>\n",
              "      <td>0.0</td>\n",
              "      <td>0.0</td>\n",
              "      <td>0.0</td>\n",
              "      <td>0.060521</td>\n",
              "      <td>0.163725</td>\n",
              "      <td>0.12574</td>\n",
              "      <td>0.499005</td>\n",
              "      <td>0.535162</td>\n",
              "      <td>0.979478</td>\n",
              "      <td>0.222637</td>\n",
              "      <td>0.979014</td>\n",
              "      <td>0.219147</td>\n",
              "      <td>0.979489</td>\n",
              "      <td>0.222321</td>\n",
              "      <td>0.098929</td>\n",
              "      <td>1.338035</td>\n",
              "      <td>0.113349</td>\n",
              "      <td>...</td>\n",
              "      <td>0.459806</td>\n",
              "      <td>0.784926</td>\n",
              "      <td>0.045169</td>\n",
              "      <td>0.914129</td>\n",
              "      <td>0.000001</td>\n",
              "      <td>0.000159</td>\n",
              "      <td>2.409450e-07</td>\n",
              "      <td>0.076836</td>\n",
              "      <td>0.000022</td>\n",
              "      <td>0.000229</td>\n",
              "      <td>0.008623</td>\n",
              "      <td>3.287919e-09</td>\n",
              "      <td>0.0</td>\n",
              "      <td>31.708867</td>\n",
              "      <td>2.143078</td>\n",
              "      <td>7.791627</td>\n",
              "      <td>0.483777</td>\n",
              "      <td>21.593481</td>\n",
              "      <td>37.213672</td>\n",
              "      <td>12.253652</td>\n",
              "      <td>413.667771</td>\n",
              "      <td>2.622185</td>\n",
              "      <td>1.020781</td>\n",
              "      <td>40.400537</td>\n",
              "      <td>1499.143866</td>\n",
              "      <td>5827.601315</td>\n",
              "      <td>77.060778</td>\n",
              "      <td>8158.530996</td>\n",
              "      <td>6.080870e+07</td>\n",
              "      <td>94232.600014</td>\n",
              "      <td>14370.381581</td>\n",
              "      <td>5.761700e+05</td>\n",
              "      <td>4002.738854</td>\n",
              "      <td>95253.181898</td>\n",
              "      <td>14293.238711</td>\n",
              "      <td>5.678961e+05</td>\n",
              "      <td>-268.181268</td>\n",
              "      <td>-889.664590</td>\n",
              "      <td>-40115.260386</td>\n",
              "      <td>40.254894</td>\n",
              "    </tr>\n",
              "    <tr>\n",
              "      <th>std</th>\n",
              "      <td>0.455745</td>\n",
              "      <td>0.446899</td>\n",
              "      <td>0.444985</td>\n",
              "      <td>0.638016</td>\n",
              "      <td>6.880692e+04</td>\n",
              "      <td>3.538535e+05</td>\n",
              "      <td>12685.680651</td>\n",
              "      <td>3.215773e+05</td>\n",
              "      <td>0.012192</td>\n",
              "      <td>4729.153934</td>\n",
              "      <td>1273.851965</td>\n",
              "      <td>3745.933266</td>\n",
              "      <td>1472.842538</td>\n",
              "      <td>0.0</td>\n",
              "      <td>0.494029</td>\n",
              "      <td>0.335112</td>\n",
              "      <td>0.0</td>\n",
              "      <td>0.433652</td>\n",
              "      <td>0.187648</td>\n",
              "      <td>0.846966</td>\n",
              "      <td>0.468165</td>\n",
              "      <td>0.461402</td>\n",
              "      <td>3.130283</td>\n",
              "      <td>0.0</td>\n",
              "      <td>0.0</td>\n",
              "      <td>0.0</td>\n",
              "      <td>0.238453</td>\n",
              "      <td>0.370031</td>\n",
              "      <td>0.33156</td>\n",
              "      <td>0.192927</td>\n",
              "      <td>0.160199</td>\n",
              "      <td>0.005007</td>\n",
              "      <td>0.076408</td>\n",
              "      <td>0.005150</td>\n",
              "      <td>0.076056</td>\n",
              "      <td>0.005016</td>\n",
              "      <td>0.076642</td>\n",
              "      <td>0.052455</td>\n",
              "      <td>2.106326</td>\n",
              "      <td>0.340367</td>\n",
              "      <td>...</td>\n",
              "      <td>1.401616</td>\n",
              "      <td>2.494363</td>\n",
              "      <td>0.127238</td>\n",
              "      <td>0.049420</td>\n",
              "      <td>0.000004</td>\n",
              "      <td>0.001464</td>\n",
              "      <td>8.351606e-07</td>\n",
              "      <td>0.044418</td>\n",
              "      <td>0.000076</td>\n",
              "      <td>0.002025</td>\n",
              "      <td>0.019967</td>\n",
              "      <td>1.139655e-08</td>\n",
              "      <td>0.0</td>\n",
              "      <td>22.531258</td>\n",
              "      <td>1.183366</td>\n",
              "      <td>15.961226</td>\n",
              "      <td>0.908902</td>\n",
              "      <td>41.440681</td>\n",
              "      <td>21.501125</td>\n",
              "      <td>7.038378</td>\n",
              "      <td>350.512245</td>\n",
              "      <td>5.784125</td>\n",
              "      <td>0.219185</td>\n",
              "      <td>34.714352</td>\n",
              "      <td>5373.728145</td>\n",
              "      <td>9427.661362</td>\n",
              "      <td>1648.872424</td>\n",
              "      <td>74090.642268</td>\n",
              "      <td>1.908675e+08</td>\n",
              "      <td>134871.498281</td>\n",
              "      <td>9054.044481</td>\n",
              "      <td>5.980929e+05</td>\n",
              "      <td>4618.912446</td>\n",
              "      <td>135377.410848</td>\n",
              "      <td>9291.287649</td>\n",
              "      <td>5.913255e+05</td>\n",
              "      <td>448.934788</td>\n",
              "      <td>530.393472</td>\n",
              "      <td>46553.192773</td>\n",
              "      <td>34.992745</td>\n",
              "    </tr>\n",
              "    <tr>\n",
              "      <th>min</th>\n",
              "      <td>0.000000</td>\n",
              "      <td>0.000000</td>\n",
              "      <td>0.000000</td>\n",
              "      <td>0.000000</td>\n",
              "      <td>2.610000e+04</td>\n",
              "      <td>4.500000e+04</td>\n",
              "      <td>2317.500000</td>\n",
              "      <td>4.500000e+04</td>\n",
              "      <td>0.000533</td>\n",
              "      <td>-25196.000000</td>\n",
              "      <td>-12048.000000</td>\n",
              "      <td>-20838.000000</td>\n",
              "      <td>-6235.000000</td>\n",
              "      <td>1.0</td>\n",
              "      <td>0.000000</td>\n",
              "      <td>0.000000</td>\n",
              "      <td>1.0</td>\n",
              "      <td>0.000000</td>\n",
              "      <td>0.000000</td>\n",
              "      <td>1.000000</td>\n",
              "      <td>1.000000</td>\n",
              "      <td>1.000000</td>\n",
              "      <td>0.000000</td>\n",
              "      <td>0.0</td>\n",
              "      <td>0.0</td>\n",
              "      <td>0.0</td>\n",
              "      <td>0.000000</td>\n",
              "      <td>0.000000</td>\n",
              "      <td>0.00000</td>\n",
              "      <td>0.000023</td>\n",
              "      <td>0.000527</td>\n",
              "      <td>0.950300</td>\n",
              "      <td>0.000000</td>\n",
              "      <td>0.944900</td>\n",
              "      <td>0.000000</td>\n",
              "      <td>0.950300</td>\n",
              "      <td>0.000000</td>\n",
              "      <td>0.000000</td>\n",
              "      <td>0.000000</td>\n",
              "      <td>0.000000</td>\n",
              "      <td>...</td>\n",
              "      <td>0.000000</td>\n",
              "      <td>0.000000</td>\n",
              "      <td>0.000000</td>\n",
              "      <td>0.625000</td>\n",
              "      <td>0.000000</td>\n",
              "      <td>0.000000</td>\n",
              "      <td>0.000000e+00</td>\n",
              "      <td>0.000000</td>\n",
              "      <td>0.000000</td>\n",
              "      <td>0.000000</td>\n",
              "      <td>0.000000</td>\n",
              "      <td>0.000000e+00</td>\n",
              "      <td>0.0</td>\n",
              "      <td>1.000000</td>\n",
              "      <td>1.000000</td>\n",
              "      <td>0.000000</td>\n",
              "      <td>0.000000</td>\n",
              "      <td>0.000000</td>\n",
              "      <td>0.000000</td>\n",
              "      <td>0.000000</td>\n",
              "      <td>0.000000</td>\n",
              "      <td>0.704094</td>\n",
              "      <td>0.500000</td>\n",
              "      <td>1.000000</td>\n",
              "      <td>0.000000</td>\n",
              "      <td>-5065.110000</td>\n",
              "      <td>-18945.000000</td>\n",
              "      <td>-599361.570000</td>\n",
              "      <td>0.000000e+00</td>\n",
              "      <td>28.800000</td>\n",
              "      <td>28.800000</td>\n",
              "      <td>2.232765e+03</td>\n",
              "      <td>0.000000</td>\n",
              "      <td>28.800000</td>\n",
              "      <td>28.800000</td>\n",
              "      <td>2.232765e+03</td>\n",
              "      <td>-2648.000000</td>\n",
              "      <td>-2810.600000</td>\n",
              "      <td>-285614.000000</td>\n",
              "      <td>1.000000</td>\n",
              "    </tr>\n",
              "    <tr>\n",
              "      <th>25%</th>\n",
              "      <td>0.000000</td>\n",
              "      <td>0.000000</td>\n",
              "      <td>0.000000</td>\n",
              "      <td>0.000000</td>\n",
              "      <td>9.000000e+04</td>\n",
              "      <td>2.547000e+05</td>\n",
              "      <td>15061.500000</td>\n",
              "      <td>2.250000e+05</td>\n",
              "      <td>0.009657</td>\n",
              "      <td>-21832.750000</td>\n",
              "      <td>-2384.142254</td>\n",
              "      <td>-8250.750000</td>\n",
              "      <td>-4404.000000</td>\n",
              "      <td>1.0</td>\n",
              "      <td>0.000000</td>\n",
              "      <td>0.000000</td>\n",
              "      <td>1.0</td>\n",
              "      <td>0.000000</td>\n",
              "      <td>0.000000</td>\n",
              "      <td>1.000000</td>\n",
              "      <td>2.000000</td>\n",
              "      <td>2.000000</td>\n",
              "      <td>10.000000</td>\n",
              "      <td>0.0</td>\n",
              "      <td>0.0</td>\n",
              "      <td>0.0</td>\n",
              "      <td>0.000000</td>\n",
              "      <td>0.000000</td>\n",
              "      <td>0.00000</td>\n",
              "      <td>0.363193</td>\n",
              "      <td>0.479449</td>\n",
              "      <td>0.977735</td>\n",
              "      <td>0.166700</td>\n",
              "      <td>0.977065</td>\n",
              "      <td>0.166700</td>\n",
              "      <td>0.977752</td>\n",
              "      <td>0.166700</td>\n",
              "      <td>0.078800</td>\n",
              "      <td>0.000000</td>\n",
              "      <td>0.000000</td>\n",
              "      <td>...</td>\n",
              "      <td>0.000000</td>\n",
              "      <td>0.000000</td>\n",
              "      <td>0.000000</td>\n",
              "      <td>0.891892</td>\n",
              "      <td>0.000000</td>\n",
              "      <td>0.000000</td>\n",
              "      <td>0.000000e+00</td>\n",
              "      <td>0.050000</td>\n",
              "      <td>0.000000</td>\n",
              "      <td>0.000000</td>\n",
              "      <td>0.000000</td>\n",
              "      <td>0.000000e+00</td>\n",
              "      <td>0.0</td>\n",
              "      <td>14.000000</td>\n",
              "      <td>1.000000</td>\n",
              "      <td>0.000000</td>\n",
              "      <td>0.000000</td>\n",
              "      <td>0.000000</td>\n",
              "      <td>25.000000</td>\n",
              "      <td>7.468251</td>\n",
              "      <td>168.000000</td>\n",
              "      <td>1.000000</td>\n",
              "      <td>0.964286</td>\n",
              "      <td>15.000000</td>\n",
              "      <td>0.000000</td>\n",
              "      <td>0.000000</td>\n",
              "      <td>0.000000</td>\n",
              "      <td>0.000000</td>\n",
              "      <td>0.000000e+00</td>\n",
              "      <td>14183.291250</td>\n",
              "      <td>7892.928680</td>\n",
              "      <td>1.489983e+05</td>\n",
              "      <td>63.315000</td>\n",
              "      <td>14292.135000</td>\n",
              "      <td>7629.584625</td>\n",
              "      <td>1.461868e+05</td>\n",
              "      <td>-327.788394</td>\n",
              "      <td>-1210.529375</td>\n",
              "      <td>-47479.250000</td>\n",
              "      <td>15.000000</td>\n",
              "    </tr>\n",
              "    <tr>\n",
              "      <th>50%</th>\n",
              "      <td>1.000000</td>\n",
              "      <td>0.000000</td>\n",
              "      <td>0.000000</td>\n",
              "      <td>0.000000</td>\n",
              "      <td>1.350000e+05</td>\n",
              "      <td>4.545000e+05</td>\n",
              "      <td>22662.000000</td>\n",
              "      <td>4.500000e+05</td>\n",
              "      <td>0.018801</td>\n",
              "      <td>-18333.500000</td>\n",
              "      <td>-2384.142254</td>\n",
              "      <td>-4900.000000</td>\n",
              "      <td>-3806.500000</td>\n",
              "      <td>1.0</td>\n",
              "      <td>1.000000</td>\n",
              "      <td>0.000000</td>\n",
              "      <td>1.0</td>\n",
              "      <td>0.000000</td>\n",
              "      <td>0.000000</td>\n",
              "      <td>2.000000</td>\n",
              "      <td>2.000000</td>\n",
              "      <td>2.000000</td>\n",
              "      <td>12.000000</td>\n",
              "      <td>0.0</td>\n",
              "      <td>0.0</td>\n",
              "      <td>0.0</td>\n",
              "      <td>0.000000</td>\n",
              "      <td>0.000000</td>\n",
              "      <td>0.00000</td>\n",
              "      <td>0.547600</td>\n",
              "      <td>0.510856</td>\n",
              "      <td>0.977735</td>\n",
              "      <td>0.226284</td>\n",
              "      <td>0.977065</td>\n",
              "      <td>0.222317</td>\n",
              "      <td>0.977752</td>\n",
              "      <td>0.225899</td>\n",
              "      <td>0.102548</td>\n",
              "      <td>0.000000</td>\n",
              "      <td>0.000000</td>\n",
              "      <td>...</td>\n",
              "      <td>0.000000</td>\n",
              "      <td>0.000000</td>\n",
              "      <td>0.000000</td>\n",
              "      <td>0.916667</td>\n",
              "      <td>0.000000</td>\n",
              "      <td>0.000000</td>\n",
              "      <td>0.000000e+00</td>\n",
              "      <td>0.076923</td>\n",
              "      <td>0.000000</td>\n",
              "      <td>0.000000</td>\n",
              "      <td>0.000000</td>\n",
              "      <td>0.000000e+00</td>\n",
              "      <td>0.0</td>\n",
              "      <td>28.000000</td>\n",
              "      <td>2.000000</td>\n",
              "      <td>2.000000</td>\n",
              "      <td>0.068966</td>\n",
              "      <td>2.000000</td>\n",
              "      <td>33.000000</td>\n",
              "      <td>11.143892</td>\n",
              "      <td>333.000000</td>\n",
              "      <td>1.000000</td>\n",
              "      <td>1.000000</td>\n",
              "      <td>31.000000</td>\n",
              "      <td>0.009730</td>\n",
              "      <td>0.000000</td>\n",
              "      <td>0.000000</td>\n",
              "      <td>0.000000</td>\n",
              "      <td>1.622008e+05</td>\n",
              "      <td>35969.512500</td>\n",
              "      <td>12298.290937</td>\n",
              "      <td>3.829786e+05</td>\n",
              "      <td>2958.817500</td>\n",
              "      <td>36632.677500</td>\n",
              "      <td>12001.182643</td>\n",
              "      <td>3.739953e+05</td>\n",
              "      <td>-55.000000</td>\n",
              "      <td>-852.384025</td>\n",
              "      <td>-26462.500000</td>\n",
              "      <td>32.000000</td>\n",
              "    </tr>\n",
              "    <tr>\n",
              "      <th>75%</th>\n",
              "      <td>1.000000</td>\n",
              "      <td>1.000000</td>\n",
              "      <td>1.000000</td>\n",
              "      <td>0.000000</td>\n",
              "      <td>1.800000e+05</td>\n",
              "      <td>7.478865e+05</td>\n",
              "      <td>31320.000000</td>\n",
              "      <td>6.750000e+05</td>\n",
              "      <td>0.026392</td>\n",
              "      <td>-13617.000000</td>\n",
              "      <td>-1236.000000</td>\n",
              "      <td>-2431.000000</td>\n",
              "      <td>-2072.000000</td>\n",
              "      <td>1.0</td>\n",
              "      <td>1.000000</td>\n",
              "      <td>0.000000</td>\n",
              "      <td>1.0</td>\n",
              "      <td>1.000000</td>\n",
              "      <td>0.000000</td>\n",
              "      <td>2.000000</td>\n",
              "      <td>2.000000</td>\n",
              "      <td>2.000000</td>\n",
              "      <td>14.000000</td>\n",
              "      <td>0.0</td>\n",
              "      <td>0.0</td>\n",
              "      <td>0.0</td>\n",
              "      <td>0.000000</td>\n",
              "      <td>0.000000</td>\n",
              "      <td>0.00000</td>\n",
              "      <td>0.652951</td>\n",
              "      <td>0.651260</td>\n",
              "      <td>0.980600</td>\n",
              "      <td>0.226284</td>\n",
              "      <td>0.980100</td>\n",
              "      <td>0.222317</td>\n",
              "      <td>0.980600</td>\n",
              "      <td>0.225899</td>\n",
              "      <td>0.102548</td>\n",
              "      <td>2.000000</td>\n",
              "      <td>0.000000</td>\n",
              "      <td>...</td>\n",
              "      <td>0.000000</td>\n",
              "      <td>0.000000</td>\n",
              "      <td>0.000000</td>\n",
              "      <td>0.944444</td>\n",
              "      <td>0.000000</td>\n",
              "      <td>0.000000</td>\n",
              "      <td>0.000000e+00</td>\n",
              "      <td>0.096154</td>\n",
              "      <td>0.000000</td>\n",
              "      <td>0.000000</td>\n",
              "      <td>0.010587</td>\n",
              "      <td>0.000000e+00</td>\n",
              "      <td>0.0</td>\n",
              "      <td>42.000000</td>\n",
              "      <td>2.275347</td>\n",
              "      <td>11.000000</td>\n",
              "      <td>0.656783</td>\n",
              "      <td>29.000000</td>\n",
              "      <td>42.000000</td>\n",
              "      <td>14.960588</td>\n",
              "      <td>527.000000</td>\n",
              "      <td>1.000000</td>\n",
              "      <td>1.000000</td>\n",
              "      <td>51.136308</td>\n",
              "      <td>0.096627</td>\n",
              "      <td>7822.091250</td>\n",
              "      <td>336.531056</td>\n",
              "      <td>12839.096250</td>\n",
              "      <td>1.415248e+07</td>\n",
              "      <td>136339.331534</td>\n",
              "      <td>18392.646209</td>\n",
              "      <td>7.214300e+05</td>\n",
              "      <td>5890.905000</td>\n",
              "      <td>138179.741424</td>\n",
              "      <td>18754.361918</td>\n",
              "      <td>7.062658e+05</td>\n",
              "      <td>-26.000000</td>\n",
              "      <td>-467.350735</td>\n",
              "      <td>-9067.750000</td>\n",
              "      <td>50.000000</td>\n",
              "    </tr>\n",
              "    <tr>\n",
              "      <th>max</th>\n",
              "      <td>1.000000</td>\n",
              "      <td>1.000000</td>\n",
              "      <td>1.000000</td>\n",
              "      <td>4.000000</td>\n",
              "      <td>1.125000e+06</td>\n",
              "      <td>2.517300e+06</td>\n",
              "      <td>99004.500000</td>\n",
              "      <td>2.254500e+06</td>\n",
              "      <td>0.072508</td>\n",
              "      <td>-7673.000000</td>\n",
              "      <td>0.000000</td>\n",
              "      <td>0.000000</td>\n",
              "      <td>0.000000</td>\n",
              "      <td>1.0</td>\n",
              "      <td>1.000000</td>\n",
              "      <td>1.000000</td>\n",
              "      <td>1.0</td>\n",
              "      <td>1.000000</td>\n",
              "      <td>1.000000</td>\n",
              "      <td>6.000000</td>\n",
              "      <td>3.000000</td>\n",
              "      <td>3.000000</td>\n",
              "      <td>23.000000</td>\n",
              "      <td>0.0</td>\n",
              "      <td>0.0</td>\n",
              "      <td>0.0</td>\n",
              "      <td>1.000000</td>\n",
              "      <td>1.000000</td>\n",
              "      <td>1.00000</td>\n",
              "      <td>0.855000</td>\n",
              "      <td>0.882530</td>\n",
              "      <td>1.000000</td>\n",
              "      <td>0.725000</td>\n",
              "      <td>1.000000</td>\n",
              "      <td>0.666700</td>\n",
              "      <td>1.000000</td>\n",
              "      <td>0.666700</td>\n",
              "      <td>0.470800</td>\n",
              "      <td>13.000000</td>\n",
              "      <td>2.000000</td>\n",
              "      <td>...</td>\n",
              "      <td>30.227273</td>\n",
              "      <td>22.000000</td>\n",
              "      <td>1.192308</td>\n",
              "      <td>1.000000</td>\n",
              "      <td>0.000016</td>\n",
              "      <td>0.027586</td>\n",
              "      <td>3.135690e-06</td>\n",
              "      <td>0.300000</td>\n",
              "      <td>0.000286</td>\n",
              "      <td>0.035714</td>\n",
              "      <td>0.133333</td>\n",
              "      <td>4.278942e-08</td>\n",
              "      <td>0.0</td>\n",
              "      <td>154.000000</td>\n",
              "      <td>11.000000</td>\n",
              "      <td>308.000000</td>\n",
              "      <td>8.074074</td>\n",
              "      <td>310.000000</td>\n",
              "      <td>174.000000</td>\n",
              "      <td>49.533333</td>\n",
              "      <td>2398.000000</td>\n",
              "      <td>207.065060</td>\n",
              "      <td>11.793153</td>\n",
              "      <td>245.104730</td>\n",
              "      <td>20770.507439</td>\n",
              "      <td>68048.190000</td>\n",
              "      <td>12727.909459</td>\n",
              "      <td>597506.220000</td>\n",
              "      <td>2.254389e+09</td>\n",
              "      <td>870481.440000</td>\n",
              "      <td>66043.046786</td>\n",
              "      <td>3.933570e+06</td>\n",
              "      <td>27717.210000</td>\n",
              "      <td>870481.440000</td>\n",
              "      <td>62722.176279</td>\n",
              "      <td>3.640462e+06</td>\n",
              "      <td>-2.000000</td>\n",
              "      <td>-8.000000</td>\n",
              "      <td>-8.000000</td>\n",
              "      <td>216.000000</td>\n",
              "    </tr>\n",
              "  </tbody>\n",
              "</table>\n",
              "<p>8 rows × 559 columns</p>\n",
              "</div>\n",
              "      <button class=\"colab-df-convert\" onclick=\"convertToInteractive('df-4bb865b8-fcd7-485c-b0ce-546969165930')\"\n",
              "              title=\"Convert this dataframe to an interactive table.\"\n",
              "              style=\"display:none;\">\n",
              "        \n",
              "  <svg xmlns=\"http://www.w3.org/2000/svg\" height=\"24px\"viewBox=\"0 0 24 24\"\n",
              "       width=\"24px\">\n",
              "    <path d=\"M0 0h24v24H0V0z\" fill=\"none\"/>\n",
              "    <path d=\"M18.56 5.44l.94 2.06.94-2.06 2.06-.94-2.06-.94-.94-2.06-.94 2.06-2.06.94zm-11 1L8.5 8.5l.94-2.06 2.06-.94-2.06-.94L8.5 2.5l-.94 2.06-2.06.94zm10 10l.94 2.06.94-2.06 2.06-.94-2.06-.94-.94-2.06-.94 2.06-2.06.94z\"/><path d=\"M17.41 7.96l-1.37-1.37c-.4-.4-.92-.59-1.43-.59-.52 0-1.04.2-1.43.59L10.3 9.45l-7.72 7.72c-.78.78-.78 2.05 0 2.83L4 21.41c.39.39.9.59 1.41.59.51 0 1.02-.2 1.41-.59l7.78-7.78 2.81-2.81c.8-.78.8-2.07 0-2.86zM5.41 20L4 18.59l7.72-7.72 1.47 1.35L5.41 20z\"/>\n",
              "  </svg>\n",
              "      </button>\n",
              "      \n",
              "  <style>\n",
              "    .colab-df-container {\n",
              "      display:flex;\n",
              "      flex-wrap:wrap;\n",
              "      gap: 12px;\n",
              "    }\n",
              "\n",
              "    .colab-df-convert {\n",
              "      background-color: #E8F0FE;\n",
              "      border: none;\n",
              "      border-radius: 50%;\n",
              "      cursor: pointer;\n",
              "      display: none;\n",
              "      fill: #1967D2;\n",
              "      height: 32px;\n",
              "      padding: 0 0 0 0;\n",
              "      width: 32px;\n",
              "    }\n",
              "\n",
              "    .colab-df-convert:hover {\n",
              "      background-color: #E2EBFA;\n",
              "      box-shadow: 0px 1px 2px rgba(60, 64, 67, 0.3), 0px 1px 3px 1px rgba(60, 64, 67, 0.15);\n",
              "      fill: #174EA6;\n",
              "    }\n",
              "\n",
              "    [theme=dark] .colab-df-convert {\n",
              "      background-color: #3B4455;\n",
              "      fill: #D2E3FC;\n",
              "    }\n",
              "\n",
              "    [theme=dark] .colab-df-convert:hover {\n",
              "      background-color: #434B5C;\n",
              "      box-shadow: 0px 1px 3px 1px rgba(0, 0, 0, 0.15);\n",
              "      filter: drop-shadow(0px 1px 2px rgba(0, 0, 0, 0.3));\n",
              "      fill: #FFFFFF;\n",
              "    }\n",
              "  </style>\n",
              "\n",
              "      <script>\n",
              "        const buttonEl =\n",
              "          document.querySelector('#df-4bb865b8-fcd7-485c-b0ce-546969165930 button.colab-df-convert');\n",
              "        buttonEl.style.display =\n",
              "          google.colab.kernel.accessAllowed ? 'block' : 'none';\n",
              "\n",
              "        async function convertToInteractive(key) {\n",
              "          const element = document.querySelector('#df-4bb865b8-fcd7-485c-b0ce-546969165930');\n",
              "          const dataTable =\n",
              "            await google.colab.kernel.invokeFunction('convertToInteractive',\n",
              "                                                     [key], {});\n",
              "          if (!dataTable) return;\n",
              "\n",
              "          const docLinkHtml = 'Like what you see? Visit the ' +\n",
              "            '<a target=\"_blank\" href=https://colab.research.google.com/notebooks/data_table.ipynb>data table notebook</a>'\n",
              "            + ' to learn more about interactive tables.';\n",
              "          element.innerHTML = '';\n",
              "          dataTable['output_type'] = 'display_data';\n",
              "          await google.colab.output.renderOutput(dataTable, element);\n",
              "          const docLink = document.createElement('div');\n",
              "          docLink.innerHTML = docLinkHtml;\n",
              "          element.appendChild(docLink);\n",
              "        }\n",
              "      </script>\n",
              "    </div>\n",
              "  </div>\n",
              "  "
            ],
            "text/plain": [
              "        CODE_GENDER  FLAG_OWN_CAR  ...  INSTAL_DAYS_ENTRY_PAYMENT_SUM  INSTAL_COUNT\n",
              "count  36830.000000  36830.000000  ...                   36830.000000  36830.000000\n",
              "mean       0.705675      0.275753  ...                  -40115.260386     40.254894\n",
              "std        0.455745      0.446899  ...                   46553.192773     34.992745\n",
              "min        0.000000      0.000000  ...                 -285614.000000      1.000000\n",
              "25%        0.000000      0.000000  ...                  -47479.250000     15.000000\n",
              "50%        1.000000      0.000000  ...                  -26462.500000     32.000000\n",
              "75%        1.000000      1.000000  ...                   -9067.750000     50.000000\n",
              "max        1.000000      1.000000  ...                      -8.000000    216.000000\n",
              "\n",
              "[8 rows x 559 columns]"
            ]
          },
          "metadata": {},
          "execution_count": 22
        }
      ]
    },
    {
      "cell_type": "markdown",
      "source": [
        "# Scaling des données"
      ],
      "metadata": {
        "id": "pOR44XyYBbFc"
      }
    },
    {
      "cell_type": "code",
      "source": [
        "from sklearn.preprocessing import StandardScaler\n",
        "scaler = StandardScaler()\n",
        "scaler_light = StandardScaler()\n",
        "X_ul = X_light.copy()\n",
        "X_u =X.copy()\n",
        "scaler.fit(X)\n",
        "scaler_light.fit(X_light)\n",
        "X = scaler.transform(X)\n",
        "X_light = scaler_light.transform(X_light)"
      ],
      "metadata": {
        "colab": {
          "base_uri": "https://localhost:8080/"
        },
        "id": "5xpk_JEmUPCO",
        "outputId": "b8b34010-8032-463b-e8e6-b82612836cd8"
      },
      "execution_count": 23,
      "outputs": [
        {
          "output_type": "execute_result",
          "data": {
            "text/plain": [
              "StandardScaler()"
            ]
          },
          "metadata": {},
          "execution_count": 23
        },
        {
          "output_type": "execute_result",
          "data": {
            "text/plain": [
              "StandardScaler()"
            ]
          },
          "metadata": {},
          "execution_count": 23
        }
      ]
    },
    {
      "cell_type": "code",
      "source": [
        "X_col = train_df.columns\n",
        "X_col = X_col[1:]\n",
        "\n",
        "X_light_col = train_df_light.columns\n",
        "X_light_col = X_light_col[1:]"
      ],
      "metadata": {
        "id": "lkEX_KJEqbjh"
      },
      "execution_count": 24,
      "outputs": []
    },
    {
      "cell_type": "markdown",
      "source": [
        "# SMOTE"
      ],
      "metadata": {
        "id": "fygbmf4TBhIa"
      }
    },
    {
      "cell_type": "code",
      "source": [
        "from imblearn.over_sampling import SMOTE\n",
        "smote = SMOTE(random_state=0,sampling_strategy='minority')\n",
        "#del train_df\n",
        "X_resampled, y_resampled = smote.fit_resample(X, y)\n",
        "X_resampled_l, y_resampled_l = smote.fit_resample(X_light, y)"
      ],
      "metadata": {
        "id": "qNpzzPKMlKoF"
      },
      "execution_count": 25,
      "outputs": []
    },
    {
      "cell_type": "code",
      "source": [
        "np.shape(X_resampled)"
      ],
      "metadata": {
        "colab": {
          "base_uri": "https://localhost:8080/"
        },
        "id": "rm4mkFWHDXMf",
        "outputId": "3168538e-dfd7-4006-b278-3effa50842c4"
      },
      "execution_count": 26,
      "outputs": [
        {
          "output_type": "execute_result",
          "data": {
            "text/plain": [
              "(68152, 559)"
            ]
          },
          "metadata": {},
          "execution_count": 26
        }
      ]
    },
    {
      "cell_type": "code",
      "source": [
        "#del X\n",
        "#del y"
      ],
      "metadata": {
        "id": "VObIVe8GrBHo"
      },
      "execution_count": 27,
      "outputs": []
    },
    {
      "cell_type": "code",
      "source": [
        "from sklearn.model_selection import train_test_split\n",
        "X_train,X_test,y_train,y_test = train_test_split(X_resampled,y_resampled,train_size=0.8)\n",
        "X_train_l,X_test_l,y_train_l,y_test_l = train_test_split(X_resampled_l,y_resampled_l,train_size=0.8)"
      ],
      "metadata": {
        "id": "kZrqo3RXp-Tb"
      },
      "execution_count": 28,
      "outputs": []
    },
    {
      "cell_type": "code",
      "source": [
        "X_train = pd.DataFrame(X_train,columns = train_df.columns[1:])\n",
        "X_test = pd.DataFrame(X_test,columns = train_df.columns[1:])\n",
        "X_train_l = pd.DataFrame(X_train_l,columns = train_df_light.columns[1:])\n",
        "x_test_l = pd.DataFrame(X_test_l,columns = train_df_light.columns[1:])"
      ],
      "metadata": {
        "id": "bEQD3ovkzrJ7"
      },
      "execution_count": 29,
      "outputs": []
    },
    {
      "cell_type": "markdown",
      "source": [
        "# Principal Component Analysis\n"
      ],
      "metadata": {
        "id": "YxV6xcKvV5E4"
      }
    },
    {
      "cell_type": "code",
      "source": [
        "y.value_counts()"
      ],
      "metadata": {
        "colab": {
          "base_uri": "https://localhost:8080/"
        },
        "id": "mbzES-LxYECz",
        "outputId": "54cc4fbe-3e08-4358-c9cd-8e7ef3cf7ef4"
      },
      "execution_count": 30,
      "outputs": [
        {
          "output_type": "execute_result",
          "data": {
            "text/plain": [
              "0.0    34076\n",
              "1.0     2754\n",
              "Name: TARGET, dtype: int64"
            ]
          },
          "metadata": {},
          "execution_count": 30
        }
      ]
    },
    {
      "cell_type": "code",
      "source": [
        "from sklearn.decomposition import PCA\n",
        "pca = PCA(n_components=2).fit(X_light)\n",
        "X_pca = pca.transform(X_light)\n",
        "pca_result = pd.concat([pd.DataFrame(X_pca),y],axis=1)\n",
        "sns.scatterplot(pca_result[0],pca_result[1],hue=pca_result.TARGET)"
      ],
      "metadata": {
        "colab": {
          "base_uri": "https://localhost:8080/",
          "height": 0
        },
        "id": "KItMDopHWFKp",
        "outputId": "0ddad4c8-dd11-445a-b7d9-4dc49f2c2554"
      },
      "execution_count": 31,
      "outputs": [
        {
          "output_type": "stream",
          "name": "stderr",
          "text": [
            "/usr/local/lib/python3.7/dist-packages/seaborn/_decorators.py:43: FutureWarning: Pass the following variables as keyword args: x, y. From version 0.12, the only valid positional argument will be `data`, and passing other arguments without an explicit keyword will result in an error or misinterpretation.\n",
            "  FutureWarning\n"
          ]
        },
        {
          "output_type": "execute_result",
          "data": {
            "text/plain": [
              "<matplotlib.axes._subplots.AxesSubplot at 0x7f831d8fd410>"
            ]
          },
          "metadata": {},
          "execution_count": 31
        },
        {
          "output_type": "display_data",
          "data": {
            "image/png": "[encoded data removed]",
            "text/plain": [
              "<Figure size 432x288 with 1 Axes>"
            ]
          },
          "metadata": {
            "needs_background": "light"
          }
        }
      ]
    },
    {
      "cell_type": "code",
      "source": [
        "#np.argsort(np.abs(pca.components_[0]))[::-1]"
      ],
      "metadata": {
        "id": "Vh4lV-gvl3fI"
      },
      "execution_count": 32,
      "outputs": []
    },
    {
      "cell_type": "code",
      "source": [
        "#np.argmax(X_light[479,:])"
      ],
      "metadata": {
        "id": "lKBZQ8gDmqzj"
      },
      "execution_count": 33,
      "outputs": []
    },
    {
      "cell_type": "code",
      "source": [
        "#pca.explained_variance_"
      ],
      "metadata": {
        "id": "ZF0hdh_CnBZq"
      },
      "execution_count": 34,
      "outputs": []
    },
    {
      "cell_type": "markdown",
      "source": [
        "# modèles de prédiction\n"
      ],
      "metadata": {
        "id": "NLGC6cqcBqeX"
      }
    },
    {
      "cell_type": "code",
      "source": [
        "\n",
        "lr = LogisticRegression()\n",
        "gb = GaussianNB()\n",
        "svc = LinearSVC()\n",
        "dtc = DecisionTreeClassifier()"
      ],
      "metadata": {
        "id": "B2C6vvOkmOmj"
      },
      "execution_count": 35,
      "outputs": []
    },
    {
      "cell_type": "code",
      "source": [
        "#cross_val_score(gb,X_train,y_train,cv=5).mean()\n"
      ],
      "metadata": {
        "id": "u3I_eocPyS2p"
      },
      "execution_count": 36,
      "outputs": []
    },
    {
      "cell_type": "code",
      "source": [
        "#cross_val_score(gb,X_train_l,y_train_l,cv=5).mean()"
      ],
      "metadata": {
        "id": "B76sSvB9bwSg"
      },
      "execution_count": 37,
      "outputs": []
    },
    {
      "cell_type": "code",
      "source": [
        "# résultats gb:\n",
        "# drop nan à 50% de remplissage + input nan valeur median --> cv =0.536 acc.\n",
        "# drop nan 50% + input nan valeur median + drop colonnes corrélées à 95% --> 0.517 acc.\n",
        "#drop nan 50% + inpute nan mean value + sans drop colonnes corrélées/avec drop --> 0.548 acc./0.5219\n",
        "#drop nan 50% + inpute nan mean value + sans drop colonnes corrélées/avec drop + scaling via robust scaler -->0.5315/0.539\n",
        "#drop nan 50% + inpute nan mean value + sans drop colonnes corrélées/avec drop +imputation sur outliers + scaling via robust scaler -->"
      ],
      "metadata": {
        "id": "ElXPmeSSQphv"
      },
      "execution_count": 38,
      "outputs": []
    },
    {
      "cell_type": "code",
      "source": [
        "#gb_pred_l = gb.fit(X_train_l,y_train_l).predict(X_test_l)\n",
        "#from sklearn.metrics import confusion_matrix\n",
        "#display(pd.DataFrame(confusion_matrix(y_test_l,gb_pred_l)))\n",
        "#fpr, tpr, thresholds = metrics.roc_curve(y_test_l, gb_pred_l)\n",
        "#display(metrics.auc(fpr, tpr))"
      ],
      "metadata": {
        "id": "PN83hnQpb8ex"
      },
      "execution_count": 39,
      "outputs": []
    },
    {
      "cell_type": "code",
      "source": [
        "#svc_pred_l = svc.fit(X_train_l,y_train_l).predict(X_test_l)\n",
        "#\n",
        "#pd.DataFrame(confusion_matrix(y_test_l,svc_pred_l))\n",
        "#fpr, tpr, thresholds = metrics.roc_curve(y_test_l, svc_pred_l)\n",
        "#display(metrics.auc(fpr, tpr))"
      ],
      "metadata": {
        "id": "zPNZklGTqxW1"
      },
      "execution_count": 40,
      "outputs": []
    },
    {
      "cell_type": "code",
      "source": [
        "#lr_pred_l = lr.fit(X_train,y_train).predict(X_test)\n",
        "#from sklearn.metrics import confusion_matrix\n",
        "#pd.DataFrame(confusion_matrix(y_test_l,lr_pred_l))\n",
        "#fpr, tpr, thresholds = metrics.roc_curve(y_test_l, lr_pred_l)\n",
        "#display(metrics.auc(fpr, tpr))"
      ],
      "metadata": {
        "id": "k3i8DZFHqx7X"
      },
      "execution_count": 41,
      "outputs": []
    },
    {
      "cell_type": "code",
      "source": [
        "#dtc_pred_l = dtc.fit(X_train_l,y_train_l).predict(X_test_l)\n",
        "#pd.DataFrame(confusion_matrix(y_test_l,dtc_pred_l))\n",
        "#fpr, tpr, thresholds = metrics.roc_curve(y_test_l, dtc_pred_l)\n",
        "#display(metrics.auc(fpr, tpr))"
      ],
      "metadata": {
        "id": "z5u_XFgDE3dg"
      },
      "execution_count": 42,
      "outputs": []
    },
    {
      "cell_type": "code",
      "source": [
        "#suppresion des cols corrélés : essayer imputation mean/median avant corr\n",
        "# standard scaler sur les df\n",
        "# detection d'outlier? --> voir avec robust scaler\n",
        "# quels axes d'amélio sur la lr"
      ],
      "metadata": {
        "id": "x1j45FS0cbAC"
      },
      "execution_count": 43,
      "outputs": []
    },
    {
      "cell_type": "markdown",
      "source": [
        "# Optimisation de regression logistique via Optuna\n",
        "\n"
      ],
      "metadata": {
        "id": "jUGJcdgZDE5o"
      }
    },
    {
      "cell_type": "code",
      "source": [
        "#!pip install optuna\n",
        "import optuna"
      ],
      "metadata": {
        "id": "7ELbxOD_DPTb"
      },
      "execution_count": 44,
      "outputs": []
    },
    {
      "cell_type": "code",
      "source": [
        "def objective(trial):    \n",
        "    penalty = trial.suggest_categorical('Penalty',['none','l2'])\n",
        "    C = trial.suggest_float('C',1,100,step =10 )\n",
        "    solver = trial.suggest_categorical('solver',['lbfgs'])\n",
        "    #l1_ratio = trial.suggest_float('l1_ratio',0,1,step =0.1)\n",
        "    return cross_val_score(\n",
        "        lr, X_train_l,y_train_l, cv=5).mean()"
      ],
      "metadata": {
        "id": "ACVIQljKGNYR"
      },
      "execution_count": 45,
      "outputs": []
    },
    {
      "cell_type": "code",
      "source": [
        "#study = optuna.create_study(direction='maximize')\n",
        "#study.optimize(objective, n_trials=100)\n",
        "\n",
        "#trial = study.best_trial\n",
        "\n",
        "#print('Accuracy: {}'.format(trial.value))\n",
        "#print(\"Best hyperparameters: {}\".format(trial.params))"
      ],
      "metadata": {
        "id": "GA1_s1VXLtN6"
      },
      "execution_count": 46,
      "outputs": []
    },
    {
      "cell_type": "markdown",
      "source": [
        "# Optimisation tree-based models\n"
      ],
      "metadata": {
        "id": "JkPd4Xjl40K5"
      }
    },
    {
      "cell_type": "code",
      "source": [
        "from sklearn.tree import DecisionTreeClassifier\n",
        "clf = DecisionTreeClassifier()\n",
        "cross_val_score(clf,X_train_l,y_train_l)"
      ],
      "metadata": {
        "colab": {
          "base_uri": "https://localhost:8080/"
        },
        "id": "J7Cko1x27E48",
        "outputId": "2c2a7c41-2074-4bb3-f4c5-1d4097ce6749"
      },
      "execution_count": 47,
      "outputs": [
        {
          "output_type": "execute_result",
          "data": {
            "text/plain": [
              "array([0.89995415, 0.89664343, 0.902146  , 0.90223771, 0.89334189])"
            ]
          },
          "metadata": {},
          "execution_count": 47
        }
      ]
    },
    {
      "cell_type": "code",
      "source": [
        "y_pred_l = clf.fit(X_train_l,y_train_l).predict(X_test_l)\n",
        "pd.DataFrame(confusion_matrix(y_test_l,y_pred_l))"
      ],
      "metadata": {
        "id": "_RqZN_se7mfa",
        "colab": {
          "base_uri": "https://localhost:8080/",
          "height": 167
        },
        "outputId": "2d0d4789-b05a-4969-c541-fa870d91dc43"
      },
      "execution_count": 48,
      "outputs": [
        {
          "output_type": "stream",
          "name": "stderr",
          "text": [
            "/usr/local/lib/python3.7/dist-packages/sklearn/base.py:451: UserWarning: X does not have valid feature names, but DecisionTreeClassifier was fitted with feature names\n",
            "  \"X does not have valid feature names, but\"\n"
          ]
        },
        {
          "output_type": "execute_result",
          "data": {
            "text/html": [
              "\n",
              "  <div id=\"df-a1bcf8d6-cea3-4a7c-859a-99acef416c29\">\n",
              "    <div class=\"colab-df-container\">\n",
              "      <div>\n",
              "<style scoped>\n",
              "    .dataframe tbody tr th:only-of-type {\n",
              "        vertical-align: middle;\n",
              "    }\n",
              "\n",
              "    .dataframe tbody tr th {\n",
              "        vertical-align: top;\n",
              "    }\n",
              "\n",
              "    .dataframe thead th {\n",
              "        text-align: right;\n",
              "    }\n",
              "</style>\n",
              "<table border=\"1\" class=\"dataframe\">\n",
              "  <thead>\n",
              "    <tr style=\"text-align: right;\">\n",
              "      <th></th>\n",
              "      <th>0</th>\n",
              "      <th>1</th>\n",
              "    </tr>\n",
              "  </thead>\n",
              "  <tbody>\n",
              "    <tr>\n",
              "      <th>0</th>\n",
              "      <td>6111</td>\n",
              "      <td>726</td>\n",
              "    </tr>\n",
              "    <tr>\n",
              "      <th>1</th>\n",
              "      <td>493</td>\n",
              "      <td>6301</td>\n",
              "    </tr>\n",
              "  </tbody>\n",
              "</table>\n",
              "</div>\n",
              "      <button class=\"colab-df-convert\" onclick=\"convertToInteractive('df-a1bcf8d6-cea3-4a7c-859a-99acef416c29')\"\n",
              "              title=\"Convert this dataframe to an interactive table.\"\n",
              "              style=\"display:none;\">\n",
              "        \n",
              "  <svg xmlns=\"http://www.w3.org/2000/svg\" height=\"24px\"viewBox=\"0 0 24 24\"\n",
              "       width=\"24px\">\n",
              "    <path d=\"M0 0h24v24H0V0z\" fill=\"none\"/>\n",
              "    <path d=\"M18.56 5.44l.94 2.06.94-2.06 2.06-.94-2.06-.94-.94-2.06-.94 2.06-2.06.94zm-11 1L8.5 8.5l.94-2.06 2.06-.94-2.06-.94L8.5 2.5l-.94 2.06-2.06.94zm10 10l.94 2.06.94-2.06 2.06-.94-2.06-.94-.94-2.06-.94 2.06-2.06.94z\"/><path d=\"M17.41 7.96l-1.37-1.37c-.4-.4-.92-.59-1.43-.59-.52 0-1.04.2-1.43.59L10.3 9.45l-7.72 7.72c-.78.78-.78 2.05 0 2.83L4 21.41c.39.39.9.59 1.41.59.51 0 1.02-.2 1.41-.59l7.78-7.78 2.81-2.81c.8-.78.8-2.07 0-2.86zM5.41 20L4 18.59l7.72-7.72 1.47 1.35L5.41 20z\"/>\n",
              "  </svg>\n",
              "      </button>\n",
              "      \n",
              "  <style>\n",
              "    .colab-df-container {\n",
              "      display:flex;\n",
              "      flex-wrap:wrap;\n",
              "      gap: 12px;\n",
              "    }\n",
              "\n",
              "    .colab-df-convert {\n",
              "      background-color: #E8F0FE;\n",
              "      border: none;\n",
              "      border-radius: 50%;\n",
              "      cursor: pointer;\n",
              "      display: none;\n",
              "      fill: #1967D2;\n",
              "      height: 32px;\n",
              "      padding: 0 0 0 0;\n",
              "      width: 32px;\n",
              "    }\n",
              "\n",
              "    .colab-df-convert:hover {\n",
              "      background-color: #E2EBFA;\n",
              "      box-shadow: 0px 1px 2px rgba(60, 64, 67, 0.3), 0px 1px 3px 1px rgba(60, 64, 67, 0.15);\n",
              "      fill: #174EA6;\n",
              "    }\n",
              "\n",
              "    [theme=dark] .colab-df-convert {\n",
              "      background-color: #3B4455;\n",
              "      fill: #D2E3FC;\n",
              "    }\n",
              "\n",
              "    [theme=dark] .colab-df-convert:hover {\n",
              "      background-color: #434B5C;\n",
              "      box-shadow: 0px 1px 3px 1px rgba(0, 0, 0, 0.15);\n",
              "      filter: drop-shadow(0px 1px 2px rgba(0, 0, 0, 0.3));\n",
              "      fill: #FFFFFF;\n",
              "    }\n",
              "  </style>\n",
              "\n",
              "      <script>\n",
              "        const buttonEl =\n",
              "          document.querySelector('#df-a1bcf8d6-cea3-4a7c-859a-99acef416c29 button.colab-df-convert');\n",
              "        buttonEl.style.display =\n",
              "          google.colab.kernel.accessAllowed ? 'block' : 'none';\n",
              "\n",
              "        async function convertToInteractive(key) {\n",
              "          const element = document.querySelector('#df-a1bcf8d6-cea3-4a7c-859a-99acef416c29');\n",
              "          const dataTable =\n",
              "            await google.colab.kernel.invokeFunction('convertToInteractive',\n",
              "                                                     [key], {});\n",
              "          if (!dataTable) return;\n",
              "\n",
              "          const docLinkHtml = 'Like what you see? Visit the ' +\n",
              "            '<a target=\"_blank\" href=https://colab.research.google.com/notebooks/data_table.ipynb>data table notebook</a>'\n",
              "            + ' to learn more about interactive tables.';\n",
              "          element.innerHTML = '';\n",
              "          dataTable['output_type'] = 'display_data';\n",
              "          await google.colab.output.renderOutput(dataTable, element);\n",
              "          const docLink = document.createElement('div');\n",
              "          docLink.innerHTML = docLinkHtml;\n",
              "          element.appendChild(docLink);\n",
              "        }\n",
              "      </script>\n",
              "    </div>\n",
              "  </div>\n",
              "  "
            ],
            "text/plain": [
              "      0     1\n",
              "0  6111   726\n",
              "1   493  6301"
            ]
          },
          "metadata": {},
          "execution_count": 48
        }
      ]
    },
    {
      "cell_type": "code",
      "source": [
        "from sklearn import tree"
      ],
      "metadata": {
        "id": "UOXq2YsWhD_S"
      },
      "execution_count": 49,
      "outputs": []
    },
    {
      "cell_type": "code",
      "source": [
        "\n",
        "def objective(trial):    \n",
        "    criterion = trial.suggest_categorical('criterion',['gini'])\n",
        "    max_depth = trial.suggest_float('max_depth',2,10,step =1)\n",
        "    min_samples_split = trial.suggest_float('min_samples_split',1,41,step =10)\n",
        "    min_samples_leaf = trial.suggest_float('min_samples_leaf',1,21,step =10)\n",
        "    #l1_ratio = trial.suggest_float('l1_ratio',0,1,step =0.1)\n",
        "    return cross_val_score(\n",
        "        clf, X_train_l,y_train_l, cv=2,scoring='precision').mean()"
      ],
      "metadata": {
        "id": "qXYbz9tDLwfH"
      },
      "execution_count": 50,
      "outputs": []
    },
    {
      "cell_type": "code",
      "source": [
        "#study = optuna.create_study(direction='maximize')\n",
        "#study.optimize(objective, n_trials=100)\n",
        "\n",
        "#trial = study.best_trial\n",
        "\n",
        "#print('Accuracy: {}'.format(trial.value))\n",
        "#print(\"Best hyperparameters: {}\".format(trial.params))"
      ],
      "metadata": {
        "id": "cI38UnqjNSl_"
      },
      "execution_count": 51,
      "outputs": []
    },
    {
      "cell_type": "code",
      "source": [
        "best_tree = DecisionTreeClassifier(criterion ='gini',max_depth =7,min_samples_split =10,min_samples_leaf=11)"
      ],
      "metadata": {
        "id": "0MKaDkH5NXW5"
      },
      "execution_count": 94,
      "outputs": []
    },
    {
      "cell_type": "code",
      "source": [
        "bt1 = best_tree.fit(X_train_l,y_train_l)\n"
      ],
      "metadata": {
        "id": "9SY6m47OTfX9"
      },
      "execution_count": 95,
      "outputs": []
    },
    {
      "cell_type": "code",
      "source": [
        "cross_val_score(bt1,X_train_l,y_train_l,scoring='precision',cv=2)"
      ],
      "metadata": {
        "colab": {
          "base_uri": "https://localhost:8080/"
        },
        "id": "sndTwjL1P6R5",
        "outputId": "a741b7d3-49c4-4aa7-9c9a-0044b825836b"
      },
      "execution_count": 54,
      "outputs": [
        {
          "output_type": "execute_result",
          "data": {
            "text/plain": [
              "array([0.82472228, 0.84469609])"
            ]
          },
          "metadata": {},
          "execution_count": 54
        }
      ]
    },
    {
      "cell_type": "code",
      "source": [
        "plt.figure(figsize=(30,30))\n",
        "tree.plot_tree(bt1)"
      ],
      "metadata": {
        "id": "GdDz3q-STj3R",
        "colab": {
          "base_uri": "https://localhost:8080/",
          "height": 1000
        },
        "outputId": "5a32c9b1-3fa9-4768-955a-e4cf0e74f4cd"
      },
      "execution_count": 55,
      "outputs": [
        {
          "output_type": "execute_result",
          "data": {
            "text/plain": [
              "<Figure size 2160x2160 with 0 Axes>"
            ]
          },
          "metadata": {},
          "execution_count": 55
        },
        {
          "output_type": "execute_result",
          "data": {
            "text/plain": [
              "[Text(0.4305889423076923, 0.9375, 'X[0] <= 0.646\\ngini = 0.5\\nsamples = 54521\\nvalue = [27239, 27282]'),\n",
              " Text(0.1814903846153846, 0.8125, 'X[0] <= -1.548\\ngini = 0.44\\nsamples = 23648\\nvalue = [7723, 15925]'),\n",
              " Text(0.171875, 0.6875, 'X[85] <= -0.807\\ngini = 0.495\\nsamples = 14030\\nvalue = [7723, 6307]'),\n",
              " Text(0.10817307692307693, 0.5625, 'X[29] <= 0.273\\ngini = 0.34\\nsamples = 4752\\nvalue = [3718, 1034]'),\n",
              " Text(0.052884615384615384, 0.4375, 'X[92] <= 0.799\\ngini = 0.433\\nsamples = 2613\\nvalue = [1783, 830]'),\n",
              " Text(0.028846153846153848, 0.3125, 'X[92] <= -1.235\\ngini = 0.499\\nsamples = 925\\nvalue = [487, 438]'),\n",
              " Text(0.019230769230769232, 0.1875, 'X[190] <= 1.193\\ngini = 0.406\\nsamples = 679\\nvalue = [487, 192]'),\n",
              " Text(0.009615384615384616, 0.0625, 'gini = 0.46\\nsamples = 450\\nvalue = [289, 161]'),\n",
              " Text(0.028846153846153848, 0.0625, 'gini = 0.234\\nsamples = 229\\nvalue = [198, 31]'),\n",
              " Text(0.038461538461538464, 0.1875, 'gini = 0.0\\nsamples = 246\\nvalue = [0, 246]'),\n",
              " Text(0.07692307692307693, 0.3125, 'X[535] <= -0.531\\ngini = 0.357\\nsamples = 1688\\nvalue = [1296, 392]'),\n",
              " Text(0.057692307692307696, 0.1875, 'X[107] <= 0.801\\ngini = 0.191\\nsamples = 645\\nvalue = [576, 69]'),\n",
              " Text(0.04807692307692308, 0.0625, 'gini = 0.156\\nsamples = 576\\nvalue = [527, 49]'),\n",
              " Text(0.0673076923076923, 0.0625, 'gini = 0.412\\nsamples = 69\\nvalue = [49, 20]'),\n",
              " Text(0.09615384615384616, 0.1875, 'X[534] <= -0.428\\ngini = 0.428\\nsamples = 1043\\nvalue = [720, 323]'),\n",
              " Text(0.08653846153846154, 0.0625, 'gini = 0.0\\nsamples = 27\\nvalue = [0, 27]'),\n",
              " Text(0.10576923076923077, 0.0625, 'gini = 0.413\\nsamples = 1016\\nvalue = [720, 296]'),\n",
              " Text(0.16346153846153846, 0.4375, 'X[552] <= 5.417\\ngini = 0.173\\nsamples = 2139\\nvalue = [1935, 204]'),\n",
              " Text(0.15384615384615385, 0.3125, 'X[388] <= 1.207\\ngini = 0.164\\nsamples = 2125\\nvalue = [1933, 192]'),\n",
              " Text(0.1346153846153846, 0.1875, 'X[30] <= 0.403\\ngini = 0.148\\nsamples = 2035\\nvalue = [1871, 164]'),\n",
              " Text(0.125, 0.0625, 'gini = 0.195\\nsamples = 1330\\nvalue = [1184, 146]'),\n",
              " Text(0.14423076923076922, 0.0625, 'gini = 0.05\\nsamples = 705\\nvalue = [687, 18]'),\n",
              " Text(0.17307692307692307, 0.1875, 'X[514] <= 0.887\\ngini = 0.429\\nsamples = 90\\nvalue = [62, 28]'),\n",
              " Text(0.16346153846153846, 0.0625, 'gini = 0.135\\nsamples = 55\\nvalue = [51, 4]'),\n",
              " Text(0.18269230769230768, 0.0625, 'gini = 0.431\\nsamples = 35\\nvalue = [11, 24]'),\n",
              " Text(0.17307692307692307, 0.3125, 'gini = 0.245\\nsamples = 14\\nvalue = [2, 12]'),\n",
              " Text(0.23557692307692307, 0.5625, 'X[85] <= 1.236\\ngini = 0.491\\nsamples = 9278\\nvalue = [4005, 5273]'),\n",
              " Text(0.22596153846153846, 0.4375, 'gini = 0.0\\nsamples = 1640\\nvalue = [0, 1640]'),\n",
              " Text(0.24519230769230768, 0.4375, 'X[1] <= 1.62\\ngini = 0.499\\nsamples = 7638\\nvalue = [4005, 3633]'),\n",
              " Text(0.22115384615384615, 0.3125, 'X[1] <= -0.616\\ngini = 0.47\\nsamples = 4403\\nvalue = [1658, 2745]'),\n",
              " Text(0.21153846153846154, 0.1875, 'X[200] <= 1.143\\ngini = 0.496\\nsamples = 3039\\nvalue = [1658, 1381]'),\n",
              " Text(0.20192307692307693, 0.0625, 'gini = 0.492\\nsamples = 2033\\nvalue = [884, 1149]'),\n",
              " Text(0.22115384615384615, 0.0625, 'gini = 0.355\\nsamples = 1006\\nvalue = [774, 232]'),\n",
              " Text(0.23076923076923078, 0.1875, 'gini = 0.0\\nsamples = 1364\\nvalue = [0, 1364]'),\n",
              " Text(0.2692307692307692, 0.3125, 'X[29] <= 0.167\\ngini = 0.398\\nsamples = 3235\\nvalue = [2347, 888]'),\n",
              " Text(0.25, 0.1875, 'X[292] <= -0.789\\ngini = 0.476\\nsamples = 1727\\nvalue = [1053, 674]'),\n",
              " Text(0.2403846153846154, 0.0625, 'gini = 0.374\\nsamples = 808\\nvalue = [607, 201]'),\n",
              " Text(0.25961538461538464, 0.0625, 'gini = 0.5\\nsamples = 919\\nvalue = [446, 473]'),\n",
              " Text(0.28846153846153844, 0.1875, 'X[21] <= -0.188\\ngini = 0.244\\nsamples = 1508\\nvalue = [1294, 214]'),\n",
              " Text(0.27884615384615385, 0.0625, 'gini = 0.209\\nsamples = 1349\\nvalue = [1189, 160]'),\n",
              " Text(0.2980769230769231, 0.0625, 'gini = 0.449\\nsamples = 159\\nvalue = [105, 54]'),\n",
              " Text(0.19110576923076922, 0.6875, 'gini = 0.0\\nsamples = 9618\\nvalue = [0, 9618]'),\n",
              " Text(0.6796875, 0.8125, 'X[29] <= 0.379\\ngini = 0.465\\nsamples = 30873\\nvalue = [19516, 11357]'),\n",
              " Text(0.49278846153846156, 0.6875, 'X[200] <= 1.143\\ngini = 0.497\\nsamples = 19395\\nvalue = [10390, 9005]'),\n",
              " Text(0.3942307692307692, 0.5625, 'X[200] <= -0.875\\ngini = 0.496\\nsamples = 13609\\nvalue = [6170, 7439]'),\n",
              " Text(0.38461538461538464, 0.4375, 'X[30] <= 0.569\\ngini = 0.493\\nsamples = 11041\\nvalue = [6170, 4871]'),\n",
              " Text(0.34615384615384615, 0.3125, 'X[17] <= 1.725\\ngini = 0.5\\nsamples = 8818\\nvalue = [4366, 4452]'),\n",
              " Text(0.3269230769230769, 0.1875, 'X[17] <= -0.579\\ngini = 0.494\\nsamples = 7620\\nvalue = [3400, 4220]'),\n",
              " Text(0.3173076923076923, 0.0625, 'gini = 0.5\\nsamples = 6633\\nvalue = [3400, 3233]'),\n",
              " Text(0.33653846153846156, 0.0625, 'gini = 0.0\\nsamples = 987\\nvalue = [0, 987]'),\n",
              " Text(0.36538461538461536, 0.1875, 'X[21] <= -0.188\\ngini = 0.312\\nsamples = 1198\\nvalue = [966, 232]'),\n",
              " Text(0.3557692307692308, 0.0625, 'gini = 0.24\\nsamples = 846\\nvalue = [728, 118]'),\n",
              " Text(0.375, 0.0625, 'gini = 0.438\\nsamples = 352\\nvalue = [238, 114]'),\n",
              " Text(0.4230769230769231, 0.3125, 'X[534] <= -0.488\\ngini = 0.306\\nsamples = 2223\\nvalue = [1804, 419]'),\n",
              " Text(0.40384615384615385, 0.1875, 'X[477] <= 3.755\\ngini = 0.126\\nsamples = 855\\nvalue = [797, 58]'),\n",
              " Text(0.3942307692307692, 0.0625, 'gini = 0.114\\nsamples = 843\\nvalue = [792, 51]'),\n",
              " Text(0.41346153846153844, 0.0625, 'gini = 0.486\\nsamples = 12\\nvalue = [5, 7]'),\n",
              " Text(0.4423076923076923, 0.1875, 'X[20] <= -0.236\\ngini = 0.389\\nsamples = 1368\\nvalue = [1007, 361]'),\n",
              " Text(0.4326923076923077, 0.0625, 'gini = 0.315\\nsamples = 1050\\nvalue = [844, 206]'),\n",
              " Text(0.4519230769230769, 0.0625, 'gini = 0.5\\nsamples = 318\\nvalue = [163, 155]'),\n",
              " Text(0.40384615384615385, 0.4375, 'gini = 0.0\\nsamples = 2568\\nvalue = [0, 2568]'),\n",
              " Text(0.5913461538461539, 0.5625, 'X[170] <= -0.505\\ngini = 0.395\\nsamples = 5786\\nvalue = [4220, 1566]'),\n",
              " Text(0.5384615384615384, 0.4375, 'X[30] <= -0.781\\ngini = 0.338\\nsamples = 4381\\nvalue = [3438, 943]'),\n",
              " Text(0.5, 0.3125, 'X[271] <= -0.818\\ngini = 0.468\\nsamples = 914\\nvalue = [572, 342]'),\n",
              " Text(0.4807692307692308, 0.1875, 'X[468] <= 2.13\\ngini = 0.386\\nsamples = 521\\nvalue = [385, 136]'),\n",
              " Text(0.47115384615384615, 0.0625, 'gini = 0.355\\nsamples = 485\\nvalue = [373, 112]'),\n",
              " Text(0.49038461538461536, 0.0625, 'gini = 0.444\\nsamples = 36\\nvalue = [12, 24]'),\n",
              " Text(0.5192307692307693, 0.1875, 'X[271] <= -0.159\\ngini = 0.499\\nsamples = 393\\nvalue = [187, 206]'),\n",
              " Text(0.5096153846153846, 0.0625, 'gini = 0.41\\nsamples = 191\\nvalue = [55, 136]'),\n",
              " Text(0.5288461538461539, 0.0625, 'gini = 0.453\\nsamples = 202\\nvalue = [132, 70]'),\n",
              " Text(0.5769230769230769, 0.3125, 'X[67] <= -0.505\\ngini = 0.287\\nsamples = 3467\\nvalue = [2866, 601]'),\n",
              " Text(0.5576923076923077, 0.1875, 'X[211] <= 2.776\\ngini = 0.187\\nsamples = 1997\\nvalue = [1789, 208]'),\n",
              " Text(0.5480769230769231, 0.0625, 'gini = 0.178\\nsamples = 1978\\nvalue = [1783, 195]'),\n",
              " Text(0.5673076923076923, 0.0625, 'gini = 0.432\\nsamples = 19\\nvalue = [6, 13]'),\n",
              " Text(0.5961538461538461, 0.1875, 'X[67] <= -0.059\\ngini = 0.392\\nsamples = 1470\\nvalue = [1077, 393]'),\n",
              " Text(0.5865384615384616, 0.0625, 'gini = 0.0\\nsamples = 30\\nvalue = [0, 30]'),\n",
              " Text(0.6057692307692307, 0.0625, 'gini = 0.377\\nsamples = 1440\\nvalue = [1077, 363]'),\n",
              " Text(0.6442307692307693, 0.4375, 'X[170] <= 1.96\\ngini = 0.494\\nsamples = 1405\\nvalue = [782, 623]'),\n",
              " Text(0.6346153846153846, 0.3125, 'gini = 0.0\\nsamples = 400\\nvalue = [0, 400]'),\n",
              " Text(0.6538461538461539, 0.3125, 'X[20] <= -0.232\\ngini = 0.345\\nsamples = 1005\\nvalue = [782, 223]'),\n",
              " Text(0.6346153846153846, 0.1875, 'X[552] <= -0.597\\ngini = 0.241\\nsamples = 736\\nvalue = [633, 103]'),\n",
              " Text(0.625, 0.0625, 'gini = 0.381\\nsamples = 215\\nvalue = [160, 55]'),\n",
              " Text(0.6442307692307693, 0.0625, 'gini = 0.167\\nsamples = 521\\nvalue = [473, 48]'),\n",
              " Text(0.6730769230769231, 0.1875, 'X[20] <= 1.888\\ngini = 0.494\\nsamples = 269\\nvalue = [149, 120]'),\n",
              " Text(0.6634615384615384, 0.0625, 'gini = 0.0\\nsamples = 68\\nvalue = [0, 68]'),\n",
              " Text(0.6826923076923077, 0.0625, 'gini = 0.384\\nsamples = 201\\nvalue = [149, 52]'),\n",
              " Text(0.8665865384615384, 0.6875, 'X[534] <= -0.488\\ngini = 0.326\\nsamples = 11478\\nvalue = [9126, 2352]'),\n",
              " Text(0.7956730769230769, 0.5625, 'X[26] <= -0.233\\ngini = 0.178\\nsamples = 4621\\nvalue = [4164, 457]'),\n",
              " Text(0.7548076923076923, 0.4375, 'X[85] <= -0.778\\ngini = 0.157\\nsamples = 4370\\nvalue = [3995, 375]'),\n",
              " Text(0.7307692307692307, 0.3125, 'X[226] <= -0.447\\ngini = 0.107\\nsamples = 2930\\nvalue = [2763, 167]'),\n",
              " Text(0.7115384615384616, 0.1875, 'X[490] <= 3.285\\ngini = 0.066\\nsamples = 2103\\nvalue = [2031, 72]'),\n",
              " Text(0.7019230769230769, 0.0625, 'gini = 0.055\\nsamples = 2054\\nvalue = [1996, 58]'),\n",
              " Text(0.7211538461538461, 0.0625, 'gini = 0.408\\nsamples = 49\\nvalue = [35, 14]'),\n",
              " Text(0.75, 0.1875, 'X[242] <= 0.223\\ngini = 0.203\\nsamples = 827\\nvalue = [732, 95]'),\n",
              " Text(0.7403846153846154, 0.0625, 'gini = 0.176\\nsamples = 790\\nvalue = [713, 77]'),\n",
              " Text(0.7596153846153846, 0.0625, 'gini = 0.5\\nsamples = 37\\nvalue = [19, 18]'),\n",
              " Text(0.7788461538461539, 0.3125, 'X[85] <= 1.235\\ngini = 0.247\\nsamples = 1440\\nvalue = [1232, 208]'),\n",
              " Text(0.7692307692307693, 0.1875, 'gini = 0.0\\nsamples = 80\\nvalue = [0, 80]'),\n",
              " Text(0.7884615384615384, 0.1875, 'X[472] <= 0.674\\ngini = 0.171\\nsamples = 1360\\nvalue = [1232, 128]'),\n",
              " Text(0.7788461538461539, 0.0625, 'gini = 0.152\\nsamples = 1319\\nvalue = [1210, 109]'),\n",
              " Text(0.7980769230769231, 0.0625, 'gini = 0.497\\nsamples = 41\\nvalue = [22, 19]'),\n",
              " Text(0.8365384615384616, 0.4375, 'X[26] <= 3.932\\ngini = 0.44\\nsamples = 251\\nvalue = [169, 82]'),\n",
              " Text(0.8269230769230769, 0.3125, 'gini = 0.0\\nsamples = 65\\nvalue = [0, 65]'),\n",
              " Text(0.8461538461538461, 0.3125, 'X[538] <= 1.37\\ngini = 0.166\\nsamples = 186\\nvalue = [169, 17]'),\n",
              " Text(0.8269230769230769, 0.1875, 'X[323] <= 1.323\\ngini = 0.09\\nsamples = 149\\nvalue = [142, 7]'),\n",
              " Text(0.8173076923076923, 0.0625, 'gini = 0.044\\nsamples = 134\\nvalue = [131, 3]'),\n",
              " Text(0.8365384615384616, 0.0625, 'gini = 0.391\\nsamples = 15\\nvalue = [11, 4]'),\n",
              " Text(0.8653846153846154, 0.1875, 'X[11] <= 0.367\\ngini = 0.394\\nsamples = 37\\nvalue = [27, 10]'),\n",
              " Text(0.8557692307692307, 0.0625, 'gini = 0.0\\nsamples = 18\\nvalue = [18, 0]'),\n",
              " Text(0.875, 0.0625, 'gini = 0.499\\nsamples = 19\\nvalue = [9, 10]'),\n",
              " Text(0.9375, 0.5625, 'X[534] <= -0.426\\ngini = 0.4\\nsamples = 6857\\nvalue = [4962, 1895]'),\n",
              " Text(0.9278846153846154, 0.4375, 'gini = 0.0\\nsamples = 208\\nvalue = [0, 208]'),\n",
              " Text(0.9471153846153846, 0.4375, 'X[44] <= -1.367\\ngini = 0.379\\nsamples = 6649\\nvalue = [4962, 1687]'),\n",
              " Text(0.9230769230769231, 0.3125, 'X[30] <= -1.477\\ngini = 0.197\\nsamples = 1946\\nvalue = [1731, 215]'),\n",
              " Text(0.9038461538461539, 0.1875, 'X[204] <= -0.995\\ngini = 0.417\\nsamples = 186\\nvalue = [131, 55]'),\n",
              " Text(0.8942307692307693, 0.0625, 'gini = 0.236\\nsamples = 22\\nvalue = [3, 19]'),\n",
              " Text(0.9134615384615384, 0.0625, 'gini = 0.343\\nsamples = 164\\nvalue = [128, 36]'),\n",
              " Text(0.9423076923076923, 0.1875, 'X[72] <= -0.333\\ngini = 0.165\\nsamples = 1760\\nvalue = [1600, 160]'),\n",
              " Text(0.9326923076923077, 0.0625, 'gini = 0.125\\nsamples = 1476\\nvalue = [1377, 99]'),\n",
              " Text(0.9519230769230769, 0.0625, 'gini = 0.337\\nsamples = 284\\nvalue = [223, 61]'),\n",
              " Text(0.9711538461538461, 0.3125, 'X[44] <= 0.726\\ngini = 0.43\\nsamples = 4703\\nvalue = [3231, 1472]'),\n",
              " Text(0.9615384615384616, 0.1875, 'gini = 0.0\\nsamples = 436\\nvalue = [0, 436]'),\n",
              " Text(0.9807692307692307, 0.1875, 'X[21] <= -0.205\\ngini = 0.368\\nsamples = 4267\\nvalue = [3231, 1036]'),\n",
              " Text(0.9711538461538461, 0.0625, 'gini = 0.331\\nsamples = 3800\\nvalue = [3004, 796]'),\n",
              " Text(0.9903846153846154, 0.0625, 'gini = 0.5\\nsamples = 467\\nvalue = [227, 240]')]"
            ]
          },
          "metadata": {},
          "execution_count": 55
        },
        {
          "output_type": "display_data",
          "data": {
            "image/png": "[encoded data removed]",
            "text/plain": [
              "<Figure size 2160x2160 with 1 Axes>"
            ]
          },
          "metadata": {
            "needs_background": "light"
          }
        }
      ]
    },
    {
      "cell_type": "code",
      "source": [
        "feat = best_tree.feature_importances_"
      ],
      "metadata": {
        "id": "T8i1KEMRt1tS"
      },
      "execution_count": 56,
      "outputs": []
    },
    {
      "cell_type": "code",
      "source": [
        "def feat_importance(features,cols):\n",
        "  feat_indexes =np.flatnonzero(features)\n",
        "  feat_values = features[feat_indexes]\n",
        "  feat_names = cols[feat_indexes]\n",
        "\n",
        "  feat_indexes = pd.Series(feat_indexes,name ='feat_indexes')\n",
        "  feat_values = pd.Series(feat_values,name ='feat_values')\n",
        "  feat_names = pd.Series(feat_names,name = 'feat_names')\n",
        "\n",
        "  features_df = pd.concat([feat_names,feat_indexes,feat_values],axis =1)\n",
        "  features_df.sort_values(by=['feat_values'],ascending =False,inplace =True)\n",
        "  plt.figure(figsize=(8,8))\n",
        "  if len(features_df)>10:\n",
        "    features_df_plot = features_df.iloc[0:20,:].copy()\n",
        "  else:\n",
        "    features_df_plot = features_df.copy()\n",
        "\n",
        "  sns.barplot(data = features_df_plot,x = 'feat_values',y='feat_names')\n",
        "  return(feat_names)"
      ],
      "metadata": {
        "id": "yvVVS_-ouBux"
      },
      "execution_count": 102,
      "outputs": []
    },
    {
      "cell_type": "code",
      "source": [
        "#cross_val_score(best_tree,X_train_l,y_train_l,cv=5,scoring ='precision')\n",
        "#cross_val_score(best_tree,X_train_l,y_train_l,cv=5,scoring ='accuracy')\n",
        "ft_names=feat_importance(bt1.feature_importances_,X_train_l.columns)"
      ],
      "metadata": {
        "colab": {
          "base_uri": "https://localhost:8080/",
          "height": 498
        },
        "id": "XtEK1J-lxNRj",
        "outputId": "22665f4f-df4f-4326-ca26-9d49710f163b"
      },
      "execution_count": 105,
      "outputs": [
        {
          "output_type": "display_data",
          "data": {
            "image/png": "[encoded data removed]",
            "text/plain": [
              "<Figure size 576x576 with 1 Axes>"
            ]
          },
          "metadata": {
            "needs_background": "light"
          }
        }
      ]
    },
    {
      "cell_type": "code",
      "source": [
        "bt2 = best_tree.fit(X_train,y_train)\n"
      ],
      "metadata": {
        "id": "BZxGLPsww9ek"
      },
      "execution_count": 59,
      "outputs": []
    },
    {
      "cell_type": "code",
      "source": [
        "df_corr = pd.concat([train_df['CODE_GENDER'],train_df['NAME_INCOME_TYPE_Working']],axis =1)"
      ],
      "metadata": {
        "id": "pyCxsNAhp2Hi"
      },
      "execution_count": 98,
      "outputs": []
    },
    {
      "cell_type": "code",
      "source": [
        "df_corr2 = train_df[ft_name]"
      ],
      "metadata": {
        "id": "A1hw28DbuAXP"
      },
      "execution_count": 110,
      "outputs": []
    },
    {
      "cell_type": "code",
      "source": [
        "df_corr2.corr()"
      ],
      "metadata": {
        "colab": {
          "base_uri": "https://localhost:8080/",
          "height": 505
        },
        "id": "4xP2g-b5qbAl",
        "outputId": "522a1edf-56fe-42fc-b8c3-e7b3165df8a0"
      },
      "execution_count": 111,
      "outputs": [
        {
          "output_type": "execute_result",
          "data": {
            "text/html": [
              "\n",
              "  <div id=\"df-cd1807d0-edc9-4b87-b896-1469cc240bee\">\n",
              "    <div class=\"colab-df-container\">\n",
              "      <div>\n",
              "<style scoped>\n",
              "    .dataframe tbody tr th:only-of-type {\n",
              "        vertical-align: middle;\n",
              "    }\n",
              "\n",
              "    .dataframe tbody tr th {\n",
              "        vertical-align: top;\n",
              "    }\n",
              "\n",
              "    .dataframe thead th {\n",
              "        text-align: right;\n",
              "    }\n",
              "</style>\n",
              "<table border=\"1\" class=\"dataframe\">\n",
              "  <thead>\n",
              "    <tr style=\"text-align: right;\">\n",
              "      <th></th>\n",
              "      <th>CODE_GENDER</th>\n",
              "      <th>REGION_POPULATION_RELATIVE</th>\n",
              "      <th>DAYS_BIRTH</th>\n",
              "      <th>DAYS_EMPLOYED</th>\n",
              "      <th>DAYS_REGISTRATION</th>\n",
              "      <th>EXT_SOURCE_2</th>\n",
              "      <th>EXT_SOURCE_3</th>\n",
              "      <th>FLAG_DOCUMENT_3</th>\n",
              "      <th>WALLSMATERIAL_MODE_Stone, brick</th>\n",
              "      <th>INCOME_PER_PERSON</th>\n",
              "      <th>ANNUITY_INCOME_PERC</th>\n",
              "      <th>BURO_DAYS_CREDIT_MEAN</th>\n",
              "      <th>BURO_DAYS_CREDIT_VAR</th>\n",
              "      <th>BURO_DAYS_CREDIT_UPDATE_MEAN</th>\n",
              "      <th>BURO_AMT_CREDIT_SUM_MAX</th>\n",
              "      <th>BURO_AMT_CREDIT_SUM_DEBT_MAX</th>\n",
              "      <th>BURO_AMT_CREDIT_SUM_DEBT_MEAN</th>\n",
              "      <th>ACTIVE_DAYS_CREDIT_ENDDATE_MIN</th>\n",
              "      <th>ACTIVE_DAYS_CREDIT_ENDDATE_MAX</th>\n",
              "      <th>ACTIVE_AMT_CREDIT_SUM_MAX</th>\n",
              "      <th>ACTIVE_MONTHS_BALANCE_SIZE_SUM</th>\n",
              "      <th>CLOSED_DAYS_CREDIT_VAR</th>\n",
              "      <th>CLOSED_AMT_CREDIT_SUM_OVERDUE_MEAN</th>\n",
              "      <th>PREV_AMT_CREDIT_MIN</th>\n",
              "      <th>PREV_APP_CREDIT_PERC_MAX</th>\n",
              "      <th>PREV_APP_CREDIT_PERC_MEAN</th>\n",
              "      <th>PREV_HOUR_APPR_PROCESS_START_MEAN</th>\n",
              "      <th>PREV_DAYS_DECISION_MIN</th>\n",
              "      <th>PREV_CNT_PAYMENT_SUM</th>\n",
              "      <th>PREV_WEEKDAY_APPR_PROCESS_START_SATURDAY_MEAN</th>\n",
              "      <th>PREV_NAME_CONTRACT_STATUS_Refused_MEAN</th>\n",
              "      <th>PREV_CODE_REJECT_REASON_HC_MEAN</th>\n",
              "      <th>PREV_CODE_REJECT_REASON_LIMIT_MEAN</th>\n",
              "      <th>PREV_NAME_TYPE_SUITE_Family_MEAN</th>\n",
              "      <th>PREV_NAME_TYPE_SUITE_Spouse, partner_MEAN</th>\n",
              "      <th>PREV_NAME_PRODUCT_TYPE_XNA_MEAN</th>\n",
              "      <th>PREV_PRODUCT_COMBINATION_POS household with interest_MEAN</th>\n",
              "      <th>PREV_PRODUCT_COMBINATION_POS mobile with interest_MEAN</th>\n",
              "      <th>APPROVED_AMT_ANNUITY_MAX</th>\n",
              "      <th>APPROVED_AMT_CREDIT_MIN</th>\n",
              "      <th>APPROVED_APP_CREDIT_PERC_MAX</th>\n",
              "      <th>APPROVED_APP_CREDIT_PERC_MEAN</th>\n",
              "      <th>APPROVED_AMT_DOWN_PAYMENT_MAX</th>\n",
              "      <th>APPROVED_AMT_GOODS_PRICE_MIN</th>\n",
              "      <th>APPROVED_AMT_GOODS_PRICE_MEAN</th>\n",
              "      <th>APPROVED_CNT_PAYMENT_MEAN</th>\n",
              "      <th>POS_MONTHS_BALANCE_MEAN</th>\n",
              "      <th>POS_SK_DPD_MEAN</th>\n",
              "      <th>POS_NAME_CONTRACT_STATUS_Active_MEAN</th>\n",
              "      <th>INSTAL_DPD_MEAN</th>\n",
              "      <th>INSTAL_DBD_MEAN</th>\n",
              "      <th>INSTAL_PAYMENT_PERC_MEAN</th>\n",
              "      <th>INSTAL_PAYMENT_DIFF_MAX</th>\n",
              "      <th>INSTAL_PAYMENT_DIFF_MEAN</th>\n",
              "      <th>INSTAL_AMT_INSTALMENT_MAX</th>\n",
              "      <th>INSTAL_AMT_INSTALMENT_MEAN</th>\n",
              "      <th>INSTAL_AMT_PAYMENT_MAX</th>\n",
              "      <th>INSTAL_AMT_PAYMENT_MEAN</th>\n",
              "      <th>INSTAL_AMT_PAYMENT_SUM</th>\n",
              "      <th>INSTAL_DAYS_ENTRY_PAYMENT_MEAN</th>\n",
              "      <th>INSTAL_DAYS_ENTRY_PAYMENT_SUM</th>\n",
              "    </tr>\n",
              "  </thead>\n",
              "  <tbody>\n",
              "    <tr>\n",
              "      <th>CODE_GENDER</th>\n",
              "      <td>1.000000</td>\n",
              "      <td>-0.024271</td>\n",
              "      <td>-0.211339</td>\n",
              "      <td>-0.075248</td>\n",
              "      <td>-0.094480</td>\n",
              "      <td>0.017128</td>\n",
              "      <td>0.038659</td>\n",
              "      <td>0.030610</td>\n",
              "      <td>0.019638</td>\n",
              "      <td>-0.038940</td>\n",
              "      <td>0.081581</td>\n",
              "      <td>-0.011887</td>\n",
              "      <td>0.012337</td>\n",
              "      <td>-0.027879</td>\n",
              "      <td>-0.123142</td>\n",
              "      <td>-0.080464</td>\n",
              "      <td>-0.086501</td>\n",
              "      <td>-0.052113</td>\n",
              "      <td>-0.026252</td>\n",
              "      <td>-0.111015</td>\n",
              "      <td>-0.020552</td>\n",
              "      <td>0.004342</td>\n",
              "      <td>-0.067483</td>\n",
              "      <td>-0.032969</td>\n",
              "      <td>-0.022772</td>\n",
              "      <td>-0.041634</td>\n",
              "      <td>-0.057886</td>\n",
              "      <td>-0.048572</td>\n",
              "      <td>0.106976</td>\n",
              "      <td>-0.032511</td>\n",
              "      <td>0.024890</td>\n",
              "      <td>0.040087</td>\n",
              "      <td>0.002281</td>\n",
              "      <td>0.031061</td>\n",
              "      <td>-0.091651</td>\n",
              "      <td>-0.108173</td>\n",
              "      <td>-0.062384</td>\n",
              "      <td>-0.056825</td>\n",
              "      <td>0.015637</td>\n",
              "      <td>0.001925</td>\n",
              "      <td>-0.022480</td>\n",
              "      <td>-0.039336</td>\n",
              "      <td>-0.039935</td>\n",
              "      <td>0.000185</td>\n",
              "      <td>0.064681</td>\n",
              "      <td>0.096514</td>\n",
              "      <td>-0.011193</td>\n",
              "      <td>-0.025537</td>\n",
              "      <td>0.054150</td>\n",
              "      <td>-0.017202</td>\n",
              "      <td>-0.017189</td>\n",
              "      <td>-0.004492</td>\n",
              "      <td>0.024222</td>\n",
              "      <td>-0.012353</td>\n",
              "      <td>0.035643</td>\n",
              "      <td>0.017387</td>\n",
              "      <td>0.035883</td>\n",
              "      <td>0.019104</td>\n",
              "      <td>0.065976</td>\n",
              "      <td>-0.014424</td>\n",
              "      <td>-0.046584</td>\n",
              "    </tr>\n",
              "    <tr>\n",
              "      <th>REGION_POPULATION_RELATIVE</th>\n",
              "      <td>-0.024271</td>\n",
              "      <td>1.000000</td>\n",
              "      <td>-0.033112</td>\n",
              "      <td>-0.006772</td>\n",
              "      <td>-0.034634</td>\n",
              "      <td>0.164312</td>\n",
              "      <td>-0.002536</td>\n",
              "      <td>-0.053034</td>\n",
              "      <td>0.005717</td>\n",
              "      <td>0.096474</td>\n",
              "      <td>-0.029045</td>\n",
              "      <td>-0.011302</td>\n",
              "      <td>0.005991</td>\n",
              "      <td>-0.001016</td>\n",
              "      <td>0.036263</td>\n",
              "      <td>0.027388</td>\n",
              "      <td>0.034858</td>\n",
              "      <td>0.018270</td>\n",
              "      <td>0.011658</td>\n",
              "      <td>0.044407</td>\n",
              "      <td>0.004240</td>\n",
              "      <td>0.005164</td>\n",
              "      <td>0.033451</td>\n",
              "      <td>0.010069</td>\n",
              "      <td>0.025815</td>\n",
              "      <td>0.019464</td>\n",
              "      <td>0.121949</td>\n",
              "      <td>-0.049644</td>\n",
              "      <td>-0.005095</td>\n",
              "      <td>-0.000601</td>\n",
              "      <td>0.005118</td>\n",
              "      <td>0.001664</td>\n",
              "      <td>-0.003389</td>\n",
              "      <td>-0.011152</td>\n",
              "      <td>0.001572</td>\n",
              "      <td>-0.019161</td>\n",
              "      <td>-0.029620</td>\n",
              "      <td>0.009340</td>\n",
              "      <td>0.044241</td>\n",
              "      <td>0.034377</td>\n",
              "      <td>0.026575</td>\n",
              "      <td>0.018497</td>\n",
              "      <td>0.043084</td>\n",
              "      <td>0.042472</td>\n",
              "      <td>0.037978</td>\n",
              "      <td>-0.013852</td>\n",
              "      <td>-0.056309</td>\n",
              "      <td>0.045462</td>\n",
              "      <td>-0.004729</td>\n",
              "      <td>0.006318</td>\n",
              "      <td>0.005061</td>\n",
              "      <td>0.031482</td>\n",
              "      <td>0.020047</td>\n",
              "      <td>-0.007726</td>\n",
              "      <td>0.008578</td>\n",
              "      <td>0.022811</td>\n",
              "      <td>0.008841</td>\n",
              "      <td>0.023623</td>\n",
              "      <td>0.034670</td>\n",
              "      <td>-0.060348</td>\n",
              "      <td>-0.058242</td>\n",
              "    </tr>\n",
              "    <tr>\n",
              "      <th>DAYS_BIRTH</th>\n",
              "      <td>-0.211339</td>\n",
              "      <td>-0.033112</td>\n",
              "      <td>1.000000</td>\n",
              "      <td>0.306261</td>\n",
              "      <td>0.315394</td>\n",
              "      <td>-0.068511</td>\n",
              "      <td>-0.183502</td>\n",
              "      <td>0.239371</td>\n",
              "      <td>-0.018362</td>\n",
              "      <td>-0.065437</td>\n",
              "      <td>-0.044312</td>\n",
              "      <td>0.130186</td>\n",
              "      <td>-0.096087</td>\n",
              "      <td>0.095345</td>\n",
              "      <td>0.093814</td>\n",
              "      <td>0.075246</td>\n",
              "      <td>0.077772</td>\n",
              "      <td>0.064544</td>\n",
              "      <td>0.086954</td>\n",
              "      <td>0.072974</td>\n",
              "      <td>0.013020</td>\n",
              "      <td>-0.063083</td>\n",
              "      <td>0.111796</td>\n",
              "      <td>0.035062</td>\n",
              "      <td>0.031529</td>\n",
              "      <td>0.038094</td>\n",
              "      <td>0.184486</td>\n",
              "      <td>0.120069</td>\n",
              "      <td>-0.180842</td>\n",
              "      <td>0.032086</td>\n",
              "      <td>-0.013464</td>\n",
              "      <td>-0.053112</td>\n",
              "      <td>0.042700</td>\n",
              "      <td>-0.041003</td>\n",
              "      <td>0.083861</td>\n",
              "      <td>0.230171</td>\n",
              "      <td>0.035905</td>\n",
              "      <td>0.210764</td>\n",
              "      <td>-0.072357</td>\n",
              "      <td>-0.067240</td>\n",
              "      <td>0.031004</td>\n",
              "      <td>0.034860</td>\n",
              "      <td>0.036922</td>\n",
              "      <td>-0.072295</td>\n",
              "      <td>-0.173332</td>\n",
              "      <td>-0.211988</td>\n",
              "      <td>0.066288</td>\n",
              "      <td>-0.030549</td>\n",
              "      <td>-0.106588</td>\n",
              "      <td>-0.001820</td>\n",
              "      <td>-0.048253</td>\n",
              "      <td>-0.033771</td>\n",
              "      <td>-0.034070</td>\n",
              "      <td>0.030035</td>\n",
              "      <td>-0.062855</td>\n",
              "      <td>-0.090694</td>\n",
              "      <td>-0.063270</td>\n",
              "      <td>-0.093642</td>\n",
              "      <td>-0.133530</td>\n",
              "      <td>0.089818</td>\n",
              "      <td>0.109745</td>\n",
              "    </tr>\n",
              "    <tr>\n",
              "      <th>DAYS_EMPLOYED</th>\n",
              "      <td>-0.075248</td>\n",
              "      <td>-0.006772</td>\n",
              "      <td>0.306261</td>\n",
              "      <td>1.000000</td>\n",
              "      <td>0.121740</td>\n",
              "      <td>-0.072122</td>\n",
              "      <td>-0.103403</td>\n",
              "      <td>0.039243</td>\n",
              "      <td>-0.005453</td>\n",
              "      <td>-0.023734</td>\n",
              "      <td>-0.017293</td>\n",
              "      <td>0.092134</td>\n",
              "      <td>-0.055884</td>\n",
              "      <td>0.074084</td>\n",
              "      <td>-0.004452</td>\n",
              "      <td>0.003808</td>\n",
              "      <td>0.023361</td>\n",
              "      <td>0.035652</td>\n",
              "      <td>0.027742</td>\n",
              "      <td>-0.007863</td>\n",
              "      <td>-0.007032</td>\n",
              "      <td>-0.034304</td>\n",
              "      <td>0.086085</td>\n",
              "      <td>0.017828</td>\n",
              "      <td>-0.023803</td>\n",
              "      <td>0.023637</td>\n",
              "      <td>0.049301</td>\n",
              "      <td>0.121878</td>\n",
              "      <td>-0.081657</td>\n",
              "      <td>0.004084</td>\n",
              "      <td>-0.001933</td>\n",
              "      <td>-0.019726</td>\n",
              "      <td>0.025346</td>\n",
              "      <td>-0.033686</td>\n",
              "      <td>0.011222</td>\n",
              "      <td>0.097789</td>\n",
              "      <td>0.019305</td>\n",
              "      <td>0.077279</td>\n",
              "      <td>-0.086057</td>\n",
              "      <td>-0.011829</td>\n",
              "      <td>-0.024700</td>\n",
              "      <td>0.023197</td>\n",
              "      <td>-0.027354</td>\n",
              "      <td>-0.016628</td>\n",
              "      <td>-0.096458</td>\n",
              "      <td>-0.069425</td>\n",
              "      <td>0.087782</td>\n",
              "      <td>-0.003640</td>\n",
              "      <td>-0.043574</td>\n",
              "      <td>-0.001801</td>\n",
              "      <td>0.012583</td>\n",
              "      <td>0.005143</td>\n",
              "      <td>-0.045608</td>\n",
              "      <td>0.003997</td>\n",
              "      <td>-0.043645</td>\n",
              "      <td>-0.056933</td>\n",
              "      <td>-0.044048</td>\n",
              "      <td>-0.056189</td>\n",
              "      <td>-0.097507</td>\n",
              "      <td>0.095517</td>\n",
              "      <td>0.097788</td>\n",
              "    </tr>\n",
              "    <tr>\n",
              "      <th>DAYS_REGISTRATION</th>\n",
              "      <td>-0.094480</td>\n",
              "      <td>-0.034634</td>\n",
              "      <td>0.315394</td>\n",
              "      <td>0.121740</td>\n",
              "      <td>1.000000</td>\n",
              "      <td>-0.052613</td>\n",
              "      <td>-0.100601</td>\n",
              "      <td>0.078346</td>\n",
              "      <td>-0.032061</td>\n",
              "      <td>-0.023753</td>\n",
              "      <td>-0.007517</td>\n",
              "      <td>0.077286</td>\n",
              "      <td>-0.056909</td>\n",
              "      <td>0.056117</td>\n",
              "      <td>0.060674</td>\n",
              "      <td>0.046954</td>\n",
              "      <td>0.039872</td>\n",
              "      <td>0.014804</td>\n",
              "      <td>0.028090</td>\n",
              "      <td>0.029346</td>\n",
              "      <td>0.006878</td>\n",
              "      <td>-0.041091</td>\n",
              "      <td>0.036026</td>\n",
              "      <td>0.006080</td>\n",
              "      <td>0.007082</td>\n",
              "      <td>0.008761</td>\n",
              "      <td>0.015707</td>\n",
              "      <td>0.069499</td>\n",
              "      <td>-0.055799</td>\n",
              "      <td>-0.001004</td>\n",
              "      <td>0.014467</td>\n",
              "      <td>-0.007120</td>\n",
              "      <td>0.033480</td>\n",
              "      <td>-0.025426</td>\n",
              "      <td>0.049357</td>\n",
              "      <td>0.083059</td>\n",
              "      <td>0.011758</td>\n",
              "      <td>0.063305</td>\n",
              "      <td>-0.005895</td>\n",
              "      <td>-0.020653</td>\n",
              "      <td>0.006035</td>\n",
              "      <td>0.009021</td>\n",
              "      <td>0.010198</td>\n",
              "      <td>-0.025265</td>\n",
              "      <td>-0.049602</td>\n",
              "      <td>-0.075217</td>\n",
              "      <td>0.050151</td>\n",
              "      <td>-0.010950</td>\n",
              "      <td>-0.051247</td>\n",
              "      <td>-0.002630</td>\n",
              "      <td>-0.016608</td>\n",
              "      <td>-0.006873</td>\n",
              "      <td>-0.001879</td>\n",
              "      <td>0.009974</td>\n",
              "      <td>0.003688</td>\n",
              "      <td>-0.005691</td>\n",
              "      <td>0.003492</td>\n",
              "      <td>-0.007350</td>\n",
              "      <td>-0.033839</td>\n",
              "      <td>0.058873</td>\n",
              "      <td>0.051607</td>\n",
              "    </tr>\n",
              "    <tr>\n",
              "      <th>...</th>\n",
              "      <td>...</td>\n",
              "      <td>...</td>\n",
              "      <td>...</td>\n",
              "      <td>...</td>\n",
              "      <td>...</td>\n",
              "      <td>...</td>\n",
              "      <td>...</td>\n",
              "      <td>...</td>\n",
              "      <td>...</td>\n",
              "      <td>...</td>\n",
              "      <td>...</td>\n",
              "      <td>...</td>\n",
              "      <td>...</td>\n",
              "      <td>...</td>\n",
              "      <td>...</td>\n",
              "      <td>...</td>\n",
              "      <td>...</td>\n",
              "      <td>...</td>\n",
              "      <td>...</td>\n",
              "      <td>...</td>\n",
              "      <td>...</td>\n",
              "      <td>...</td>\n",
              "      <td>...</td>\n",
              "      <td>...</td>\n",
              "      <td>...</td>\n",
              "      <td>...</td>\n",
              "      <td>...</td>\n",
              "      <td>...</td>\n",
              "      <td>...</td>\n",
              "      <td>...</td>\n",
              "      <td>...</td>\n",
              "      <td>...</td>\n",
              "      <td>...</td>\n",
              "      <td>...</td>\n",
              "      <td>...</td>\n",
              "      <td>...</td>\n",
              "      <td>...</td>\n",
              "      <td>...</td>\n",
              "      <td>...</td>\n",
              "      <td>...</td>\n",
              "      <td>...</td>\n",
              "      <td>...</td>\n",
              "      <td>...</td>\n",
              "      <td>...</td>\n",
              "      <td>...</td>\n",
              "      <td>...</td>\n",
              "      <td>...</td>\n",
              "      <td>...</td>\n",
              "      <td>...</td>\n",
              "      <td>...</td>\n",
              "      <td>...</td>\n",
              "      <td>...</td>\n",
              "      <td>...</td>\n",
              "      <td>...</td>\n",
              "      <td>...</td>\n",
              "      <td>...</td>\n",
              "      <td>...</td>\n",
              "      <td>...</td>\n",
              "      <td>...</td>\n",
              "      <td>...</td>\n",
              "      <td>...</td>\n",
              "    </tr>\n",
              "    <tr>\n",
              "      <th>INSTAL_AMT_PAYMENT_MAX</th>\n",
              "      <td>0.035883</td>\n",
              "      <td>0.008841</td>\n",
              "      <td>-0.063270</td>\n",
              "      <td>-0.044048</td>\n",
              "      <td>0.003492</td>\n",
              "      <td>0.026441</td>\n",
              "      <td>-0.022470</td>\n",
              "      <td>0.004636</td>\n",
              "      <td>0.008624</td>\n",
              "      <td>0.085399</td>\n",
              "      <td>-0.050854</td>\n",
              "      <td>-0.017633</td>\n",
              "      <td>0.006889</td>\n",
              "      <td>-0.008459</td>\n",
              "      <td>0.070573</td>\n",
              "      <td>0.063943</td>\n",
              "      <td>0.042778</td>\n",
              "      <td>-0.009250</td>\n",
              "      <td>0.006094</td>\n",
              "      <td>0.044961</td>\n",
              "      <td>0.029909</td>\n",
              "      <td>-0.002838</td>\n",
              "      <td>-0.049313</td>\n",
              "      <td>-0.119113</td>\n",
              "      <td>0.033584</td>\n",
              "      <td>-0.226958</td>\n",
              "      <td>-0.057476</td>\n",
              "      <td>-0.180208</td>\n",
              "      <td>0.468070</td>\n",
              "      <td>-0.014663</td>\n",
              "      <td>0.105807</td>\n",
              "      <td>0.080968</td>\n",
              "      <td>0.051970</td>\n",
              "      <td>-0.077431</td>\n",
              "      <td>0.029488</td>\n",
              "      <td>-0.398627</td>\n",
              "      <td>-0.211534</td>\n",
              "      <td>-0.158219</td>\n",
              "      <td>0.496948</td>\n",
              "      <td>0.031067</td>\n",
              "      <td>0.026334</td>\n",
              "      <td>-0.229336</td>\n",
              "      <td>0.060639</td>\n",
              "      <td>0.032235</td>\n",
              "      <td>0.513309</td>\n",
              "      <td>0.374270</td>\n",
              "      <td>-0.027057</td>\n",
              "      <td>0.063872</td>\n",
              "      <td>-0.065741</td>\n",
              "      <td>0.002990</td>\n",
              "      <td>-0.113801</td>\n",
              "      <td>0.086118</td>\n",
              "      <td>0.268699</td>\n",
              "      <td>-0.092607</td>\n",
              "      <td>0.999132</td>\n",
              "      <td>0.643542</td>\n",
              "      <td>1.000000</td>\n",
              "      <td>0.643570</td>\n",
              "      <td>0.703817</td>\n",
              "      <td>-0.012089</td>\n",
              "      <td>-0.247097</td>\n",
              "    </tr>\n",
              "    <tr>\n",
              "      <th>INSTAL_AMT_PAYMENT_MEAN</th>\n",
              "      <td>0.019104</td>\n",
              "      <td>0.023623</td>\n",
              "      <td>-0.093642</td>\n",
              "      <td>-0.056189</td>\n",
              "      <td>-0.007350</td>\n",
              "      <td>0.061565</td>\n",
              "      <td>0.022152</td>\n",
              "      <td>-0.037353</td>\n",
              "      <td>0.013021</td>\n",
              "      <td>0.147551</td>\n",
              "      <td>-0.029050</td>\n",
              "      <td>-0.022117</td>\n",
              "      <td>-0.012170</td>\n",
              "      <td>-0.027284</td>\n",
              "      <td>0.066204</td>\n",
              "      <td>0.035449</td>\n",
              "      <td>0.027659</td>\n",
              "      <td>0.025022</td>\n",
              "      <td>0.006233</td>\n",
              "      <td>0.069639</td>\n",
              "      <td>0.018185</td>\n",
              "      <td>-0.009027</td>\n",
              "      <td>-0.018544</td>\n",
              "      <td>0.024212</td>\n",
              "      <td>-0.006670</td>\n",
              "      <td>-0.092925</td>\n",
              "      <td>-0.041681</td>\n",
              "      <td>0.031066</td>\n",
              "      <td>0.282967</td>\n",
              "      <td>-0.013873</td>\n",
              "      <td>0.082127</td>\n",
              "      <td>0.073638</td>\n",
              "      <td>0.036765</td>\n",
              "      <td>-0.057553</td>\n",
              "      <td>0.023375</td>\n",
              "      <td>-0.328596</td>\n",
              "      <td>-0.128672</td>\n",
              "      <td>-0.232344</td>\n",
              "      <td>0.668845</td>\n",
              "      <td>0.283473</td>\n",
              "      <td>-0.012099</td>\n",
              "      <td>-0.085161</td>\n",
              "      <td>0.133239</td>\n",
              "      <td>0.292886</td>\n",
              "      <td>0.644086</td>\n",
              "      <td>0.276851</td>\n",
              "      <td>0.154421</td>\n",
              "      <td>0.073531</td>\n",
              "      <td>-0.130432</td>\n",
              "      <td>-0.085321</td>\n",
              "      <td>-0.001927</td>\n",
              "      <td>0.195306</td>\n",
              "      <td>0.239948</td>\n",
              "      <td>-0.230854</td>\n",
              "      <td>0.638748</td>\n",
              "      <td>0.984142</td>\n",
              "      <td>0.643570</td>\n",
              "      <td>1.000000</td>\n",
              "      <td>0.564845</td>\n",
              "      <td>0.165674</td>\n",
              "      <td>0.092594</td>\n",
              "    </tr>\n",
              "    <tr>\n",
              "      <th>INSTAL_AMT_PAYMENT_SUM</th>\n",
              "      <td>0.065976</td>\n",
              "      <td>0.034670</td>\n",
              "      <td>-0.133530</td>\n",
              "      <td>-0.097507</td>\n",
              "      <td>-0.033839</td>\n",
              "      <td>0.041892</td>\n",
              "      <td>0.021163</td>\n",
              "      <td>0.012842</td>\n",
              "      <td>0.004244</td>\n",
              "      <td>0.139976</td>\n",
              "      <td>-0.077754</td>\n",
              "      <td>-0.079878</td>\n",
              "      <td>0.026448</td>\n",
              "      <td>-0.060679</td>\n",
              "      <td>0.035864</td>\n",
              "      <td>0.018021</td>\n",
              "      <td>0.010800</td>\n",
              "      <td>-0.017467</td>\n",
              "      <td>0.002813</td>\n",
              "      <td>0.029481</td>\n",
              "      <td>0.044570</td>\n",
              "      <td>0.001541</td>\n",
              "      <td>-0.047073</td>\n",
              "      <td>-0.132421</td>\n",
              "      <td>0.066558</td>\n",
              "      <td>-0.311359</td>\n",
              "      <td>-0.085997</td>\n",
              "      <td>-0.345861</td>\n",
              "      <td>0.618786</td>\n",
              "      <td>-0.024697</td>\n",
              "      <td>0.137171</td>\n",
              "      <td>0.110995</td>\n",
              "      <td>0.057490</td>\n",
              "      <td>-0.079434</td>\n",
              "      <td>0.046613</td>\n",
              "      <td>-0.557899</td>\n",
              "      <td>-0.262537</td>\n",
              "      <td>-0.224003</td>\n",
              "      <td>0.691393</td>\n",
              "      <td>0.049769</td>\n",
              "      <td>0.059655</td>\n",
              "      <td>-0.314985</td>\n",
              "      <td>0.138029</td>\n",
              "      <td>0.054156</td>\n",
              "      <td>0.640473</td>\n",
              "      <td>0.380346</td>\n",
              "      <td>-0.064645</td>\n",
              "      <td>0.040256</td>\n",
              "      <td>0.105618</td>\n",
              "      <td>0.007206</td>\n",
              "      <td>-0.205282</td>\n",
              "      <td>0.048325</td>\n",
              "      <td>0.489838</td>\n",
              "      <td>-0.036489</td>\n",
              "      <td>0.699328</td>\n",
              "      <td>0.573042</td>\n",
              "      <td>0.703817</td>\n",
              "      <td>0.564845</td>\n",
              "      <td>1.000000</td>\n",
              "      <td>-0.053493</td>\n",
              "      <td>-0.535042</td>\n",
              "    </tr>\n",
              "    <tr>\n",
              "      <th>INSTAL_DAYS_ENTRY_PAYMENT_MEAN</th>\n",
              "      <td>-0.014424</td>\n",
              "      <td>-0.060348</td>\n",
              "      <td>0.089818</td>\n",
              "      <td>0.095517</td>\n",
              "      <td>0.058873</td>\n",
              "      <td>-0.056904</td>\n",
              "      <td>-0.112754</td>\n",
              "      <td>-0.041728</td>\n",
              "      <td>-0.026528</td>\n",
              "      <td>0.025738</td>\n",
              "      <td>-0.059470</td>\n",
              "      <td>0.136920</td>\n",
              "      <td>-0.103298</td>\n",
              "      <td>0.120434</td>\n",
              "      <td>-0.019028</td>\n",
              "      <td>0.005912</td>\n",
              "      <td>0.039429</td>\n",
              "      <td>0.053371</td>\n",
              "      <td>0.026937</td>\n",
              "      <td>-0.012156</td>\n",
              "      <td>-0.020458</td>\n",
              "      <td>-0.057200</td>\n",
              "      <td>0.118276</td>\n",
              "      <td>0.056512</td>\n",
              "      <td>-0.230105</td>\n",
              "      <td>-0.122569</td>\n",
              "      <td>0.007661</td>\n",
              "      <td>0.782440</td>\n",
              "      <td>-0.062821</td>\n",
              "      <td>-0.026606</td>\n",
              "      <td>0.006116</td>\n",
              "      <td>0.015058</td>\n",
              "      <td>0.033895</td>\n",
              "      <td>-0.160378</td>\n",
              "      <td>-0.085095</td>\n",
              "      <td>-0.027999</td>\n",
              "      <td>0.033080</td>\n",
              "      <td>-0.165942</td>\n",
              "      <td>0.022038</td>\n",
              "      <td>0.254753</td>\n",
              "      <td>-0.230875</td>\n",
              "      <td>-0.121519</td>\n",
              "      <td>-0.158670</td>\n",
              "      <td>0.231522</td>\n",
              "      <td>0.113574</td>\n",
              "      <td>0.059851</td>\n",
              "      <td>0.940715</td>\n",
              "      <td>-0.070158</td>\n",
              "      <td>0.039290</td>\n",
              "      <td>-0.202191</td>\n",
              "      <td>0.041999</td>\n",
              "      <td>0.075544</td>\n",
              "      <td>-0.032375</td>\n",
              "      <td>-0.067884</td>\n",
              "      <td>-0.013185</td>\n",
              "      <td>0.157657</td>\n",
              "      <td>-0.012089</td>\n",
              "      <td>0.165674</td>\n",
              "      <td>-0.053493</td>\n",
              "      <td>1.000000</td>\n",
              "      <td>0.483608</td>\n",
              "    </tr>\n",
              "    <tr>\n",
              "      <th>INSTAL_DAYS_ENTRY_PAYMENT_SUM</th>\n",
              "      <td>-0.046584</td>\n",
              "      <td>-0.058242</td>\n",
              "      <td>0.109745</td>\n",
              "      <td>0.097788</td>\n",
              "      <td>0.051607</td>\n",
              "      <td>-0.041246</td>\n",
              "      <td>-0.058336</td>\n",
              "      <td>-0.037469</td>\n",
              "      <td>-0.009400</td>\n",
              "      <td>-0.031501</td>\n",
              "      <td>0.015506</td>\n",
              "      <td>0.100272</td>\n",
              "      <td>-0.070581</td>\n",
              "      <td>0.072983</td>\n",
              "      <td>-0.014362</td>\n",
              "      <td>-0.006520</td>\n",
              "      <td>0.013107</td>\n",
              "      <td>0.043784</td>\n",
              "      <td>0.016393</td>\n",
              "      <td>-0.001762</td>\n",
              "      <td>-0.034063</td>\n",
              "      <td>-0.031594</td>\n",
              "      <td>0.074674</td>\n",
              "      <td>0.120093</td>\n",
              "      <td>-0.139860</td>\n",
              "      <td>0.263472</td>\n",
              "      <td>0.054883</td>\n",
              "      <td>0.601585</td>\n",
              "      <td>-0.402485</td>\n",
              "      <td>0.002794</td>\n",
              "      <td>-0.082836</td>\n",
              "      <td>-0.051075</td>\n",
              "      <td>-0.019145</td>\n",
              "      <td>0.012212</td>\n",
              "      <td>-0.062495</td>\n",
              "      <td>0.344033</td>\n",
              "      <td>0.177681</td>\n",
              "      <td>0.071101</td>\n",
              "      <td>-0.232301</td>\n",
              "      <td>0.148162</td>\n",
              "      <td>-0.131952</td>\n",
              "      <td>0.277905</td>\n",
              "      <td>-0.119197</td>\n",
              "      <td>0.135744</td>\n",
              "      <td>-0.168204</td>\n",
              "      <td>-0.161093</td>\n",
              "      <td>0.424203</td>\n",
              "      <td>-0.067171</td>\n",
              "      <td>-0.101185</td>\n",
              "      <td>-0.106710</td>\n",
              "      <td>0.239962</td>\n",
              "      <td>0.057261</td>\n",
              "      <td>-0.262716</td>\n",
              "      <td>-0.070581</td>\n",
              "      <td>-0.246270</td>\n",
              "      <td>0.082161</td>\n",
              "      <td>-0.247097</td>\n",
              "      <td>0.092594</td>\n",
              "      <td>-0.535042</td>\n",
              "      <td>0.483608</td>\n",
              "      <td>1.000000</td>\n",
              "    </tr>\n",
              "  </tbody>\n",
              "</table>\n",
              "<p>61 rows × 61 columns</p>\n",
              "</div>\n",
              "      <button class=\"colab-df-convert\" onclick=\"convertToInteractive('df-cd1807d0-edc9-4b87-b896-1469cc240bee')\"\n",
              "              title=\"Convert this dataframe to an interactive table.\"\n",
              "              style=\"display:none;\">\n",
              "        \n",
              "  <svg xmlns=\"http://www.w3.org/2000/svg\" height=\"24px\"viewBox=\"0 0 24 24\"\n",
              "       width=\"24px\">\n",
              "    <path d=\"M0 0h24v24H0V0z\" fill=\"none\"/>\n",
              "    <path d=\"M18.56 5.44l.94 2.06.94-2.06 2.06-.94-2.06-.94-.94-2.06-.94 2.06-2.06.94zm-11 1L8.5 8.5l.94-2.06 2.06-.94-2.06-.94L8.5 2.5l-.94 2.06-2.06.94zm10 10l.94 2.06.94-2.06 2.06-.94-2.06-.94-.94-2.06-.94 2.06-2.06.94z\"/><path d=\"M17.41 7.96l-1.37-1.37c-.4-.4-.92-.59-1.43-.59-.52 0-1.04.2-1.43.59L10.3 9.45l-7.72 7.72c-.78.78-.78 2.05 0 2.83L4 21.41c.39.39.9.59 1.41.59.51 0 1.02-.2 1.41-.59l7.78-7.78 2.81-2.81c.8-.78.8-2.07 0-2.86zM5.41 20L4 18.59l7.72-7.72 1.47 1.35L5.41 20z\"/>\n",
              "  </svg>\n",
              "      </button>\n",
              "      \n",
              "  <style>\n",
              "    .colab-df-container {\n",
              "      display:flex;\n",
              "      flex-wrap:wrap;\n",
              "      gap: 12px;\n",
              "    }\n",
              "\n",
              "    .colab-df-convert {\n",
              "      background-color: #E8F0FE;\n",
              "      border: none;\n",
              "      border-radius: 50%;\n",
              "      cursor: pointer;\n",
              "      display: none;\n",
              "      fill: #1967D2;\n",
              "      height: 32px;\n",
              "      padding: 0 0 0 0;\n",
              "      width: 32px;\n",
              "    }\n",
              "\n",
              "    .colab-df-convert:hover {\n",
              "      background-color: #E2EBFA;\n",
              "      box-shadow: 0px 1px 2px rgba(60, 64, 67, 0.3), 0px 1px 3px 1px rgba(60, 64, 67, 0.15);\n",
              "      fill: #174EA6;\n",
              "    }\n",
              "\n",
              "    [theme=dark] .colab-df-convert {\n",
              "      background-color: #3B4455;\n",
              "      fill: #D2E3FC;\n",
              "    }\n",
              "\n",
              "    [theme=dark] .colab-df-convert:hover {\n",
              "      background-color: #434B5C;\n",
              "      box-shadow: 0px 1px 3px 1px rgba(0, 0, 0, 0.15);\n",
              "      filter: drop-shadow(0px 1px 2px rgba(0, 0, 0, 0.3));\n",
              "      fill: #FFFFFF;\n",
              "    }\n",
              "  </style>\n",
              "\n",
              "      <script>\n",
              "        const buttonEl =\n",
              "          document.querySelector('#df-cd1807d0-edc9-4b87-b896-1469cc240bee button.colab-df-convert');\n",
              "        buttonEl.style.display =\n",
              "          google.colab.kernel.accessAllowed ? 'block' : 'none';\n",
              "\n",
              "        async function convertToInteractive(key) {\n",
              "          const element = document.querySelector('#df-cd1807d0-edc9-4b87-b896-1469cc240bee');\n",
              "          const dataTable =\n",
              "            await google.colab.kernel.invokeFunction('convertToInteractive',\n",
              "                                                     [key], {});\n",
              "          if (!dataTable) return;\n",
              "\n",
              "          const docLinkHtml = 'Like what you see? Visit the ' +\n",
              "            '<a target=\"_blank\" href=https://colab.research.google.com/notebooks/data_table.ipynb>data table notebook</a>'\n",
              "            + ' to learn more about interactive tables.';\n",
              "          element.innerHTML = '';\n",
              "          dataTable['output_type'] = 'display_data';\n",
              "          await google.colab.output.renderOutput(dataTable, element);\n",
              "          const docLink = document.createElement('div');\n",
              "          docLink.innerHTML = docLinkHtml;\n",
              "          element.appendChild(docLink);\n",
              "        }\n",
              "      </script>\n",
              "    </div>\n",
              "  </div>\n",
              "  "
            ],
            "text/plain": [
              "                                CODE_GENDER  ...  INSTAL_DAYS_ENTRY_PAYMENT_SUM\n",
              "CODE_GENDER                        1.000000  ...                      -0.046584\n",
              "REGION_POPULATION_RELATIVE        -0.024271  ...                      -0.058242\n",
              "DAYS_BIRTH                        -0.211339  ...                       0.109745\n",
              "DAYS_EMPLOYED                     -0.075248  ...                       0.097788\n",
              "DAYS_REGISTRATION                 -0.094480  ...                       0.051607\n",
              "...                                     ...  ...                            ...\n",
              "INSTAL_AMT_PAYMENT_MAX             0.035883  ...                      -0.247097\n",
              "INSTAL_AMT_PAYMENT_MEAN            0.019104  ...                       0.092594\n",
              "INSTAL_AMT_PAYMENT_SUM             0.065976  ...                      -0.535042\n",
              "INSTAL_DAYS_ENTRY_PAYMENT_MEAN    -0.014424  ...                       0.483608\n",
              "INSTAL_DAYS_ENTRY_PAYMENT_SUM     -0.046584  ...                       1.000000\n",
              "\n",
              "[61 rows x 61 columns]"
            ]
          },
          "metadata": {},
          "execution_count": 111
        }
      ]
    },
    {
      "cell_type": "code",
      "source": [
        "len(train_df[train_df['CODE_GENDER']==0])"
      ],
      "metadata": {
        "colab": {
          "base_uri": "https://localhost:8080/"
        },
        "id": "83DyyOS7rgBs",
        "outputId": "4137726e-d339-4707-dc82-c970b9657b23"
      },
      "execution_count": 89,
      "outputs": [
        {
          "output_type": "execute_result",
          "data": {
            "text/plain": [
              "10840"
            ]
          },
          "metadata": {},
          "execution_count": 89
        }
      ]
    },
    {
      "cell_type": "code",
      "source": [
        "len(train_df[train_df['CODE_GENDER']==1])"
      ],
      "metadata": {
        "colab": {
          "base_uri": "https://localhost:8080/"
        },
        "id": "Kle4TMBOr2wx",
        "outputId": "0cfc7ad8-2c81-4701-9865-514cb19ac35d"
      },
      "execution_count": 90,
      "outputs": [
        {
          "output_type": "execute_result",
          "data": {
            "text/plain": [
              "25990"
            ]
          },
          "metadata": {},
          "execution_count": 90
        }
      ]
    },
    {
      "cell_type": "code",
      "source": [
        "df_corr.corr()"
      ],
      "metadata": {
        "colab": {
          "base_uri": "https://localhost:8080/",
          "height": 112
        },
        "id": "GPtoZqEiqLbL",
        "outputId": "78d7c0dc-e2d6-47da-9cad-be24c65ccfc3"
      },
      "execution_count": 79,
      "outputs": [
        {
          "output_type": "execute_result",
          "data": {
            "text/html": [
              "\n",
              "  <div id=\"df-0ed6c473-2687-4b27-a004-f97e1eca48f6\">\n",
              "    <div class=\"colab-df-container\">\n",
              "      <div>\n",
              "<style scoped>\n",
              "    .dataframe tbody tr th:only-of-type {\n",
              "        vertical-align: middle;\n",
              "    }\n",
              "\n",
              "    .dataframe tbody tr th {\n",
              "        vertical-align: top;\n",
              "    }\n",
              "\n",
              "    .dataframe thead th {\n",
              "        text-align: right;\n",
              "    }\n",
              "</style>\n",
              "<table border=\"1\" class=\"dataframe\">\n",
              "  <thead>\n",
              "    <tr style=\"text-align: right;\">\n",
              "      <th></th>\n",
              "      <th>CODE_GENDER</th>\n",
              "      <th>TARGET</th>\n",
              "    </tr>\n",
              "  </thead>\n",
              "  <tbody>\n",
              "    <tr>\n",
              "      <th>CODE_GENDER</th>\n",
              "      <td>1.000000</td>\n",
              "      <td>-0.075523</td>\n",
              "    </tr>\n",
              "    <tr>\n",
              "      <th>TARGET</th>\n",
              "      <td>-0.075523</td>\n",
              "      <td>1.000000</td>\n",
              "    </tr>\n",
              "  </tbody>\n",
              "</table>\n",
              "</div>\n",
              "      <button class=\"colab-df-convert\" onclick=\"convertToInteractive('df-0ed6c473-2687-4b27-a004-f97e1eca48f6')\"\n",
              "              title=\"Convert this dataframe to an interactive table.\"\n",
              "              style=\"display:none;\">\n",
              "        \n",
              "  <svg xmlns=\"http://www.w3.org/2000/svg\" height=\"24px\"viewBox=\"0 0 24 24\"\n",
              "       width=\"24px\">\n",
              "    <path d=\"M0 0h24v24H0V0z\" fill=\"none\"/>\n",
              "    <path d=\"M18.56 5.44l.94 2.06.94-2.06 2.06-.94-2.06-.94-.94-2.06-.94 2.06-2.06.94zm-11 1L8.5 8.5l.94-2.06 2.06-.94-2.06-.94L8.5 2.5l-.94 2.06-2.06.94zm10 10l.94 2.06.94-2.06 2.06-.94-2.06-.94-.94-2.06-.94 2.06-2.06.94z\"/><path d=\"M17.41 7.96l-1.37-1.37c-.4-.4-.92-.59-1.43-.59-.52 0-1.04.2-1.43.59L10.3 9.45l-7.72 7.72c-.78.78-.78 2.05 0 2.83L4 21.41c.39.39.9.59 1.41.59.51 0 1.02-.2 1.41-.59l7.78-7.78 2.81-2.81c.8-.78.8-2.07 0-2.86zM5.41 20L4 18.59l7.72-7.72 1.47 1.35L5.41 20z\"/>\n",
              "  </svg>\n",
              "      </button>\n",
              "      \n",
              "  <style>\n",
              "    .colab-df-container {\n",
              "      display:flex;\n",
              "      flex-wrap:wrap;\n",
              "      gap: 12px;\n",
              "    }\n",
              "\n",
              "    .colab-df-convert {\n",
              "      background-color: #E8F0FE;\n",
              "      border: none;\n",
              "      border-radius: 50%;\n",
              "      cursor: pointer;\n",
              "      display: none;\n",
              "      fill: #1967D2;\n",
              "      height: 32px;\n",
              "      padding: 0 0 0 0;\n",
              "      width: 32px;\n",
              "    }\n",
              "\n",
              "    .colab-df-convert:hover {\n",
              "      background-color: #E2EBFA;\n",
              "      box-shadow: 0px 1px 2px rgba(60, 64, 67, 0.3), 0px 1px 3px 1px rgba(60, 64, 67, 0.15);\n",
              "      fill: #174EA6;\n",
              "    }\n",
              "\n",
              "    [theme=dark] .colab-df-convert {\n",
              "      background-color: #3B4455;\n",
              "      fill: #D2E3FC;\n",
              "    }\n",
              "\n",
              "    [theme=dark] .colab-df-convert:hover {\n",
              "      background-color: #434B5C;\n",
              "      box-shadow: 0px 1px 3px 1px rgba(0, 0, 0, 0.15);\n",
              "      filter: drop-shadow(0px 1px 2px rgba(0, 0, 0, 0.3));\n",
              "      fill: #FFFFFF;\n",
              "    }\n",
              "  </style>\n",
              "\n",
              "      <script>\n",
              "        const buttonEl =\n",
              "          document.querySelector('#df-0ed6c473-2687-4b27-a004-f97e1eca48f6 button.colab-df-convert');\n",
              "        buttonEl.style.display =\n",
              "          google.colab.kernel.accessAllowed ? 'block' : 'none';\n",
              "\n",
              "        async function convertToInteractive(key) {\n",
              "          const element = document.querySelector('#df-0ed6c473-2687-4b27-a004-f97e1eca48f6');\n",
              "          const dataTable =\n",
              "            await google.colab.kernel.invokeFunction('convertToInteractive',\n",
              "                                                     [key], {});\n",
              "          if (!dataTable) return;\n",
              "\n",
              "          const docLinkHtml = 'Like what you see? Visit the ' +\n",
              "            '<a target=\"_blank\" href=https://colab.research.google.com/notebooks/data_table.ipynb>data table notebook</a>'\n",
              "            + ' to learn more about interactive tables.';\n",
              "          element.innerHTML = '';\n",
              "          dataTable['output_type'] = 'display_data';\n",
              "          await google.colab.output.renderOutput(dataTable, element);\n",
              "          const docLink = document.createElement('div');\n",
              "          docLink.innerHTML = docLinkHtml;\n",
              "          element.appendChild(docLink);\n",
              "        }\n",
              "      </script>\n",
              "    </div>\n",
              "  </div>\n",
              "  "
            ],
            "text/plain": [
              "             CODE_GENDER    TARGET\n",
              "CODE_GENDER     1.000000 -0.075523\n",
              "TARGET         -0.075523  1.000000"
            ]
          },
          "metadata": {},
          "execution_count": 79
        }
      ]
    },
    {
      "cell_type": "code",
      "source": [
        "cross_val_score(best_tree,X_train,y_train,cv=5,scoring ='precision')\n",
        "cross_val_score(best_tree,X_train,y_train,cv=5,scoring ='accuracy')\n",
        "feat_importance(bt2.feature_importances_,X_train.columns)"
      ],
      "metadata": {
        "colab": {
          "base_uri": "https://localhost:8080/",
          "height": 552
        },
        "id": "Gnt-J0gmvwoD",
        "outputId": "5ec1a3fc-4bc0-4b40-f2f2-240fc8a7997c"
      },
      "execution_count": 60,
      "outputs": [
        {
          "output_type": "execute_result",
          "data": {
            "text/plain": [
              "array([0.82802198, 0.85273632, 0.91523263, 0.82849315, 0.87446726])"
            ]
          },
          "metadata": {},
          "execution_count": 60
        },
        {
          "output_type": "execute_result",
          "data": {
            "text/plain": [
              "array([0.82796882, 0.82446809, 0.85794204, 0.82932869, 0.85409024])"
            ]
          },
          "metadata": {},
          "execution_count": 60
        },
        {
          "output_type": "execute_result",
          "data": {
            "text/plain": [
              "()"
            ]
          },
          "metadata": {},
          "execution_count": 60
        },
        {
          "output_type": "display_data",
          "data": {
            "image/png": "[encoded data removed]",
            "text/plain": [
              "<Figure size 576x576 with 1 Axes>"
            ]
          },
          "metadata": {
            "needs_background": "light"
          }
        }
      ]
    },
    {
      "cell_type": "code",
      "source": [
        "X_df = pd.DataFrame(X_train,columns = X_col)\n",
        "X_df_test = pd.DataFrame(X_test,columns = X_col)"
      ],
      "metadata": {
        "id": "1r4tCMHk6p58"
      },
      "execution_count": 70,
      "outputs": []
    },
    {
      "cell_type": "code",
      "source": [
        "X_df.drop(columns = 'CODE_GENDER',inplace = True)"
      ],
      "metadata": {
        "id": "_H5HQs6877pn"
      },
      "execution_count": 62,
      "outputs": []
    },
    {
      "cell_type": "code",
      "source": [
        "bt3 = best_tree.fit(X_df,y_train)"
      ],
      "metadata": {
        "id": "4TTzCwAv79ow"
      },
      "execution_count": 63,
      "outputs": []
    },
    {
      "cell_type": "code",
      "source": [
        "#cross_val_score(best_tree,X_df,y_train,cv=5,scoring ='precision')\n",
        "#cross_val_score(best_tree,X_df,y_train,cv=5,scoring ='accuracy')\n",
        "ft_name = feat_importance(bt3.feature_importances_,X_df.columns)"
      ],
      "metadata": {
        "colab": {
          "base_uri": "https://localhost:8080/",
          "height": 498
        },
        "id": "wDl6eH4o8RWN",
        "outputId": "eab96548-c3d5-4178-c3eb-227647c69b05"
      },
      "execution_count": 104,
      "outputs": [
        {
          "output_type": "display_data",
          "data": {
            "image/png": "[encoded data removed]",
            "text/plain": [
              "<Figure size 576x576 with 1 Axes>"
            ]
          },
          "metadata": {
            "needs_background": "light"
          }
        }
      ]
    },
    {
      "cell_type": "code",
      "source": [
        "y_pred_bt3 = bt3.predict(X_test)\n",
        "y_prob_bt3 = bt3.predict_proba(X_test)"
      ],
      "metadata": {
        "colab": {
          "base_uri": "https://localhost:8080/"
        },
        "id": "p3JvmuWtlQ3H",
        "outputId": "2c226230-2b4a-45c0-b470-ed0fa7a9b434"
      },
      "execution_count": 71,
      "outputs": [
        {
          "output_type": "stream",
          "name": "stderr",
          "text": [
            "/usr/local/lib/python3.7/dist-packages/sklearn/base.py:444: UserWarning: X has feature names, but DecisionTreeClassifier was fitted without feature names\n",
            "  f\"X has feature names, but {self.__class__.__name__} was fitted without\"\n",
            "/usr/local/lib/python3.7/dist-packages/sklearn/base.py:444: UserWarning: X has feature names, but DecisionTreeClassifier was fitted without feature names\n",
            "  f\"X has feature names, but {self.__class__.__name__} was fitted without\"\n"
          ]
        }
      ]
    },
    {
      "cell_type": "code",
      "source": [
        "prob_df = pd.DataFrame(y_prob_bt3)"
      ],
      "metadata": {
        "id": "_zp12pIXl3JK"
      },
      "execution_count": 75,
      "outputs": []
    },
    {
      "cell_type": "code",
      "source": [
        "prob_df.head()"
      ],
      "metadata": {
        "colab": {
          "base_uri": "https://localhost:8080/",
          "height": 206
        },
        "id": "qudCu3PomX22",
        "outputId": "57a15cdc-ddab-4fd5-bb31-c2440d5537b6"
      },
      "execution_count": 112,
      "outputs": [
        {
          "output_type": "execute_result",
          "data": {
            "text/html": [
              "\n",
              "  <div id=\"df-328790a9-b4d6-4d69-b2fc-1efadc5a7dfe\">\n",
              "    <div class=\"colab-df-container\">\n",
              "      <div>\n",
              "<style scoped>\n",
              "    .dataframe tbody tr th:only-of-type {\n",
              "        vertical-align: middle;\n",
              "    }\n",
              "\n",
              "    .dataframe tbody tr th {\n",
              "        vertical-align: top;\n",
              "    }\n",
              "\n",
              "    .dataframe thead th {\n",
              "        text-align: right;\n",
              "    }\n",
              "</style>\n",
              "<table border=\"1\" class=\"dataframe\">\n",
              "  <thead>\n",
              "    <tr style=\"text-align: right;\">\n",
              "      <th></th>\n",
              "      <th>0</th>\n",
              "      <th>1</th>\n",
              "    </tr>\n",
              "  </thead>\n",
              "  <tbody>\n",
              "    <tr>\n",
              "      <th>0</th>\n",
              "      <td>0.795964</td>\n",
              "      <td>0.204036</td>\n",
              "    </tr>\n",
              "    <tr>\n",
              "      <th>1</th>\n",
              "      <td>0.895197</td>\n",
              "      <td>0.104803</td>\n",
              "    </tr>\n",
              "    <tr>\n",
              "      <th>2</th>\n",
              "      <td>0.961115</td>\n",
              "      <td>0.038885</td>\n",
              "    </tr>\n",
              "    <tr>\n",
              "      <th>3</th>\n",
              "      <td>0.968575</td>\n",
              "      <td>0.031425</td>\n",
              "    </tr>\n",
              "    <tr>\n",
              "      <th>4</th>\n",
              "      <td>0.770408</td>\n",
              "      <td>0.229592</td>\n",
              "    </tr>\n",
              "  </tbody>\n",
              "</table>\n",
              "</div>\n",
              "      <button class=\"colab-df-convert\" onclick=\"convertToInteractive('df-328790a9-b4d6-4d69-b2fc-1efadc5a7dfe')\"\n",
              "              title=\"Convert this dataframe to an interactive table.\"\n",
              "              style=\"display:none;\">\n",
              "        \n",
              "  <svg xmlns=\"http://www.w3.org/2000/svg\" height=\"24px\"viewBox=\"0 0 24 24\"\n",
              "       width=\"24px\">\n",
              "    <path d=\"M0 0h24v24H0V0z\" fill=\"none\"/>\n",
              "    <path d=\"M18.56 5.44l.94 2.06.94-2.06 2.06-.94-2.06-.94-.94-2.06-.94 2.06-2.06.94zm-11 1L8.5 8.5l.94-2.06 2.06-.94-2.06-.94L8.5 2.5l-.94 2.06-2.06.94zm10 10l.94 2.06.94-2.06 2.06-.94-2.06-.94-.94-2.06-.94 2.06-2.06.94z\"/><path d=\"M17.41 7.96l-1.37-1.37c-.4-.4-.92-.59-1.43-.59-.52 0-1.04.2-1.43.59L10.3 9.45l-7.72 7.72c-.78.78-.78 2.05 0 2.83L4 21.41c.39.39.9.59 1.41.59.51 0 1.02-.2 1.41-.59l7.78-7.78 2.81-2.81c.8-.78.8-2.07 0-2.86zM5.41 20L4 18.59l7.72-7.72 1.47 1.35L5.41 20z\"/>\n",
              "  </svg>\n",
              "      </button>\n",
              "      \n",
              "  <style>\n",
              "    .colab-df-container {\n",
              "      display:flex;\n",
              "      flex-wrap:wrap;\n",
              "      gap: 12px;\n",
              "    }\n",
              "\n",
              "    .colab-df-convert {\n",
              "      background-color: #E8F0FE;\n",
              "      border: none;\n",
              "      border-radius: 50%;\n",
              "      cursor: pointer;\n",
              "      display: none;\n",
              "      fill: #1967D2;\n",
              "      height: 32px;\n",
              "      padding: 0 0 0 0;\n",
              "      width: 32px;\n",
              "    }\n",
              "\n",
              "    .colab-df-convert:hover {\n",
              "      background-color: #E2EBFA;\n",
              "      box-shadow: 0px 1px 2px rgba(60, 64, 67, 0.3), 0px 1px 3px 1px rgba(60, 64, 67, 0.15);\n",
              "      fill: #174EA6;\n",
              "    }\n",
              "\n",
              "    [theme=dark] .colab-df-convert {\n",
              "      background-color: #3B4455;\n",
              "      fill: #D2E3FC;\n",
              "    }\n",
              "\n",
              "    [theme=dark] .colab-df-convert:hover {\n",
              "      background-color: #434B5C;\n",
              "      box-shadow: 0px 1px 3px 1px rgba(0, 0, 0, 0.15);\n",
              "      filter: drop-shadow(0px 1px 2px rgba(0, 0, 0, 0.3));\n",
              "      fill: #FFFFFF;\n",
              "    }\n",
              "  </style>\n",
              "\n",
              "      <script>\n",
              "        const buttonEl =\n",
              "          document.querySelector('#df-328790a9-b4d6-4d69-b2fc-1efadc5a7dfe button.colab-df-convert');\n",
              "        buttonEl.style.display =\n",
              "          google.colab.kernel.accessAllowed ? 'block' : 'none';\n",
              "\n",
              "        async function convertToInteractive(key) {\n",
              "          const element = document.querySelector('#df-328790a9-b4d6-4d69-b2fc-1efadc5a7dfe');\n",
              "          const dataTable =\n",
              "            await google.colab.kernel.invokeFunction('convertToInteractive',\n",
              "                                                     [key], {});\n",
              "          if (!dataTable) return;\n",
              "\n",
              "          const docLinkHtml = 'Like what you see? Visit the ' +\n",
              "            '<a target=\"_blank\" href=https://colab.research.google.com/notebooks/data_table.ipynb>data table notebook</a>'\n",
              "            + ' to learn more about interactive tables.';\n",
              "          element.innerHTML = '';\n",
              "          dataTable['output_type'] = 'display_data';\n",
              "          await google.colab.output.renderOutput(dataTable, element);\n",
              "          const docLink = document.createElement('div');\n",
              "          docLink.innerHTML = docLinkHtml;\n",
              "          element.appendChild(docLink);\n",
              "        }\n",
              "      </script>\n",
              "    </div>\n",
              "  </div>\n",
              "  "
            ],
            "text/plain": [
              "          0         1\n",
              "0  0.795964  0.204036\n",
              "1  0.895197  0.104803\n",
              "2  0.961115  0.038885\n",
              "3  0.968575  0.031425\n",
              "4  0.770408  0.229592"
            ]
          },
          "metadata": {},
          "execution_count": 112
        }
      ]
    },
    {
      "cell_type": "code",
      "source": [
        "cross_val_score(best_tree,X_df,y_train,cv=2)"
      ],
      "metadata": {
        "colab": {
          "base_uri": "https://localhost:8080/"
        },
        "id": "KZFoig5H8gfJ",
        "outputId": "44430b3f-9b62-49d2-b928-66a08c32cf3b"
      },
      "execution_count": 65,
      "outputs": [
        {
          "output_type": "execute_result",
          "data": {
            "text/plain": [
              "array([0.81765159, 0.82820983])"
            ]
          },
          "metadata": {},
          "execution_count": 65
        }
      ]
    },
    {
      "cell_type": "code",
      "source": [
        "#X_tr,X_te,y_tr,yte = train_test_split(X_li+ght,y,train_size=0.8)\n",
        "#bt4 = best_tree.fit(X_tr,y_tr)\n",
        "#cross_val_score(best_tree,X_tr,y_tr,cv=5,scoring ='precision')\n",
        "#feat_importance(bt4.feature_importances_,X_light_col)"
      ],
      "metadata": {
        "colab": {
          "base_uri": "https://localhost:8080/",
          "height": 516
        },
        "id": "YNpE2KxtCF8E",
        "outputId": "df3715c5-6543-412e-a9d8-ec108cb91be3"
      },
      "execution_count": 66,
      "outputs": [
        {
          "output_type": "execute_result",
          "data": {
            "text/plain": [
              "array([0.19298246, 0.20408163, 0.26785714, 0.23893805, 0.34782609])"
            ]
          },
          "metadata": {},
          "execution_count": 66
        },
        {
          "output_type": "execute_result",
          "data": {
            "text/plain": [
              "()"
            ]
          },
          "metadata": {},
          "execution_count": 66
        },
        {
          "output_type": "display_data",
          "data": {
            "image/png": "[encoded data removed]",
            "text/plain": [
              "<Figure size 576x576 with 1 Axes>"
            ]
          },
          "metadata": {
            "needs_background": "light"
          }
        }
      ]
    },
    {
      "cell_type": "code",
      "source": [
        "#X_tr,X_te,y_tr,yte = train_test_split(X,y,train_size=0.8)\n",
        "#bt5 = best_tree.fit(X_tr,y_tr)\n",
        "#cross_val_score(best_tree,X_tr,y_tr,cv=5,scoring='precision')\n",
        "#feat_importance(bt5.feature_importances_,X_light_col)"
      ],
      "metadata": {
        "id": "vnf12drDDMqP"
      },
      "execution_count": 67,
      "outputs": []
    },
    {
      "cell_type": "code",
      "source": [
        "#cross_val_score(best_tree,X_ul,y,cv=5,scoring ='precision')\n",
        "#cross_val_score(best_tree,X_ul,y,cv=5,scoring ='accuracy')\n",
        "#bt6 = best_tree.fit(X_ul,y)\n",
        "#feat_importance(bt6.feature_importances_,X_train_l.columns)"
      ],
      "metadata": {
        "id": "WsN-9t1EDaNs"
      },
      "execution_count": 68,
      "outputs": []
    },
    {
      "cell_type": "code",
      "source": [
        "#cross_val_score(best_tree,X_u,y,cv=5,scoring ='precision')\n",
        "#cross_val_score(best_tree,X_u,y,cv=5,scoring ='accuracy')\n",
        "#bt7 = best_tree.fit(X_u,y)\n",
        "#feat_importance(bt7.feature_importances_,X_train_l.columns)"
      ],
      "metadata": {
        "id": "llgQiInAD1HM"
      },
      "execution_count": 69,
      "outputs": []
    },
    {
      "cell_type": "code",
      "source": [
        ""
      ],
      "metadata": {
        "id": "QEXydg5JcmtS"
      },
      "execution_count": 69,
      "outputs": []
    }
  ]
}